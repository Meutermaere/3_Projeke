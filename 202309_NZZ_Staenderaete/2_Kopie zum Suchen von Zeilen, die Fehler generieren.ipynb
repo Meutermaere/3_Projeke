{
 "cells": [
  {
   "cell_type": "code",
   "execution_count": 1,
   "id": "52ad3f8a",
   "metadata": {},
   "outputs": [],
   "source": [
    "import re"
   ]
  },
  {
   "cell_type": "code",
   "execution_count": 2,
   "id": "b92d0155",
   "metadata": {},
   "outputs": [
    {
     "name": "stdout",
     "output_type": "stream",
     "text": [
      "468\n",
      "7. Dezember 2021 1235 Ständerat 19.4443\n",
      "19.4445\n",
      "Motion Schaffner Barbara.\n",
      "Massnahmenplan zur Steigerung\n",
      "des Anteils des öffentlichen Verkehrs\n",
      "am Gesamtverkehr\n",
      "Motion Schaffner Barbara.\n",
      "Plan d'action pour augmenter\n",
      "la part des transports publics\n",
      "dans le traﬁc global\n",
      "Nationalrat/Conseil national 19.06.20\n",
      "Nationalrat/Conseil national 17.06.21\n",
      "Ständerat/Conseil desEtats 07.12.21\n",
      "19.4446\n",
      "Motion Töngi Michael.\n",
      "Massnahmenplan zur Steigerung\n",
      "des Anteils des öffentlichen Verkehrs\n",
      "am Gesamtverkehr\n",
      "Motion Töngi Michael.\n",
      "Plan d'action pour augmenter\n",
      "la part des transports publics\n",
      "dans le traﬁc global\n",
      "Nationalrat/Conseil national 19.06.20\n",
      "Nationalrat/Conseil national 17.06.21\n",
      "Ständerat/Conseil desEtats 07.12.21\n",
      "Antrag der Mehrheit\n",
      "Annahme der Motionen\n",
      "Antrag der Minderheit\n",
      "(Wicki, Knecht, Salzmann)\n",
      "Ablehnung der Motionen\n",
      "Proposition de la majorité\n",
      "Adopter les motions\n",
      "Proposition de la minorité\n",
      "(Wicki, Knecht, Salzmann)\n",
      "Rejeter les motions\n",
      "Präsident (Hefti Thomas, Präsident): Sie haben einen\n",
      "schriftlichen Bericht der Kommission erhalten. Der Bundes-\n",
      "rat beantragt die Annahme der Motionen.\n",
      "Engler Stefan (M-E, GR), für die Kommission: Diese vier\n",
      "gleichlautenden Motionen wollen den Bundesrat beauftra-\n",
      "gen, dem Parlament einen Massnahmenplan zur Steigerung\n",
      "des Anteils des öffentlichen Verkehrs am Gesamtverkehr zu\n",
      "unterbreiten. Die Mehrheit Ihrer Kommission beantragt Ihnen,\n",
      "diesen Motionen zuzustimmen, wie es der Nationalrat bereits\n",
      "gemacht hat. Eine Minderheit, die das anschliessend begrün-\n",
      "det, beantragt Ihnen die Ablehnung der Motionen. Der Bun-\n",
      "desrat ist bereit, diese Motionen entgegenzunehmen. Im Na-\n",
      "tionalrat wurden diese vier Motionen mit 110 zu 77, 106 zu\n",
      "82, 103 zu 86 und 102 zu 86 Stimmen angenommen.\n",
      "Worum geht es? Es geht darum, den Anteil des öffentli-\n",
      "chen Verkehrs am gesamten Mobilitätssystem zu vergrös-\n",
      "sern. Hier treffen sich zwei wichtige Themen: das Verkehrs-\n",
      "wachstum und der Klimaschutz. Beim Verkehr wird bis 2040\n",
      "weiterhin ein starkes Wachstum von 25 Prozent prognosti-\n",
      "ziert. Dieser Verkehr soll auf möglichst efﬁziente und umwelt-freundliche Weise bewältigt werden, damit auch die Klima-\n",
      "schutzziele erreicht werden können. Dafür wird der öffentli-\n",
      "che Verkehr eine wichtige Rolle tragen müssen. Dies tut er\n",
      "aber nicht alleine, sondern es sind auch Massnahmen in an-\n",
      "deren Politikbereichen gefragt.\n",
      "Seit den grossen Investitionen bei Bahn 2000 sind die Stei-\n",
      "gerungen beim Modalsplit überblickbar; der Anteil des Schie-\n",
      "nenverkehrs ist über die letzten Jahrzehnte von rund 15 auf\n",
      "19 Prozent angestiegen. Mit dem Ausbauschritt 2035 erwar-\n",
      "tet man beim Bahnanteil eine Zunahme von 19 auf 22 Pro-\n",
      "zent.\n",
      "Die Mobilität ist in den letzten Jahren generell sehr stark\n",
      "gestiegen, sodass ein grosser Teil des Ausbaus des Schie-\n",
      "nennetzes und des Bahnangebotes nur schon durch dieses\n",
      "Wachstum absorbiert worden ist. Das erklärt auch, weshalb\n",
      "der öffentliche Verkehr relativ moderate Marktanteilsgewinne\n",
      "verzeichnen konnte.\n",
      "Ihre Kommissionsmehrheit unterstützt die Forderung dieser\n",
      "vier Motionen. Es ist an der Zeit, jetzt in die Zukunft hinausrei-\n",
      "chende Massnahmen, die eine Erhöhung des Modalsplits zur\n",
      "Folge haben, zu prüfen und abzuwägen. Der Verband öffent-\n",
      "licher Verkehr der Schweiz hat dazu die Studie \"Perspekti-\n",
      "ven zur Erhöhung des Modalsplits des öffentlichen Verkehrs\"\n",
      "erarbeiten lassen. Er spricht in dieser Studie die relevanten\n",
      "Themen und Fragestellungen an, wonach die Erhöhung des\n",
      "Nutzens des öffentlichen Verkehrs in den kommenden Jahren\n",
      "ein zentrales Thema darstellen sollte und sich der Mobilität\n",
      "der Zukunft verschiedene Herausforderungen stellen. Stich-\n",
      "wortartig werden genannt: die demograﬁschen Herausforde-\n",
      "rungen, bedingt durch ein allgemeines Bevölkerungswachs-\n",
      "tum, welches sich jedoch auf bestimmte Kantone und Städ-\n",
      "te konzentriert; generationenbezogene Herausforderungen\n",
      "aufgrund einer alternden, aber mobil bleibenden Bevölke-\n",
      "rung; raumplanerische Herausforderungen aufgrund zuneh-\n",
      "mend attraktiver Agglomerationen, deren Wachstumspoten-\n",
      "zial vor allem im Agglomerationsgürtel liegt. Zu nennen sind\n",
      "ferner aber auch umweltpolitische Herausforderungen auf-\n",
      "grund von Emissionsreduktionszielen, die einen Übergang zu\n",
      "weniger Treibhausgas verursachenden Verkehrsträgern er-\n",
      "fordern, sowie letztlich auch technische und technologische\n",
      "Herausforderungen aufgrund neuer Systeme und Instrumen-\n",
      "te. Insofern hat der öffentliche Verkehr ohne Zweifel eine gute\n",
      "Zukunft.\n",
      "Künftig wird die Wahl des Verkehrsmittels aber in einem ver-\n",
      "änderten Kontext getroffen werden, wobei Faktoren wie Qua-\n",
      "lität, Zuverlässigkeit des Angebots, Fahrzeit, Komfortniveau\n",
      "und Kosten entscheidend sein werden. In diesem Umfeld\n",
      "skizziert diese Studie 38 interessante Massnahmen, die dar-\n",
      "auf hin abzuwägen sind, ob sie effektiv einen Beitrag dazu\n",
      "leisten, den Modalsplit im öffentlichen Verkehr zu erhöhen.\n",
      "Die Kommissionsmehrheit ist davon überzeugt, dass die Mo-\n",
      "bilität in Zukunft klimaneutral bewältigt werden muss und der\n",
      "öffentliche Verkehr dabei eine eminent wichtige Rolle spielt.\n",
      "Entsprechend ist es auch gerechtfertigt, in die Zukunft zu\n",
      "denken. Das ist es, was die vier Motionen verlangen – nicht\n",
      "mehr und nicht weniger.\n",
      "Deshalb beantragt die Mehrheit die Annahme dieser vier Mo-\n",
      "tionen.\n",
      "Wicki Hans (RL, NW): Vorab ist grundsätzlich einmal festzu-\n",
      "halten, dass die Entwicklung im öffentlichen Verkehr in den\n",
      "letzten Jahren, und da spreche ich natürlich vornehmlich die\n",
      "Jahre vor Corona an, sehr positiv war. Die bereits geplanten\n",
      "Massnahmen, etwa der Ausbauschritt 2035, werden hier eine\n",
      "weitere Steigerung des öffentlichen Verkehrsanteils bringen.\n",
      "Somit entwickelt sich die Thematik schon jetzt in die Rich-\n",
      "tung, welche den Motionären entsprechend vorschwebt.\n",
      "Allerdings muss man den Menschen und den Institutionen\n",
      "auch die Zeit geben, die sie für diese Entwicklung benöti-\n",
      "gen, umso mehr, als sich diese Motionen nur auf einen be-\n",
      "stimmten Aspekt der Mobilität fokussieren. Zur Erreichung\n",
      "der Klimaziele, wie das explizit gefordert wird, ist aber ein\n",
      "gesamtheitlicher Ansatz notwendig. Das zeigen auch kurz-\n",
      "fristig eingetretene Strömungen wie etwa die Pandemie der\n",
      "letzten Jahre. Entsprechend bringt es nur wenig, die Verwal-\n",
      "tung einfach zu beschäftigen, umso mehr, als für zusätzli-\n",
      "Amtliches Bulletin der Bundesversammlung\n",
      "\n"
     ]
    }
   ],
   "source": [
    "# importing all the required modules\n",
    "import PyPDF2\n",
    "\n",
    "# creating a pdf reader object\n",
    "reader = PyPDF2.PdfReader('Sessionsprotokolle/SR_5112_2112.pdf')\n",
    "\n",
    "# print the number of pages in pdf file\n",
    "print(len(reader.pages))\n",
    "\n",
    "# print the text of the first page\n",
    "print(reader.pages[180].extract_text())"
   ]
  },
  {
   "cell_type": "code",
   "execution_count": 5,
   "id": "2032ef14",
   "metadata": {},
   "outputs": [],
   "source": [
    "seite = reader.pages[412].extract_text()"
   ]
  },
  {
   "cell_type": "code",
   "execution_count": 6,
   "id": "60bc1b7a",
   "metadata": {},
   "outputs": [
    {
     "data": {
      "text/plain": [
       "\"Geschäft / Objet:\\n19.498-1 Pa. Iv. Minder. Öffentliche und transparente Abstimmungen im Ständerat\\nGeschäftsreglement des Ständerates (GRS) (Namensliste bei allen Abstimmungen)\\nIv. pa. Minder. Pour des votes publics et transparents au Conseil des États\\nRèglement du Conseil des États (RCE) (Liste nominative pour chaque vote)\\nIv. pa. Minder. Votazioni pubbliche e trasparenti in Consiglio degli Stati\\nRegolamento del Consiglio degli Stati (RCS) (Elenco nominativo per ogni votazione)\\nGegenstand / Objet du vote: Schlussabstimmung\\nAbstimmung vom / Vote du: 17.12.2021 08:35:29\\n \\nBauer Philippe - NE Knecht Hansjörg + AG\\nBaume-Schneider Elisabeth + JU Kuprecht Alex - SZ\\nBischof Pirmin - SO Maret Marianne + VS\\nBurkart Thierry - AG Mazzone Lisa + GE\\nCarobbio Guscetti Marina + TI Michel Matthias + ZG\\nCaroni Andrea + AR Minder Thomas + SH\\nChassot Isabelle + FR Müller Damian - LU\\nChiesa Marco + TI Noser Ruedi 0 ZH\\nDittli Josef - UR Rechsteiner Paul + SG\\nEngler Stefan + GR Reichmuth Othmar + SZ\\nEttlin Erich + OW Rieder Beat + VS\\nFässler Daniel - AI Salzmann Werner + BE\\nFrançais Olivier + VD Schmid Martin + GR\\nGapany Johanna + FR Sommaruga Carlo + GE\\nGermann Hannes + SH Stark Jakob + TG\\nGmür-\\nSchönenbergerAndrea + LU Stöckli Hans + BE\\nGraf Maya + BL Thorens Goumaz Adèle + VD\\nHäberli-Koller Brigitte = TG Vara Céline + NE\\nHefti Thomas P GL Wicki Hans - NW\\nHegglin Peter + ZG Würth Benedikt + SG\\nHerzog Eva - BS Zanetti Roberto + SO\\nJositsch Daniel - ZH Z'graggen Heidi + UR\\nJuillard Charles = JU Zopfi Mathias + GL\\n \\nLegende Tot.\\n+ Ja / oui / si 32\\n- Nein / non / no 10\\n= Enth. / abst. / ast. 2\\nE Enschuldigt gem. Art. 44a Abs. 6 GRS / excusé sel. art. 44a al. 6 RCE / scusato se. art. 44a cpv. 6 RCS 0\\n0 Hat nicht teilgenommen / n’a pas participé au vote / non ha partecipato al voto 1\\nP Die Präsidentin/der Präsident stimmt nicht / La présidente/le président ne prend pas part au vote / La/il\\npresidente non participa al voto1\\n \\nBedeutung Ja / Signification du oui: Annahme des Geschäftsreglements\\nBedeutung Nein / Signification du non: Ablehnung 19.498-1 Ref. 4933\\nSTÄNDERAT CONSEIL DES ETATS\\nAbstimmungsprotokoll Procès-verbal de vote\\nSTÄNDERAT, Elektronisches Abstimmungssystem CONSEIL DES ETATS, système de vote électronique\\n17.12.2021 08:35:51 identif. : 51.12 / 17.12.2021 08:35:29 Ref. : Erfassung-Nr. : 4933\""
      ]
     },
     "execution_count": 6,
     "metadata": {},
     "output_type": "execute_result"
    }
   ],
   "source": [
    "seite"
   ]
  },
  {
   "cell_type": "code",
   "execution_count": 7,
   "id": "3b622d5a",
   "metadata": {},
   "outputs": [],
   "source": [
    "#So finde ich heraus, ob es sich um ein Abstimmungsprotokoll handelt (Text beginnt mit \"Geschäft\"):"
   ]
  },
  {
   "cell_type": "code",
   "execution_count": 8,
   "id": "99fd9a4a",
   "metadata": {},
   "outputs": [
    {
     "data": {
      "text/plain": [
       "True"
      ]
     },
     "execution_count": 8,
     "metadata": {},
     "output_type": "execute_result"
    }
   ],
   "source": [
    "seite[:8] == \"Geschäft\""
   ]
  },
  {
   "cell_type": "code",
   "execution_count": 9,
   "id": "b5dc5ea2",
   "metadata": {},
   "outputs": [],
   "source": [
    "# Jetzt versuche ich mit Regex, die Nummer und den Titel anzusteuern:"
   ]
  },
  {
   "cell_type": "code",
   "execution_count": 10,
   "id": "4630e857",
   "metadata": {},
   "outputs": [],
   "source": [
    "# Zuerst splitten wir das Dokument >>> Objekt Sollte jetzt immer Geschäft und Deutschen Titel enthalten"
   ]
  },
  {
   "cell_type": "code",
   "execution_count": 11,
   "id": "afe65384",
   "metadata": {},
   "outputs": [
    {
     "data": {
      "text/plain": [
       "['Geschäft / Objet:',\n",
       " '19.498-1 Pa. Iv. Minder. Öffentliche und transparente Abstimmungen im Ständerat',\n",
       " 'Geschäftsreglement des Ständerates (GRS) (Namensliste bei allen Abstimmungen)',\n",
       " 'Iv. pa. Minder. Pour des votes publics et transparents au Conseil des États',\n",
       " 'Règlement du Conseil des États (RCE) (Liste nominative pour chaque vote)',\n",
       " 'Iv. pa. Minder. Votazioni pubbliche e trasparenti in Consiglio degli Stati',\n",
       " 'Regolamento del Consiglio degli Stati (RCS) (Elenco nominativo per ogni votazione)',\n",
       " 'Gegenstand / Objet du vote: Schlussabstimmung',\n",
       " 'Abstimmung vom / Vote du: 17.12.2021 08:35:29',\n",
       " ' ',\n",
       " 'Bauer Philippe - NE Knecht Hansjörg + AG',\n",
       " 'Baume-Schneider Elisabeth + JU Kuprecht Alex - SZ',\n",
       " 'Bischof Pirmin - SO Maret Marianne + VS',\n",
       " 'Burkart Thierry - AG Mazzone Lisa + GE',\n",
       " 'Carobbio Guscetti Marina + TI Michel Matthias + ZG',\n",
       " 'Caroni Andrea + AR Minder Thomas + SH',\n",
       " 'Chassot Isabelle + FR Müller Damian - LU',\n",
       " 'Chiesa Marco + TI Noser Ruedi 0 ZH',\n",
       " 'Dittli Josef - UR Rechsteiner Paul + SG',\n",
       " 'Engler Stefan + GR Reichmuth Othmar + SZ',\n",
       " 'Ettlin Erich + OW Rieder Beat + VS',\n",
       " 'Fässler Daniel - AI Salzmann Werner + BE',\n",
       " 'Français Olivier + VD Schmid Martin + GR',\n",
       " 'Gapany Johanna + FR Sommaruga Carlo + GE',\n",
       " 'Germann Hannes + SH Stark Jakob + TG',\n",
       " 'Gmür-',\n",
       " 'SchönenbergerAndrea + LU Stöckli Hans + BE',\n",
       " 'Graf Maya + BL Thorens Goumaz Adèle + VD',\n",
       " 'Häberli-Koller Brigitte = TG Vara Céline + NE',\n",
       " 'Hefti Thomas P GL Wicki Hans - NW',\n",
       " 'Hegglin Peter + ZG Würth Benedikt + SG',\n",
       " 'Herzog Eva - BS Zanetti Roberto + SO',\n",
       " \"Jositsch Daniel - ZH Z'graggen Heidi + UR\",\n",
       " 'Juillard Charles = JU Zopfi Mathias + GL',\n",
       " ' ',\n",
       " 'Legende Tot.',\n",
       " '+ Ja / oui / si 32',\n",
       " '- Nein / non / no 10',\n",
       " '= Enth. / abst. / ast. 2',\n",
       " 'E Enschuldigt gem. Art. 44a Abs. 6 GRS / excusé sel. art. 44a al. 6 RCE / scusato se. art. 44a cpv. 6 RCS 0',\n",
       " '0 Hat nicht teilgenommen / n’a pas participé au vote / non ha partecipato al voto 1',\n",
       " 'P Die Präsidentin/der Präsident stimmt nicht / La présidente/le président ne prend pas part au vote / La/il',\n",
       " 'presidente non participa al voto1',\n",
       " ' ',\n",
       " 'Bedeutung Ja / Signification du oui: Annahme des Geschäftsreglements',\n",
       " 'Bedeutung Nein / Signification du non: Ablehnung 19.498-1 Ref. 4933',\n",
       " 'STÄNDERAT CONSEIL DES ETATS',\n",
       " 'Abstimmungsprotokoll Procès-verbal de vote',\n",
       " 'STÄNDERAT, Elektronisches Abstimmungssystem CONSEIL DES ETATS, système de vote électronique',\n",
       " '17.12.2021 08:35:51 identif. : 51.12 / 17.12.2021 08:35:29 Ref. : Erfassung-Nr. : 4933']"
      ]
     },
     "execution_count": 11,
     "metadata": {},
     "output_type": "execute_result"
    }
   ],
   "source": [
    "seite.split(\"\\n\")"
   ]
  },
  {
   "cell_type": "code",
   "execution_count": 12,
   "id": "ae1d6511",
   "metadata": {},
   "outputs": [],
   "source": [
    "datenliste = seite.split(\"\\n\")"
   ]
  },
  {
   "cell_type": "code",
   "execution_count": 13,
   "id": "d476cc2e",
   "metadata": {},
   "outputs": [],
   "source": [
    "#So finde ich die Zeile, in der das Geschäft ist (nämlich die folgende):"
   ]
  },
  {
   "cell_type": "code",
   "execution_count": 16,
   "id": "e7ad2906",
   "metadata": {},
   "outputs": [],
   "source": [
    "for zeile in range(len(datenliste)):\n",
    "    if \"Geschäft / Objet:\" in datenliste[zeile]:\n",
    "        geschäftszeile = datenliste[(zeile+1)]"
   ]
  },
  {
   "cell_type": "code",
   "execution_count": 17,
   "id": "359bf4d0",
   "metadata": {},
   "outputs": [
    {
     "data": {
      "text/plain": [
       "'19.498-1 Pa. Iv. Minder. Öffentliche und transparente Abstimmungen im Ständerat'"
      ]
     },
     "execution_count": 17,
     "metadata": {},
     "output_type": "execute_result"
    }
   ],
   "source": [
    "geschäftszeile"
   ]
  },
  {
   "cell_type": "code",
   "execution_count": 182,
   "id": "df3b9b8a",
   "metadata": {},
   "outputs": [],
   "source": [
    "#und jetzt nutzen wir Regex, um die Nummer rauszulesen:"
   ]
  },
  {
   "cell_type": "code",
   "execution_count": 183,
   "id": "edcc504f",
   "metadata": {},
   "outputs": [],
   "source": [
    "regex_gnummer = r\"(\\d\\d\\.\\S+)\"\n",
    "#das bedeutet: zwei Zahlen, gefolgt von einem Punkt, dann beliebig viele (+) Nicht-Leerschläge"
   ]
  },
  {
   "cell_type": "code",
   "execution_count": 184,
   "id": "b8c899de",
   "metadata": {},
   "outputs": [],
   "source": [
    "gnummer = re.findall(regex_gnummer, geschäftszeile)"
   ]
  },
  {
   "cell_type": "code",
   "execution_count": 185,
   "id": "f0db184f",
   "metadata": {},
   "outputs": [
    {
     "data": {
      "text/plain": [
       "['20.008-2']"
      ]
     },
     "execution_count": 185,
     "metadata": {},
     "output_type": "execute_result"
    }
   ],
   "source": [
    "gnummer"
   ]
  },
  {
   "cell_type": "code",
   "execution_count": 186,
   "id": "c3905cf8",
   "metadata": {},
   "outputs": [],
   "source": [
    "#das, was übrig bleibt, wenn man die Nummer wegschneidet, ist folglich das Geschäft"
   ]
  },
  {
   "cell_type": "code",
   "execution_count": 187,
   "id": "493ac894",
   "metadata": {},
   "outputs": [
    {
     "data": {
      "text/plain": [
       "'Aussenwirtschaftspolitik 2019. Bericht'"
      ]
     },
     "execution_count": 187,
     "metadata": {},
     "output_type": "execute_result"
    }
   ],
   "source": [
    "geschäft = geschäftszeile.strip(str(gnummer)+\" \")\n",
    "geschäft"
   ]
  },
  {
   "cell_type": "code",
   "execution_count": 188,
   "id": "17d5d7c4",
   "metadata": {},
   "outputs": [],
   "source": [
    "#Jetzt brauche wir noch das Datum"
   ]
  },
  {
   "cell_type": "code",
   "execution_count": 189,
   "id": "4e29b20a",
   "metadata": {},
   "outputs": [],
   "source": [
    "regex_datum = r\"\\d\\d\\.\\d\\d\\.\\d\\d\\d\\d \\d\\d\\:\\d\\d\\:\\d\\d\"\n",
    "\n",
    "for zeile in range(len(datenliste)):\n",
    "    if \"Abstimmung vom\" in datenliste[zeile]:\n",
    "        datum = re.findall(regex_datum, datenliste[zeile])\n",
    "        "
   ]
  },
  {
   "cell_type": "code",
   "execution_count": 190,
   "id": "f6d52177",
   "metadata": {},
   "outputs": [],
   "source": [
    "#So holen wir bei Bedarf den Gegenstand, um das Geschäft zu spezifizieren: "
   ]
  },
  {
   "cell_type": "code",
   "execution_count": 191,
   "id": "6bf2bb3f",
   "metadata": {},
   "outputs": [],
   "source": [
    "for zeile in range(len(datenliste)):\n",
    "    if \"Gegenstand\" in datenliste[zeile]:\n",
    "        gegenstand = str(datenliste[zeile]).replace(\"Gegenstand / Objet du vote: \",\"\")\n",
    "        "
   ]
  },
  {
   "cell_type": "code",
   "execution_count": 193,
   "id": "007a716d",
   "metadata": {},
   "outputs": [
    {
     "data": {
      "text/plain": [
       "'Gesamtabstimmung'"
      ]
     },
     "execution_count": 193,
     "metadata": {},
     "output_type": "execute_result"
    }
   ],
   "source": [
    "gegenstand"
   ]
  },
  {
   "cell_type": "code",
   "execution_count": 194,
   "id": "13f19ae5",
   "metadata": {},
   "outputs": [],
   "source": [
    "#So holen wir bei Bedarf das Abstimmungsergebnis:"
   ]
  },
  {
   "cell_type": "code",
   "execution_count": 195,
   "id": "02b63817",
   "metadata": {},
   "outputs": [
    {
     "data": {
      "text/plain": [
       "'+'"
      ]
     },
     "execution_count": 195,
     "metadata": {},
     "output_type": "execute_result"
    }
   ],
   "source": [
    "for zeile in range(len(datenliste)):\n",
    "    if \"+ Ja / oui / si \" in datenliste[zeile]:\n",
    "        jastimmen = int(str(datenliste[zeile]).replace(\"+ Ja / oui / si \",\"\"))\n",
    "\n",
    "for zeile in range(len(datenliste)):    \n",
    "    if \"- Nein / non / no \" in datenliste[zeile]:\n",
    "        neinstimmen = int(str(datenliste[zeile]).replace(\"- Nein / non / no \",\"\"))\n",
    "\n",
    "if jastimmen > neinstimmen: \n",
    "    resultat =\"+\"\n",
    "\n",
    "if jastimmen < neinstimmen: \n",
    "    resultat =\"-\"\n",
    "\n",
    "resultat\n"
   ]
  },
  {
   "cell_type": "markdown",
   "id": "50e23b9f",
   "metadata": {},
   "source": [
    "## Loop, der Jede Seite darauf abtastet, ob es eine Abstimmung ist"
   ]
  },
  {
   "cell_type": "code",
   "execution_count": null,
   "id": "a2906113",
   "metadata": {},
   "outputs": [],
   "source": [
    "#Dokumentlänge prüfen:"
   ]
  },
  {
   "cell_type": "code",
   "execution_count": 91,
   "id": "c5def1ea",
   "metadata": {},
   "outputs": [
    {
     "data": {
      "text/plain": [
       "218"
      ]
     },
     "execution_count": 91,
     "metadata": {},
     "output_type": "execute_result"
    }
   ],
   "source": [
    "dokument = PyPDF2.PdfReader('Sessionsprotokolle/SR_5102_2003.pdf')\n",
    "laenge = len(dokument.pages)\n",
    "laenge"
   ]
  },
  {
   "cell_type": "code",
   "execution_count": 96,
   "id": "ef15fdd9",
   "metadata": {},
   "outputs": [
    {
     "name": "stdout",
     "output_type": "stream",
     "text": [
      "12. März 2020 157 Ständerat 18.3828\n",
      "18.3389\n",
      "Motion SGK-N.\n",
      "Ärztliche Abgabe von Cannabis\n",
      "als Medikament an Chronischkranke.\n",
      "Tiefere Gesundheitskosten\n",
      "und weniger Bürokratie\n",
      "Motion CSSS-N.\n",
      "Prescription médicale de cannabis\n",
      "aux malades chroniques.\n",
      "Réduction de la bureaucratie\n",
      "et des coûts de la santé\n",
      "Nationalrat/Conseil national 19.09.18\n",
      "Ständerat/Conseil desEtats 12.03.20\n",
      "Rechsteiner Paul (S, SG), für die Kommission: Herr Präsi-\n",
      "dent, ich schlage Ihnen vor, beide Vorstösse zum Medizinal-\n",
      "cannabis, die Motion Markwalder und die Motion der SGK-N,\n",
      "gleichzeitig zu behandeln. Es geht um dasselbe, wenn auch\n",
      "in leicht modiﬁzierter Form. Wir haben sowieso einen Spe-\n",
      "zialfall vorliegen, weshalb ich Sie nicht allzu lange aufhalten\n",
      "muss, denn beide Motionen sind bereits in der Umsetzung\n",
      "begriffen. In diesem Sinne wird unser Entscheid von der Ge-\n",
      "setzgebung, die bereits unterwegs ist, überholt.\n",
      "Es geht bei beiden Vorstössen um das Thema des soge-\n",
      "nannten Medizinalcannabis, während der nichtmedizinische\n",
      "Cannabis hier kein Thema ist. Die Motion 18.3389, welche\n",
      "die SGK des Nationalrates eingereicht hat, geht auf eine par-\n",
      "lamentarische Initiative des früheren Nationalrates Thomas\n",
      "Ammann zurück. Mit der Motion wird verlangt, dass Medizi-\n",
      "nalcannabis durch ärztliche Verordnung an chronisch Kran-\n",
      "ke abgegeben werden kann. Die Motion Markwalder wie-\n",
      "derum verlangt eine entsprechende Anpassung der gesetzli-\n",
      "chen Grundlagen, damit Cannabis künftig zu medizinischen\n",
      "Zwecken angebaut und nachher als medizinischer Cannabis\n",
      "exportiert werden kann.\n",
      "Der Bundesrat hat inzwischen die Anliegen aufgenommen\n",
      "und bereits eine Vernehmlassung mit einer entsprechenden\n",
      "Anpassung des Gesetzes durchgeführt. Das Vernehmlas-\n",
      "sungsverfahren hat am 17. Oktober 2019 des letzten Jahres\n",
      "geendet – mit dem Resultat, dass praktisch alle, die sich in\n",
      "der Vernehmlassung geäussert haben, namentlich die Kan-\n",
      "tone, dem Projekt des Bundesrates zugestimmt haben. Das\n",
      "heisst, wir haben es jetzt mit einem Fall zu tun, in dem die\n",
      "Motionen bereits in Umsetzung begriffen sind; sie werden\n",
      "durch eine Vorlage des Bundesrates umgesetzt. Nach unse-\n",
      "ren Erkundigungen und nach dem, was die Kommission wäh-\n",
      "rend der Beratung dieser beiden Geschäfte hören konnte,\n",
      "soll die entsprechende Vorlage im Frühsommer dieses Jah-\n",
      "res den Räten zugeleitet werden. Das heisst, die Motionen\n",
      "werden sehr schnell umgesetzt, weil die Vernehmlassung be-\n",
      "reits durchgeführt worden ist.\n",
      "Die Kommission empﬁehlt Ihnen einstimmig, die Motion der\n",
      "SGK-N und die Motion Markwalder anzunehmen.\n",
      "Präsident (Stöckli Hans, Präsident): Sie haben je einen\n",
      "schriftlichen Bericht der Kommission erhalten. Die Kommis-\n",
      "sion und der Bundesrat beantragen die Annahme der beiden\n",
      "Motionen.\n",
      "Noser Ruedi (RL, ZH): Keine Angst, ich möchte die Diskussi-\n",
      "on nicht verlängern, ich möchte Herrn Bundesrat Berset aber\n",
      "doch bitten, hier zum Timing Stellung zu nehmen. Denn für\n",
      "die Produzenten, hier in diesem Fall speziell für die Bioland-\n",
      "wirtschaft, ist das Timing sehr, sehr wichtig. Man könnte ja\n",
      "heute schon, ohne Gesetzesänderung, den Anbau für den\n",
      "Export zulassen. Das würde eigentlich gehen. Dazu hätte ich\n",
      "gerne eine Aussage des Bundesrates: Ist das möglich? Kannman ein schnelles Verfahren machen, oder muss man wirk-\n",
      "lich warten, bis dieses Gesetz voll in Kraft ist? Das Window,\n",
      "während dem man überhaupt in dieses Geschäft einsteigen\n",
      "kann, schliesst sich nämlich langsam. Ist der Bundesrat be-\n",
      "reit, hier schnell zu handeln und der Landwirtschaft, insbe-\n",
      "sondere der Biolandwirtschaft, entgegenzukommen?\n",
      "Berset Alain, conseiller fédéral: Vous l'avez vu, le Conseil\n",
      "fédéral propose également l'adoption de ces deux motions.\n",
      "Nous sommes très conscients de l'importance de cette thé-\n",
      "matique. Il s'agit, avec les deux motions, de clariﬁer le cadre\n",
      "et d'ouvrir, aujourd'hui, le champ – si je peux utiliser cette\n",
      "expression – pour pouvoir viser une meilleure utilisation du\n",
      "cannabis à des ﬁns médicales.\n",
      "Je ne vais pas ajouter grand-chose à ce qu'a dit le rappor-\n",
      "teur, la position du Conseil fédéral est connue. J'aimerais par\n",
      "contre dire quelques mots à l'attention de M. le conseiller aux\n",
      "Etats Noser sur le calendrier. Les travaux avancent. Ce que\n",
      "je peux dire, c'est que nous n'avons pas la possibilité au-\n",
      "jourd'hui, sur la base de ce que nous avons, de faire des\n",
      "exceptions. Nous devons simplement travailler avec le pro-\n",
      "cessus normal sur la loi et la révision de l'ordonnance; il faut\n",
      "aussi faire une consultation pour l'ordonnance. Tous ces tra-\n",
      "vaux prennent naturellement un peu de temps. Ils sont plutôt\n",
      "de nature à permettre un développement qui soit stable, bien\n",
      "compris et qui permette une certaine sérénité dans cette évo-\n",
      "lution.\n",
      "Les travaux sur la loi sont donc en train d'avancer; nous al-\n",
      "lons ensuite pouvoir organiser une consultation sur l'ordon-\n",
      "nance; cela signiﬁe que la loi sera mise en oeuvre dès que\n",
      "possible. Nous sommes maintenant en 2020, la consultation\n",
      "sur l'ordonnance n'a pas encore eu lieu. L'entrée en vigueur\n",
      "pourrait se faire en 2021 ou en 2022, il faut voir à quel mo-\n",
      "ment ce sera possible. Je viens de poser la question – j'ai pris\n",
      "note de votre remarque –, nous allons regarder encore une\n",
      "fois le calendrier pour agir au plus vite, mais en respectant\n",
      "bien sûr les obligations légales en matière, notamment, de\n",
      "consultation et en veillant à donner la possibilité à l'ensemble\n",
      "des acteurs de s'exprimer.\n",
      "J'ai pris note de votre remarque, et nous allons regarder com-\n",
      "ment faire pour aller au plus vite – si on peut le dire ainsi –,\n",
      "mais avec la stabilité requise.\n",
      "18.3148, 18.3389\n",
      "Angenommen – Adopté\n",
      "18.3828\n",
      "Motion Bourgeois Jacques.\n",
      "Gesundheitsrisiken wegen Selenmangel.\n",
      "Massnahmen\n",
      "Motion Bourgeois Jacques.\n",
      "Risques pour la santé\n",
      "du manque de sélénium.\n",
      "Mesures à prendre\n",
      "Nationalrat/Conseil national 14.12.18\n",
      "Ständerat/Conseil desEtats 12.03.20\n",
      "Präsident (Stöckli Hans, Präsident): Es liegt ein schriftlicher\n",
      "Bericht der Kommission vor. Die Kommission und der Bun-\n",
      "desrat beantragen, die Motion anzunehmen.\n",
      "Graf Maya (G, BL), für die Kommission: Die Motion Bour-\n",
      "geois 18.3828, \"Gesundheitsrisiken wegen Selenmangel.\n",
      "Massnahmen\", wurde von der Kommission an der Sitzung\n",
      "vom 11. Februar 2020 geprüft. Sie war am 25. September\n",
      "Amtliches Bulletin der Bundesversammlung\n",
      "\n"
     ]
    }
   ],
   "source": [
    "inhalt = dokument.pages[seite].extract_text()"
   ]
  },
  {
   "cell_type": "code",
   "execution_count": 98,
   "id": "19a7caab",
   "metadata": {},
   "outputs": [],
   "source": [
    "#jetzt machen wir zuerst eine leere Liste, in die alle Seitennummern mit Abstimmungen kommen\n",
    "\n",
    "seitenliste = []\n",
    "\n",
    "#dann tasten wir jede Seite darauf ab, ob sie mit dem Begriff \"Geschäft\" beginnt; wenn ja >>> in die Seitenliste\n",
    "for seite in range(laenge):\n",
    "    inhalt = dokument.pages[seite].extract_text()\n",
    "    if inhalt[:8] == \"Geschäft\":\n",
    "        seitenliste.append(seite)"
   ]
  },
  {
   "cell_type": "code",
   "execution_count": 99,
   "id": "e7f0c131",
   "metadata": {},
   "outputs": [
    {
     "data": {
      "text/plain": [
       "[200, 201, 202, 203, 204, 205, 206, 207, 208, 209, 210, 212, 213, 214]"
      ]
     },
     "execution_count": 99,
     "metadata": {},
     "output_type": "execute_result"
    }
   ],
   "source": [
    "seitenliste"
   ]
  },
  {
   "cell_type": "markdown",
   "id": "142934c0",
   "metadata": {},
   "source": [
    "## Loop, der jede relevante Seite auswertet"
   ]
  },
  {
   "cell_type": "code",
   "execution_count": 114,
   "id": "220597a1",
   "metadata": {},
   "outputs": [
    {
     "name": "stdout",
     "output_type": "stream",
     "text": [
      "18.071\n",
      "Terrorismus und organisierte Kriminalität. Übereinkommen des Europarates\n",
      "09.03.2020\n",
      "18.076\n",
      "Bundesgesetz über das Internationale Privatrecht. 12. Kapitel: Internationale Schiedsgerichtsbarkeit\n",
      "04.03.2020\n",
      "18.092\n",
      "Erwerbsersatzgesetz. Mutterschaftsentschädigung bei längerem Spitalaufenthalt des Neugeborenen\n",
      "02.03.2020\n",
      "19.030\n",
      "Tierseuchengesetz. Änderung\n",
      "02.03.2020\n",
      "19.032-1\n",
      "Polizeiliche Massnahmen zur Bekämpfung von Terrorismus. Bundesgesetz\n",
      "09.03.2020\n",
      "19.033\n",
      "Einführung des automatischen Informationsaustauschs über Finanzkonten mit weiteren Partnerstaaten ab\n",
      "03.03.2020\n",
      "19.047\n",
      "Übereinkommen des Europarats gegen den Handel mit menschlichen Organen. Genehmigung und\n",
      "02.03.2020\n",
      "19.051-1\n",
      "Überbrückungsleistung für ältere Arbeitslose. Bundesgesetz\n",
      "10.03.2020\n",
      "19.471\n",
      "Pa.Iv. Comte. Opfer fürsorgerischer Zwangsmassnahmen. Fristverlängerung\n",
      "04.03.2020\n",
      "19.471\n",
      "Pa.Iv. Comte. Opfer fürsorgerischer Zwangsmassnahmen. Fristverlängerung\n",
      "04.03.2020\n",
      "20.008-1\n",
      "Aussenwirtschaftspolitik 2019. Bericht\n",
      "11.03.2020\n",
      "20.008-2\n",
      "Aussenwirtschaftspolitik 2019. Bericht\n",
      "11.03.2020\n",
      "20.008-3\n",
      "Aussenwirtschaftspolitik 2019. Bericht\n",
      "11.03.2020\n",
      "20.008-4\n",
      "Aussenwirtschaftspolitik 2019. Bericht\n",
      "11.03.2020\n"
     ]
    }
   ],
   "source": [
    "regex_gnummer = r\"(\\d\\d\\.\\S+)\"\n",
    "regex_datum = r\"\\d\\d\\.\\d\\d\\.\\d\\d\\d\\d\"\n",
    "\n",
    "for seite in seitenliste:\n",
    "    inhalt = dokument.pages[seite].extract_text()\n",
    "    datenliste = inhalt.split(\"\\n\")\n",
    "    \n",
    "    for zeile in range(len(datenliste)):\n",
    "        if \"Geschäft\" in datenliste[zeile]:\n",
    "            geschäftszeile = datenliste[(zeile+1)]\n",
    "            \n",
    "            gnummer = (re.findall(regex_gnummer, geschäftszeile))\n",
    "            geschäft = geschäftszeile.strip(str(gnummer)+\" \")\n",
    "            \n",
    "            print(gnummer[0])\n",
    "            print(geschäft)\n",
    "            \n",
    "    for zeile in range(len(datenliste)):\n",
    "        if \"Abstimmung vom\" in datenliste[zeile]:\n",
    "            datum = re.findall(regex_datum, datenliste[zeile])\n",
    "        \n",
    "            print(datum[0])\n",
    "    \n",
    "            \n",
    "    "
   ]
  },
  {
   "cell_type": "code",
   "execution_count": null,
   "id": "e2d4808e",
   "metadata": {},
   "outputs": [],
   "source": []
  }
 ],
 "metadata": {
  "kernelspec": {
   "display_name": "Python 3 (ipykernel)",
   "language": "python",
   "name": "python3"
  },
  "language_info": {
   "codemirror_mode": {
    "name": "ipython",
    "version": 3
   },
   "file_extension": ".py",
   "mimetype": "text/x-python",
   "name": "python",
   "nbconvert_exporter": "python",
   "pygments_lexer": "ipython3",
   "version": "3.7.6"
  }
 },
 "nbformat": 4,
 "nbformat_minor": 5
}
