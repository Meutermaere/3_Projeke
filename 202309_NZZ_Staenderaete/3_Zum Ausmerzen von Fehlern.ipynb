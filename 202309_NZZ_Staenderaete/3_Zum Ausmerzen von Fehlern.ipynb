{
 "cells": [
  {
   "cell_type": "code",
   "execution_count": 2,
   "id": "63b2b7a2",
   "metadata": {},
   "outputs": [],
   "source": [
    "import pandas as pd\n",
    "import camelot # um Tabellen im PDFs zu erkennen\n",
    "import PyPDF2 # um Text aus PDFs zu lesen\n",
    "import re"
   ]
  },
  {
   "cell_type": "code",
   "execution_count": 3,
   "id": "452162a8",
   "metadata": {},
   "outputs": [],
   "source": [
    "file = \"Sessionsprotokolle/SR_5115_2206.pdf\""
   ]
  },
  {
   "cell_type": "code",
   "execution_count": 8,
   "id": "bb51ef50",
   "metadata": {},
   "outputs": [],
   "source": [
    "dokument = PyPDF2.PdfReader(file)"
   ]
  },
  {
   "cell_type": "code",
   "execution_count": 20,
   "id": "de4c2a77",
   "metadata": {},
   "outputs": [],
   "source": [
    "inhalt = dokument.pages[576].extract_text()\n",
    "datenliste = inhalt.split(\"\\n\")"
   ]
  },
  {
   "cell_type": "code",
   "execution_count": 21,
   "id": "d9d4c191",
   "metadata": {},
   "outputs": [
    {
     "data": {
      "text/plain": [
       "['Geschäft / Objet: ',\n",
       " '22.3153 Ordnungsantrag',\n",
       " \"Motion d'ordre\",\n",
       " 'Gegenstand / Objet du vote: Abstimmung über den Ordnungsantrag Zanetti zu 22.3153',\n",
       " 'Abstimmung vom / Vote du: 13.06.2022 16:38:17',\n",
       " 'Bauer Philippe - NE Knecht Hansjörg - AG',\n",
       " 'Baume-Schneider Elisabeth 0 JU Kuprecht Alex - SZ',\n",
       " 'Bischof Pirmin 0 SO Maret Marianne + VS',\n",
       " 'Burkart Thierry - AG Mazzone Lisa 0 GE',\n",
       " 'Carobbio Guscetti Marina + TI Michel Matthias - ZG',\n",
       " 'Caroni Andrea - AR Minder Thomas - SH',\n",
       " 'Chassot Isabelle + FR Müller Damian 0 LU',\n",
       " 'Chiesa Marco - TI Noser Ruedi - ZH',\n",
       " 'Dittli Josef 0 UR Rechsteiner Paul + SG',\n",
       " 'Engler Stefan + GR Reichmuth Othmar - SZ',\n",
       " 'Ettlin Erich + OW Rieder Beat + VS',\n",
       " 'Fässler Daniel = AI Salzmann Werner - BE',\n",
       " 'Français Olivier + VD Schmid Martin - GR',\n",
       " 'Gapany Johanna 0 FR Sommaruga Carlo + GE',\n",
       " 'Germann Hannes - SH Stark Jakob 0 TG',\n",
       " 'Gmür-',\n",
       " 'SchönenbergerAndrea 0 LU Stöckli Hans + BE',\n",
       " 'Graf Maya + BL Thorens Goumaz Adèle + VD',\n",
       " 'Häberli-Koller Brigitte + TG Vara Céline + NE',\n",
       " 'Hefti Thomas P GL Wicki Hans - NW',\n",
       " 'Hegglin Peter - ZG Würth Benedikt - SG',\n",
       " 'Herzog Eva + BS Zanetti Roberto + SO',\n",
       " \"Jositsch Daniel + ZH Z'graggen Heidi 0 UR\",\n",
       " 'Juillard Charles + JU Zopfi Mathias + GL',\n",
       " 'Legende Tot.',\n",
       " '+ Ja / oui / si 19',\n",
       " '- Nein / non / no 16',\n",
       " '= Enth. / abst. / ast. 1',\n",
       " 'E Enschuldigt gem. Art. 44a Abs. 6 GRS / excusé sel. art. 44a al. 6 RCE / scusato se. art. 44a cpv. 6 RCS 0',\n",
       " '0 Hat nicht teilgenommen / n’a pas participé au vote / non ha partecipato al voto 9',\n",
       " 'P Die Präsidentin/der Präsident stimmt nicht / La présidente/le président ne prend pas part au vote / La/il',\n",
       " 'presidente non participa al voto1',\n",
       " 'Bedeutung Ja / Signification du oui: Zustimmung zum Ordnungsantrag (Überweisung an die zuständige',\n",
       " 'Kommission)',\n",
       " 'Bedeutung Nein / Signification du non: Ablehnung22.3153 Ref. 5168',\n",
       " 'STÄNDERAT CONSEIL DES ETATS',\n",
       " 'Abstimmungsprotokoll Procès-verbal de vote',\n",
       " 'STÄNDERAT, Elektronisches Abstimmungssystem CONSEIL DES ETATS, système de vote électronique',\n",
       " '13.06.2022 16:38:38 identif. : 51.15 / 13.06.2022 16:38:17 Ref. : Erfassung-Nr. : 5168']"
      ]
     },
     "execution_count": 21,
     "metadata": {},
     "output_type": "execute_result"
    }
   ],
   "source": [
    "datenliste"
   ]
  },
  {
   "cell_type": "code",
   "execution_count": 28,
   "id": "6b4db2bc",
   "metadata": {},
   "outputs": [
    {
     "data": {
      "text/plain": [
       "4"
      ]
     },
     "execution_count": 28,
     "metadata": {},
     "output_type": "execute_result"
    }
   ],
   "source": [
    "def first_substring(strings, substring):\n",
    "    return next(i for i, string in enumerate(strings) if substring in string)\n",
    "\n",
    "first_substring(datenliste, 'Abstimmung vom / Vote du:')"
   ]
  },
  {
   "cell_type": "code",
   "execution_count": 11,
   "id": "4e54506d",
   "metadata": {},
   "outputs": [],
   "source": [
    "regex_gnummer = r\"(\\d\\d\\.\\S+)\"\n",
    "regex_datum = r\"\\d\\d\\.\\d\\d\\.\\d\\d\\d\\d \\d\\d\\:\\d\\d\\:\\d\\d\""
   ]
  },
  {
   "cell_type": "markdown",
   "id": "59c6ff14",
   "metadata": {},
   "source": [
    "## !!! Fehlerkontrolle manuell !!!"
   ]
  },
  {
   "cell_type": "markdown",
   "id": "304ba313",
   "metadata": {},
   "source": [
    "- Seite 200: Daten von 18.071 fehlen, das erste Geschäft > Tabelle wird nicht erkannt - warum?\n",
    "\n",
    "- Seite 212: Daten von 20.008-2 fehlen; \n",
    "    - es muss was damit zu tun haben, dass davor eine leere Seite im Doc ist\n",
    "    - Erkenntnis: er findet die Tabelle eine Seite früher, auf S. 211! (Warum auch immmer...)"
   ]
  },
  {
   "cell_type": "code",
   "execution_count": 6,
   "id": "43f0c8f7",
   "metadata": {},
   "outputs": [
    {
     "data": {
      "text/plain": [
       "'8. Juni 2022 427 Ständerat 20.069\\nArt. 11\\nProposition de la majorité\\n...\\nb. ... avec un ﬁlm ou un jeu vidéo;\\nc. ... une charge disproportionnée pour l\\'organisation de bran-\\nche ou les acteurs ...\\ncbis. Biffer\\n...\\nh. ... de la réglementation par l\\'organisation de branche con-\\ncernée, en ...\\ni. ... aux acteurs membres de l\\'organisation de branche con-\\ncernée en ...\\n...\\nProposition de la minorité\\n(Baume-Schneider, Carobbio Guscetti, Graf Maya, Rechstei-\\nner Paul)\\nLet. b\\nSelon Conseil fédéral, mais:\\n... aux acteurs membres de l\\'organisation de branche con-\\ncernée en ...\\nPräsident (Hefti Thomas, Präsident): Wir behandeln diese\\nBestimmungen gemeinsam.\\nMichel Matthias (RL, ZG), für die Kommission: Bei Artikel\\n11 geht es um den Inhalt der erwarteten Jugendschutzre-\\ngelung. Hier beantragen wir eine Anpassung von Litera b.\\nDort soll der letzte Satzteil gestrichen werden, in welchem\\nsteht, dass die Jugendschutzregelung \"Regeln [...] zum Um-\\ngang mit Filmen oder Videospielen, die bereits vor dem In-\\nkrafttreten der Jugendschutzregelung auf dem Markt waren\",\\nenthalten muss. Es ist hier also eine Art Rückwirkung enthal-\\nten, gegen die wir uns mehrheitlich wenden.\\nWas passiert, wenn jetzt keine solche Regelung getroffen\\nwird und die Jugendschutzorganisation sagt, bei den alten\\nFilmen solle nichts mehr geregelt werden, das sei vorbei?\\nDann wäre diese Regelung lückenhaft. Dies hätte zur Kon-\\nsequenz, dass der Bundesrat den Wunsch der Branche an\\nihn, dass er eine Jugendschutzregelung für verbindlich erklä-\\nre, zurückweisen würde. Er würde sagen, die Branche habe\\nvergessen, die alten Filme, die vor 2022 auf den Markt ka-\\nmen, explizit mit Altersangaben, Inhaltsdeskriptoren usw. zu\\nregeln. Es gibt für die Branche also einen indirekten Zwang,\\nHunderte alter Filme zu klassiﬁzieren. Das führt zu einer Art\\nRückwirkung mit einem grossen Aufwand für die betroffene\\nBranche und widerspricht dem Vertrauensprinzip.\\nDie Kommission entschied mit 6 zu 5 Stimmen. Die Mehr-\\nheit beantragt Ihnen, wie gesagt, den von mir vorgelesenen\\nSatzteil zu streichen.\\nInteressant ist noch ein Hinweis auf Artikel 11 Litera d. Es\\nhandelt sich um eine Art Auffangtatbestand. Was steht dort?\\nArtikel 11 Litera d behandelt Filme oder Videospiele, die bis-\\nher noch nicht klassiﬁziert sind, die also keine Altersanga-\\nben beinhalten. Da sagt der Gesetzentwurf, als Auffangtat-\\nbestand für das, was nicht eingestuft werde, gelte per se die\\nhöchste Altersstufe, sagen wir achtzehn. Selbst unbedenkli-\\nche Filme werden, wenn man nichts tut, mit achtzehn Jahren\\nklassiﬁziert. Wenn die Branche dies anders regeln und die\\nFilme tiefer klassiﬁzieren will, also mit vierzehn oder sech-\\nzehn Jahren, dann muss sie das regeln. Sie kann das auch\\ntun.\\nWas will ich damit sagen? Die Branche hat ein Eigeninteres-\\nse daran, dass nicht jeder Film erst ab achtzehn zugelassen\\nist. Die Branche hat ein Eigeninteresse, auch alte Filme mit\\nzwölf, vierzehn oder sechzehn Jahren zu klassiﬁzieren. Sie\\nwird das aus Eigeninteresse tun. Von daher braucht es nicht\\nnoch eine obligatorische Regelung im Gesetz, in welcher ge-\\nsagt wird: Ihr müsst dann alle alten Filme noch klassiﬁzieren,\\nsonst ist eure Regelung nicht akzeptierbar. Ich denke, das\\nregelt sich von selbst.\\nWie gesagt, die Kommissionsmehrheit ist hier gegen eine un-\\nnötige Rückwirkungsregelung und beantragt Ihnen, diesen\\nSatzteil zu streichen.\\nNoch eine Klammerbemerkung: Es hat bei der französischen\\nFassung noch eine Anpassung, die nur zum Tragen käme,wenn die Minderheit obsiegen würde. Deshalb sage ich im\\nMoment nichts weiter dazu.\\nBaume-Schneider Elisabeth (S, JU): Sur ce point éga-\\nlement, la minorité de la commission a continué à faire\\nconﬁance au projet global du Conseil fédéral. Certes, on peut\\nse demander, comme cela a été fort opportunément men-\\ntionné dans la formulation de cet article, s\\'il est opportun,\\npossible et cohérent de disposer d\\'une réglementation gé-\\nnérale qui concerne les ﬁlms et jeux vidéo qui sont déjà sur\\nle marché au moment de l\\'entrée en vigueur de la nouvelle\\nréglementation.\\nLa minorité de la commission propose une nuance, car elle\\nestime qu\\'on ne peut pas reprendre tous les produits, comme\\nl\\'a indiqué le rapporteur de la commission, qui appartiennent\\nau passé, mais qu\\'on peut et qu\\'on doit reprendre les règles\\nqui les concernaient, car aujourd\\'hui déjà, les jeux vidéo et\\nles ﬁlms sont accompagnés d\\'une indication qui concerne\\nsoit l\\'âge recommandé, soit l\\'âge légal. Il ne s\\'agirait pas de\\nprocéder à une reclassiﬁcation et de reprendre chaque an-\\ncien ﬁlm, car c\\'est un travail gigantesque aux résultats proba-\\nblement modestes, mais de reprendre les règles qui existent\\ndéjà.\\nAinsi, je vous remercie de soutenir la minorité de la commis-\\nsion.\\nBerset Alain, conseiller fédéral: Le rapporteur a expliqué\\nqu\\'il n\\'y avait pas besoin d\\'une formulation complète à la\\nlettre b, puisque ce point est mentionné à la lettre d.\\nDas ist aber eine sehr interessante Frage. Wir behaupten bei\\nLitera b, dass der Aufwand mit dem Antrag der Mehrheit der\\nKommission viel grösser sein wird. Litera b ist in der Fassung\\ndes Bundesrates genau deshalb enthalten, um keinen Auf-\\nwand für die Vergangenheit zu generieren. Wenn man aber\\nnichts über die Behandlung der Vergangenheit sagt, dann gilt\\nLitera d, und mit Litera d wird einfach verlangt, dass alle alten\\nProdukte im neuen System zu behandeln sind. Der Aufwand\\nwäre damit wirklich viel grösser, viel grösser.\\nWir gehen davon aus, dass Litera b – und das ist auch die\\nPosition der Minderheit, die noch eine redaktionelle Verbes-\\nserung gemacht hat – eine gesetzliche Grundlage schafft, die\\nes erlauben würde, den betroffenen Organisationen zu sa-\\ngen: Okay, es gibt eine gesetzliche Grundlage – das ist der\\nzweite Teil von Litera b –, die es uns erlaubt, zu sagen: Was\\nbis heute galt, gilt weiterhin. Das ist der minimalste Aufwand,\\nden man sich für die Regelung der Vergangenheit wünschen\\nkann. Wenn man diesen Satz aber im Sinne der Mehrheit\\nder Kommission streicht, dann gilt Litera d, und Litera d sagt\\neinfach, dass alle alten Produkte im neuen System neu zu\\nbeurteilen sind. Und gerade das wollten wir mit Litera b ve-\\nrhindern.\\nIch habe bereits versucht, das zu erklären, bis jetzt vermutlich\\nohne Erfolg. Ich glaube, es gibt weiterhin Möglichkeiten, das\\nzu diskutieren. Aber wir möchten bei den alten Produkten für\\ndie betroffene Branche nicht unbedingt einen Riesenaufwand\\ngenerieren. Doch damit man wirklich keinen Aufwand gene-\\nriert, braucht es eine gesetzliche Grundlage, die es erlaubt,\\ndiesen Branchen zu sagen: Was bis heute galt, gilt weiterhin.\\nAber dafür braucht es diesen zweiten Teil, sonst gilt – der Be-\\nrichterstatter der Kommission hat richtig darauf hingewiesen\\n– Litera d. Und Litera d schafft eine andere Situation, was\\nden Aufwand betrifft.\\nIch mache Ihnen aufgrund dieser Argumentation beliebt,\\nnicht mehr die Fassung des Bundesrates zu unterstützen.\\nWeil es eine redaktionelle Verbesserung im Antrag der Min-\\nderheit gibt, bitte ich Sie, den Minderheitsantrag zu unterstüt-\\nzen.\\nMichel Matthias (RL, ZG), für die Kommission: Bitte erlau-\\nben Sie mir noch ein Wort. Vielleicht ist es auch gut, hier\\neine Differenz für den Zweitrat zu haben. Ich lese den Beginn\\nvon Artikel 11: \"Die Jugendschutzregelung muss mindestens\\nfolgende Elemente umfassen [...].\" Das heisst, wenn wir den\\nSatz jetzt streichen, so heisst das nicht, dass die Branche\\ndas nicht darf. Es heisst nicht: \"Ihr dürft nicht mehr regeln.\"\\nIch lese das so, dass der Mindestinhalt vorgegeben ist.\\nAmtliches Bulletin der Bundesversammlung\\n'"
      ]
     },
     "execution_count": 6,
     "metadata": {},
     "output_type": "execute_result"
    }
   ],
   "source": [
    "dokument.pages[212].extract_text()"
   ]
  },
  {
   "cell_type": "code",
   "execution_count": 165,
   "id": "96b430c2",
   "metadata": {},
   "outputs": [
    {
     "name": "stderr",
     "output_type": "stream",
     "text": [
      "/Users/bigdata/.virtualenvs/zweitesVE/lib/python3.7/site-packages/camelot/parsers/stream.py:453: UserWarning: No tables found on page-200\n",
      "  warnings.warn(f\"No tables found on {base_filename}\")\n"
     ]
    }
   ],
   "source": [
    "testtabelle = camelot.read_pdf(file, flavor='stream', pages = str(200), )"
   ]
  },
  {
   "cell_type": "markdown",
   "id": "64054c71",
   "metadata": {},
   "source": [
    "# Lösung:"
   ]
  },
  {
   "cell_type": "markdown",
   "id": "29bedc16",
   "metadata": {},
   "source": [
    "- Wir holen für solche Fälle die Daten aus dem Text (.extract_text)\n",
    "- dazu splitten wir den Text in eine Liste (gits schon: die \"datenliste\"\n",
    "- um die richtige Position anzusteuern, suchen wir den Index der Leerzeile. (datenliste.index(' '))\n",
    "- Es sind dann immer die nächste 24 Listenelemente\n",
    "- Wir müssen jedesmal noch die blöde Gmür-Schöneberger reparieren\n",
    "- Dann generieren wir eine Liste mit allen Kantonskürzeln, damit wir jeweil nach diesen die beiden Einträge pro Zeile splitten können\n",
    "- dann splitten wir erneut nach den ersten beiden Leerschlägen links des Kantons und übernehmen die Werte \n",
    "- am Schluss der Liste kommt das hier ' '"
   ]
  },
  {
   "cell_type": "code",
   "execution_count": null,
   "id": "e54b32ba",
   "metadata": {},
   "outputs": [],
   "source": [
    "else:"
   ]
  },
  {
   "cell_type": "code",
   "execution_count": 173,
   "id": "fd724ebe",
   "metadata": {},
   "outputs": [],
   "source": [
    "tabellenanfang = datenliste.index(' ')+1"
   ]
  },
  {
   "cell_type": "code",
   "execution_count": 174,
   "id": "ccae622f",
   "metadata": {},
   "outputs": [
    {
     "data": {
      "text/plain": [
       "10"
      ]
     },
     "execution_count": 174,
     "metadata": {},
     "output_type": "execute_result"
    }
   ],
   "source": [
    "tabellenanfang"
   ]
  },
  {
   "cell_type": "code",
   "execution_count": null,
   "id": "377676fe",
   "metadata": {},
   "outputs": [],
   "source": []
  },
  {
   "cell_type": "code",
   "execution_count": 274,
   "id": "ac9dc61d",
   "metadata": {},
   "outputs": [],
   "source": [
    "# so holen wir die nächsten 24 Zeilen raus\n",
    "tabelle = datenliste[tabellenanfang:(tabellenanfang+24)]"
   ]
  },
  {
   "cell_type": "code",
   "execution_count": 275,
   "id": "d63fa35f",
   "metadata": {},
   "outputs": [
    {
     "data": {
      "text/plain": [
       "['Bauer Philippe + NE Kuprecht Alex + SZ',\n",
       " 'Baume-Schneider Elisabeth + JU Levrat Christian + FR',\n",
       " 'Bischof Pirmin 0 SO Maret Marianne + VS',\n",
       " 'Burkart Thierry + AG Mazzone Lisa + GE',\n",
       " 'Carobbio Guscetti Marina + TI Michel Matthias + ZG',\n",
       " 'Caroni Andrea 0 AR Minder Thomas + SH',\n",
       " 'Chiesa Marco 0 TI Müller Damian + LU',\n",
       " 'Dittli Josef + UR Noser Ruedi + ZH',\n",
       " 'Engler Stefan + GR Rechsteiner Paul 0 SG',\n",
       " 'Ettlin Erich 0 OW Reichmuth Othmar + SZ',\n",
       " 'Fässler Daniel + AI Rieder Beat + VS',\n",
       " 'Français Olivier + VD Salzmann Werner + BE',\n",
       " 'Gapany Johanna + FR Schmid Martin + GR',\n",
       " 'Germann Hannes + SH Sommaruga Carlo 0 GE',\n",
       " 'Gmür-',\n",
       " 'SchönenbergerAndrea + LU Stark Jakob + TG',\n",
       " 'Graf Maya + BL Stöckli Hans P BE',\n",
       " 'Häberli-Koller Brigitte + TG Thorens Goumaz Adèle + VD',\n",
       " 'Hefti Thomas + GL Vara Céline 0 NE',\n",
       " 'Hegglin Peter + ZG Wicki Hans + NW',\n",
       " 'Herzog Eva + BS Würth Benedikt + SG',\n",
       " 'Jositsch Daniel + ZH Zanetti Roberto + SO',\n",
       " \"Juillard Charles + JU Z'graggen Heidi + UR\",\n",
       " 'Knecht Hansjörg + AG Zopfi Mathias + GL']"
      ]
     },
     "execution_count": 275,
     "metadata": {},
     "output_type": "execute_result"
    }
   ],
   "source": [
    "tabelle"
   ]
  },
  {
   "cell_type": "code",
   "execution_count": 276,
   "id": "1da34508",
   "metadata": {},
   "outputs": [],
   "source": [
    "# So flicken wir die Gmür-Schnönenberger:\n",
    "tabelle.remove(\"Gmür-\")\n",
    "tabelle = [w.replace('SchönenbergerAndrea', 'Gmür-Schönenberger Andrea') for w in tabelle]"
   ]
  },
  {
   "cell_type": "code",
   "execution_count": 277,
   "id": "746e8209",
   "metadata": {},
   "outputs": [
    {
     "data": {
      "text/plain": [
       "['Bauer Philippe + NE Kuprecht Alex + SZ',\n",
       " 'Baume-Schneider Elisabeth + JU Levrat Christian + FR',\n",
       " 'Bischof Pirmin 0 SO Maret Marianne + VS',\n",
       " 'Burkart Thierry + AG Mazzone Lisa + GE',\n",
       " 'Carobbio Guscetti Marina + TI Michel Matthias + ZG',\n",
       " 'Caroni Andrea 0 AR Minder Thomas + SH',\n",
       " 'Chiesa Marco 0 TI Müller Damian + LU',\n",
       " 'Dittli Josef + UR Noser Ruedi + ZH',\n",
       " 'Engler Stefan + GR Rechsteiner Paul 0 SG',\n",
       " 'Ettlin Erich 0 OW Reichmuth Othmar + SZ',\n",
       " 'Fässler Daniel + AI Rieder Beat + VS',\n",
       " 'Français Olivier + VD Salzmann Werner + BE',\n",
       " 'Gapany Johanna + FR Schmid Martin + GR',\n",
       " 'Germann Hannes + SH Sommaruga Carlo 0 GE',\n",
       " 'Gmür-Schönenberger Andrea + LU Stark Jakob + TG',\n",
       " 'Graf Maya + BL Stöckli Hans P BE',\n",
       " 'Häberli-Koller Brigitte + TG Thorens Goumaz Adèle + VD',\n",
       " 'Hefti Thomas + GL Vara Céline 0 NE',\n",
       " 'Hegglin Peter + ZG Wicki Hans + NW',\n",
       " 'Herzog Eva + BS Würth Benedikt + SG',\n",
       " 'Jositsch Daniel + ZH Zanetti Roberto + SO',\n",
       " \"Juillard Charles + JU Z'graggen Heidi + UR\",\n",
       " 'Knecht Hansjörg + AG Zopfi Mathias + GL']"
      ]
     },
     "execution_count": 277,
     "metadata": {},
     "output_type": "execute_result"
    }
   ],
   "source": [
    "tabelle"
   ]
  },
  {
   "cell_type": "code",
   "execution_count": 278,
   "id": "72157690",
   "metadata": {},
   "outputs": [],
   "source": []
  },
  {
   "cell_type": "code",
   "execution_count": 283,
   "id": "c48b482e",
   "metadata": {},
   "outputs": [
    {
     "data": {
      "text/plain": [
       "['Bauer Philippe + NE',\n",
       " 'Kuprecht Alex + SZ',\n",
       " 'Baume-Schneider Elisabeth + JU',\n",
       " 'Levrat Christian + FR',\n",
       " 'Bischof Pirmin 0 SO',\n",
       " 'Maret Marianne + VS',\n",
       " 'Burkart Thierry + AG',\n",
       " 'Mazzone Lisa + GE',\n",
       " 'Carobbio Guscetti Marina + TI',\n",
       " 'Michel Matthias + ZG',\n",
       " 'Caroni Andrea 0 AR',\n",
       " 'Minder Thomas + SH',\n",
       " 'Chiesa Marco 0 TI',\n",
       " 'Müller Damian + LU',\n",
       " 'Dittli Josef + UR',\n",
       " 'Noser Ruedi + ZH',\n",
       " 'Engler Stefan + GR',\n",
       " 'Rechsteiner Paul 0 SG',\n",
       " 'Ettlin Erich 0 OW',\n",
       " 'Reichmuth Othmar + SZ',\n",
       " 'Fässler Daniel + AI',\n",
       " 'Rieder Beat + VS',\n",
       " 'Français Olivier + VD',\n",
       " 'Salzmann Werner + BE',\n",
       " 'Gapany Johanna + FR',\n",
       " 'Schmid Martin + GR',\n",
       " 'Germann Hannes + SH',\n",
       " 'Sommaruga Carlo 0 GE',\n",
       " 'Gmür-Schönenberger Andrea + LU',\n",
       " 'Stark Jakob + TG',\n",
       " 'Graf Maya + BL',\n",
       " 'Stöckli Hans P BE',\n",
       " 'Häberli-Koller Brigitte + TG',\n",
       " 'Thorens Goumaz Adèle + VD',\n",
       " 'Hefti Thomas + GL',\n",
       " 'Vara Céline 0 NE',\n",
       " 'Hegglin Peter + ZG',\n",
       " 'Wicki Hans + NW',\n",
       " 'Herzog Eva + BS',\n",
       " 'Würth Benedikt + SG',\n",
       " 'Jositsch Daniel + ZH',\n",
       " 'Zanetti Roberto + SO',\n",
       " 'Juillard Charles + JU',\n",
       " \"Z'graggen Heidi + UR\",\n",
       " 'Knecht Hansjörg + AG',\n",
       " 'Zopfi Mathias + GL']"
      ]
     },
     "execution_count": 283,
     "metadata": {},
     "output_type": "execute_result"
    }
   ],
   "source": [
    "# und jetzt trennen wir jede Zeile beim ersten Auftauchen eines Kantons (jenes mit Leerschlag)\n",
    "tabelle_getrennt = []\n",
    "kantonsliste = [\"VD\", \"TG\", \"TI\", \"AG\", \"JU\", \"GL\", \"UR\", \"SO\", \"NE\", \"SZ\", \"GR\", \"BE\", \"SG\", \"ZH\", \"LU\", \"SH\", \"ZG\", \"GE\", \"VS\", \"FR\", \"OW\", \"BL\", \"AI\", \"BS\", \"AR\", \"NW\"]\n",
    "\n",
    "for paar in tabelle:\n",
    "    for kanton in kantonsliste:\n",
    "        trenner = kanton + \" \"\n",
    "        if trenner in paar:\n",
    "            trennung = paar.split(trenner)\n",
    "            \n",
    "            # (dann müssen wir den bei wplit verloren gegangenen Kanton, den Trenner, wieder hinzufügen)\n",
    "            trennung[0] = trennung[0]+kanton\n",
    "            \n",
    "            tabelle_getrennt.append(trennung[0])\n",
    "            tabelle_getrennt.append(trennung[1])\n",
    "            \n",
    "tabelle_getrennt\n",
    "        "
   ]
  },
  {
   "cell_type": "code",
   "execution_count": null,
   "id": "6869e2de",
   "metadata": {},
   "outputs": [],
   "source": [
    "# diese neue Liste trennen wir jetzt auf, und zwar nach Leerschlägen von hinten, wegen Doppelnamen etc. > mit rsplit!"
   ]
  },
  {
   "cell_type": "code",
   "execution_count": 296,
   "id": "a3a1c3b6",
   "metadata": {},
   "outputs": [
    {
     "name": "stdout",
     "output_type": "stream",
     "text": [
      "['Bauer Philippe', '+', 'NE']\n",
      "['Kuprecht Alex', '+', 'SZ']\n",
      "['Baume-Schneider Elisabeth', '+', 'JU']\n",
      "['Levrat Christian', '+', 'FR']\n",
      "['Bischof Pirmin', '0', 'SO']\n",
      "['Maret Marianne', '+', 'VS']\n",
      "['Burkart Thierry', '+', 'AG']\n",
      "['Mazzone Lisa', '+', 'GE']\n",
      "['Carobbio Guscetti Marina', '+', 'TI']\n",
      "['Michel Matthias', '+', 'ZG']\n",
      "['Caroni Andrea', '0', 'AR']\n",
      "['Minder Thomas', '+', 'SH']\n",
      "['Chiesa Marco', '0', 'TI']\n",
      "['Müller Damian', '+', 'LU']\n",
      "['Dittli Josef', '+', 'UR']\n",
      "['Noser Ruedi', '+', 'ZH']\n",
      "['Engler Stefan', '+', 'GR']\n",
      "['Rechsteiner Paul', '0', 'SG']\n",
      "['Ettlin Erich', '0', 'OW']\n",
      "['Reichmuth Othmar', '+', 'SZ']\n",
      "['Fässler Daniel', '+', 'AI']\n",
      "['Rieder Beat', '+', 'VS']\n",
      "['Français Olivier', '+', 'VD']\n",
      "['Salzmann Werner', '+', 'BE']\n",
      "['Gapany Johanna', '+', 'FR']\n",
      "['Schmid Martin', '+', 'GR']\n",
      "['Germann Hannes', '+', 'SH']\n",
      "['Sommaruga Carlo', '0', 'GE']\n",
      "['Gmür-Schönenberger Andrea', '+', 'LU']\n",
      "['Stark Jakob', '+', 'TG']\n",
      "['Graf Maya', '+', 'BL']\n",
      "['Stöckli Hans', 'P', 'BE']\n",
      "['Häberli-Koller Brigitte', '+', 'TG']\n",
      "['Thorens Goumaz Adèle', '+', 'VD']\n",
      "['Hefti Thomas', '+', 'GL']\n",
      "['Vara Céline', '0', 'NE']\n",
      "['Hegglin Peter', '+', 'ZG']\n",
      "['Wicki Hans', '+', 'NW']\n",
      "['Herzog Eva', '+', 'BS']\n",
      "['Würth Benedikt', '+', 'SG']\n",
      "['Jositsch Daniel', '+', 'ZH']\n",
      "['Zanetti Roberto', '+', 'SO']\n",
      "['Juillard Charles', '+', 'JU']\n",
      "[\"Z'graggen Heidi\", '+', 'UR']\n",
      "['Knecht Hansjörg', '+', 'AG']\n",
      "['Zopfi Mathias', '+', 'GL']\n"
     ]
    }
   ],
   "source": [
    "for eintrag in tabelle_getrennt:\n",
    "    eintrag_neu = eintrag.rsplit(\" \", 2)\n",
    "    \n",
    "    "
   ]
  },
  {
   "cell_type": "markdown",
   "id": "81f323aa",
   "metadata": {},
   "source": [
    "## Jetzt ergänzen wir den Loop um diese Ausnahmeregel >>> das ist die Lösung!"
   ]
  },
  {
   "cell_type": "code",
   "execution_count": 309,
   "id": "cf00d143",
   "metadata": {},
   "outputs": [
    {
     "name": "stdout",
     "output_type": "stream",
     "text": [
      "09.03.2020 18:19:01\n",
      "18.071\n",
      "Terrorismus und organisierte Kriminalität. Übereinkommen des Europarates\n",
      " \n"
     ]
    },
    {
     "name": "stderr",
     "output_type": "stream",
     "text": [
      "/Users/bigdata/.virtualenvs/zweitesVE/lib/python3.7/site-packages/camelot/parsers/lattice.py:417: UserWarning: No tables found on page-200\n",
      "  \"No tables found on {}\".format(os.path.basename(self.rootname))\n"
     ]
    },
    {
     "name": "stdout",
     "output_type": "stream",
     "text": [
      "04.03.2020 11:37:37\n",
      "18.076\n",
      "Bundesgesetz über das Internationale Privatrecht. 12. Kapitel: Internationale Schiedsgerichtsbarkeit\n",
      " \n",
      "02.03.2020 17:45:41\n",
      "18.092\n",
      "Erwerbsersatzgesetz. Mutterschaftsentschädigung bei längerem Spitalaufenthalt des Neugeborenen\n",
      " \n",
      "02.03.2020 17:02:00\n",
      "19.030\n",
      "Tierseuchengesetz. Änderung\n",
      " \n",
      "09.03.2020 19:40:30\n",
      "19.032-1\n",
      "Polizeiliche Massnahmen zur Bekämpfung von Terrorismus. Bundesgesetz\n",
      " \n",
      "03.03.2020 09:39:02\n",
      "19.033\n",
      "Einführung des automatischen Informationsaustauschs über Finanzkonten mit weiteren Partnerstaaten ab\n",
      " \n",
      "02.03.2020 17:21:13\n",
      "19.047\n",
      "Übereinkommen des Europarats gegen den Handel mit menschlichen Organen. Genehmigung und\n",
      " \n",
      "10.03.2020 10:18:42\n",
      "19.051-1\n",
      "Überbrückungsleistung für ältere Arbeitslose. Bundesgesetz\n",
      " \n",
      "04.03.2020 08:33:21\n",
      "19.471\n",
      "Pa.Iv. Comte. Opfer fürsorgerischer Zwangsmassnahmen. Fristverlängerung\n",
      " \n",
      "04.03.2020 08:35:27\n",
      "19.471\n",
      "Pa.Iv. Comte. Opfer fürsorgerischer Zwangsmassnahmen. Fristverlängerung\n",
      " \n",
      "11.03.2020 09:12:04\n",
      "20.008-1\n",
      "Aussenwirtschaftspolitik 2019. Bericht\n",
      " \n",
      "11.03.2020 09:12:50\n",
      "20.008-2\n",
      "Aussenwirtschaftspolitik 2019. Bericht\n",
      " \n",
      "11.03.2020 09:13:36\n",
      "20.008-3\n",
      "Aussenwirtschaftspolitik 2019. Bericht\n",
      " \n",
      "11.03.2020 09:14:16\n",
      "20.008-4\n",
      "Aussenwirtschaftspolitik 2019. Bericht\n",
      " \n"
     ]
    }
   ],
   "source": [
    "master_df_list = []\n",
    "\n",
    "for seite in seitenliste:\n",
    "    inhalt = dokument.pages[seite].extract_text()\n",
    "    datenliste = inhalt.split(\"\\n\")\n",
    "    \n",
    "    for zeile in range(len(datenliste)):\n",
    "        if \"Abstimmung vom\" in datenliste[zeile]:\n",
    "        \n",
    "            datum = re.findall(regex_datum, datenliste[zeile])[0]\n",
    "            \n",
    "            print(datum)\n",
    "    \n",
    "    for zeile in range(len(datenliste)):\n",
    "        if \"Geschäft\" in datenliste[zeile]:\n",
    "            geschäftszeile = datenliste[(zeile+1)]\n",
    "            \n",
    "            gnummer = (re.findall(regex_gnummer, geschäftszeile))[0]\n",
    "            geschäft = geschäftszeile.strip(str(gnummer)+\" \")\n",
    "            \n",
    "            print(gnummer)\n",
    "            print(geschäft)\n",
    "            print(\" \")\n",
    "    \n",
    "            \n",
    "    tables = camelot.read_pdf(file, flavor='lattice', pages = str(seite))\n",
    "    \n",
    "    try: \n",
    "        for table in range(0,2):\n",
    "            abstimmungs_df = tables[table].df\n",
    "    \n",
    "            zeilen = len(abstimmungs_df.index)\n",
    "\n",
    "            for zeile in range(0,zeilen):    \n",
    "                name = abstimmungs_df.loc[zeile, 1] + \" \" +abstimmungs_df.loc[zeile, 0]\n",
    "                kanton = abstimmungs_df.loc[zeile, 3]\n",
    "                verhalten = abstimmungs_df.loc[zeile, 2]\n",
    "\n",
    "                mini_dict = {\n",
    "                    \"Datum\" : datum,\n",
    "                    \"Nummer\" : gnummer,\n",
    "                    \"Geschäft\" : geschäft,\n",
    "                    \"Politiker\" : name,\n",
    "                    \"Kanton\" : kanton,\n",
    "                    \"Verhalten\" : verhalten}\n",
    "    \n",
    "                master_df_list.append(mini_dict)\n",
    "        \n",
    "    #hier kommt der unten entwickelte Alternativweg rein, bei dem Text ausgelesen wird, weil Tabelle nicht erkannt wird:\n",
    "    except:\n",
    "        # So holen wir die richtigen 24 Elemente aus der Tabelle\n",
    "        tabellenanfang = datenliste.index(' ')+1\n",
    "        tabelle = datenliste[tabellenanfang:(tabellenanfang+24)]\n",
    "        \n",
    "        # So flicken wir die Gmür-Schnönenberger:\n",
    "        tabelle.remove(\"Gmür-\")\n",
    "        tabelle = [w.replace('SchönenbergerAndrea', 'Gmür-Schönenberger Andrea') for w in tabelle]\n",
    "        \n",
    "        # und jetzt trennen wir jede Zeile beim ersten Auftauchen eines Kantons (jenes mit Leerschlag)\n",
    "        tabelle_getrennt = []\n",
    "        kantonsliste = [\"VD\", \"TG\", \"TI\", \"AG\", \"JU\", \"GL\", \"UR\", \"SO\", \"NE\", \"SZ\", \"GR\", \"BE\", \"SG\", \"ZH\", \"LU\", \"SH\", \"ZG\", \"GE\", \"VS\", \"FR\", \"OW\", \"BL\", \"AI\", \"BS\", \"AR\", \"NW\"]\n",
    "\n",
    "        for paar in tabelle:\n",
    "            for kanton in kantonsliste:\n",
    "                trenner = kanton + \" \"\n",
    "                if trenner in paar:\n",
    "                    trennung = paar.split(trenner)\n",
    "            \n",
    "                    # (dann müssen wir den bei wplit verloren gegangenen Kanton, den Trenner, wieder hinzufügen)\n",
    "                    trennung[0] = trennung[0]+kanton\n",
    "            \n",
    "                    tabelle_getrennt.append(trennung[0])\n",
    "                    tabelle_getrennt.append(trennung[1])\n",
    "                    \n",
    "        for eintrag in tabelle_getrennt:\n",
    "            eintrag_neu = eintrag.rsplit(\" \", 2)\n",
    "            \n",
    "            name = eintrag_neu[0]\n",
    "            kanton = eintrag_neu[2]\n",
    "            verhalten = eintrag_neu[1]\n",
    "            \n",
    "            mini_dict = {\n",
    "            \"Datum\" : datum,\n",
    "            \"Nummer\" : gnummer,\n",
    "            \"Geschäft\" : geschäft,\n",
    "            \"Politiker\" : name,\n",
    "            \"Kanton\" : kanton,\n",
    "            \"Verhalten\" : verhalten}\n",
    "    \n",
    "            master_df_list.append(mini_dict)"
   ]
  },
  {
   "cell_type": "code",
   "execution_count": 310,
   "id": "7fae96e4",
   "metadata": {},
   "outputs": [
    {
     "data": {
      "text/html": [
       "<div>\n",
       "<style scoped>\n",
       "    .dataframe tbody tr th:only-of-type {\n",
       "        vertical-align: middle;\n",
       "    }\n",
       "\n",
       "    .dataframe tbody tr th {\n",
       "        vertical-align: top;\n",
       "    }\n",
       "\n",
       "    .dataframe thead th {\n",
       "        text-align: right;\n",
       "    }\n",
       "</style>\n",
       "<table border=\"1\" class=\"dataframe\">\n",
       "  <thead>\n",
       "    <tr style=\"text-align: right;\">\n",
       "      <th></th>\n",
       "      <th>Datum</th>\n",
       "      <th>Nummer</th>\n",
       "      <th>Geschäft</th>\n",
       "      <th>Politiker</th>\n",
       "      <th>Kanton</th>\n",
       "      <th>Verhalten</th>\n",
       "    </tr>\n",
       "  </thead>\n",
       "  <tbody>\n",
       "    <tr>\n",
       "      <th>0</th>\n",
       "      <td>09.03.2020 18:19:01</td>\n",
       "      <td>18.071</td>\n",
       "      <td>Terrorismus und organisierte Kriminalität. Übe...</td>\n",
       "      <td>Bauer Philippe</td>\n",
       "      <td>NE</td>\n",
       "      <td>+</td>\n",
       "    </tr>\n",
       "    <tr>\n",
       "      <th>1</th>\n",
       "      <td>09.03.2020 18:19:01</td>\n",
       "      <td>18.071</td>\n",
       "      <td>Terrorismus und organisierte Kriminalität. Übe...</td>\n",
       "      <td>Kuprecht Alex</td>\n",
       "      <td>SZ</td>\n",
       "      <td>+</td>\n",
       "    </tr>\n",
       "    <tr>\n",
       "      <th>2</th>\n",
       "      <td>09.03.2020 18:19:01</td>\n",
       "      <td>18.071</td>\n",
       "      <td>Terrorismus und organisierte Kriminalität. Übe...</td>\n",
       "      <td>Baume-Schneider Elisabeth</td>\n",
       "      <td>JU</td>\n",
       "      <td>+</td>\n",
       "    </tr>\n",
       "    <tr>\n",
       "      <th>3</th>\n",
       "      <td>09.03.2020 18:19:01</td>\n",
       "      <td>18.071</td>\n",
       "      <td>Terrorismus und organisierte Kriminalität. Übe...</td>\n",
       "      <td>Levrat Christian</td>\n",
       "      <td>FR</td>\n",
       "      <td>+</td>\n",
       "    </tr>\n",
       "    <tr>\n",
       "      <th>4</th>\n",
       "      <td>09.03.2020 18:19:01</td>\n",
       "      <td>18.071</td>\n",
       "      <td>Terrorismus und organisierte Kriminalität. Übe...</td>\n",
       "      <td>Bischof Pirmin</td>\n",
       "      <td>SO</td>\n",
       "      <td>+</td>\n",
       "    </tr>\n",
       "    <tr>\n",
       "      <th>...</th>\n",
       "      <td>...</td>\n",
       "      <td>...</td>\n",
       "      <td>...</td>\n",
       "      <td>...</td>\n",
       "      <td>...</td>\n",
       "      <td>...</td>\n",
       "    </tr>\n",
       "    <tr>\n",
       "      <th>639</th>\n",
       "      <td>11.03.2020 09:14:16</td>\n",
       "      <td>20.008-4</td>\n",
       "      <td>Aussenwirtschaftspolitik 2019. Bericht</td>\n",
       "      <td>Peter Hegglin</td>\n",
       "      <td>ZG</td>\n",
       "      <td>0</td>\n",
       "    </tr>\n",
       "    <tr>\n",
       "      <th>640</th>\n",
       "      <td>11.03.2020 09:14:16</td>\n",
       "      <td>20.008-4</td>\n",
       "      <td>Aussenwirtschaftspolitik 2019. Bericht</td>\n",
       "      <td>Eva Herzog</td>\n",
       "      <td>BS</td>\n",
       "      <td>+</td>\n",
       "    </tr>\n",
       "    <tr>\n",
       "      <th>641</th>\n",
       "      <td>11.03.2020 09:14:16</td>\n",
       "      <td>20.008-4</td>\n",
       "      <td>Aussenwirtschaftspolitik 2019. Bericht</td>\n",
       "      <td>Daniel Jositsch</td>\n",
       "      <td>ZH</td>\n",
       "      <td>+</td>\n",
       "    </tr>\n",
       "    <tr>\n",
       "      <th>642</th>\n",
       "      <td>11.03.2020 09:14:16</td>\n",
       "      <td>20.008-4</td>\n",
       "      <td>Aussenwirtschaftspolitik 2019. Bericht</td>\n",
       "      <td>Charles Juillard</td>\n",
       "      <td>JU</td>\n",
       "      <td>+</td>\n",
       "    </tr>\n",
       "    <tr>\n",
       "      <th>643</th>\n",
       "      <td>11.03.2020 09:14:16</td>\n",
       "      <td>20.008-4</td>\n",
       "      <td>Aussenwirtschaftspolitik 2019. Bericht</td>\n",
       "      <td>Hansjörg Knecht</td>\n",
       "      <td>AG</td>\n",
       "      <td>+</td>\n",
       "    </tr>\n",
       "  </tbody>\n",
       "</table>\n",
       "<p>644 rows × 6 columns</p>\n",
       "</div>"
      ],
      "text/plain": [
       "                   Datum    Nummer  \\\n",
       "0    09.03.2020 18:19:01    18.071   \n",
       "1    09.03.2020 18:19:01    18.071   \n",
       "2    09.03.2020 18:19:01    18.071   \n",
       "3    09.03.2020 18:19:01    18.071   \n",
       "4    09.03.2020 18:19:01    18.071   \n",
       "..                   ...       ...   \n",
       "639  11.03.2020 09:14:16  20.008-4   \n",
       "640  11.03.2020 09:14:16  20.008-4   \n",
       "641  11.03.2020 09:14:16  20.008-4   \n",
       "642  11.03.2020 09:14:16  20.008-4   \n",
       "643  11.03.2020 09:14:16  20.008-4   \n",
       "\n",
       "                                              Geschäft  \\\n",
       "0    Terrorismus und organisierte Kriminalität. Übe...   \n",
       "1    Terrorismus und organisierte Kriminalität. Übe...   \n",
       "2    Terrorismus und organisierte Kriminalität. Übe...   \n",
       "3    Terrorismus und organisierte Kriminalität. Übe...   \n",
       "4    Terrorismus und organisierte Kriminalität. Übe...   \n",
       "..                                                 ...   \n",
       "639             Aussenwirtschaftspolitik 2019. Bericht   \n",
       "640             Aussenwirtschaftspolitik 2019. Bericht   \n",
       "641             Aussenwirtschaftspolitik 2019. Bericht   \n",
       "642             Aussenwirtschaftspolitik 2019. Bericht   \n",
       "643             Aussenwirtschaftspolitik 2019. Bericht   \n",
       "\n",
       "                     Politiker Kanton Verhalten  \n",
       "0               Bauer Philippe     NE         +  \n",
       "1                Kuprecht Alex     SZ         +  \n",
       "2    Baume-Schneider Elisabeth     JU         +  \n",
       "3             Levrat Christian     FR         +  \n",
       "4               Bischof Pirmin     SO         +  \n",
       "..                         ...    ...       ...  \n",
       "639              Peter Hegglin     ZG         0  \n",
       "640                 Eva Herzog     BS         +  \n",
       "641            Daniel Jositsch     ZH         +  \n",
       "642           Charles Juillard     JU         +  \n",
       "643            Hansjörg Knecht     AG         +  \n",
       "\n",
       "[644 rows x 6 columns]"
      ]
     },
     "execution_count": 310,
     "metadata": {},
     "output_type": "execute_result"
    }
   ],
   "source": [
    "master_df = pd.DataFrame(master_df_list)\n",
    "master_df"
   ]
  },
  {
   "cell_type": "code",
   "execution_count": 311,
   "id": "034cbe39",
   "metadata": {},
   "outputs": [
    {
     "data": {
      "text/plain": [
       "09.03.2020 18:19:01    46\n",
       "04.03.2020 11:37:37    46\n",
       "02.03.2020 17:45:41    46\n",
       "02.03.2020 17:02:00    46\n",
       "09.03.2020 19:40:30    46\n",
       "03.03.2020 09:39:02    46\n",
       "02.03.2020 17:21:13    46\n",
       "10.03.2020 10:18:42    46\n",
       "04.03.2020 08:33:21    46\n",
       "04.03.2020 08:35:27    46\n",
       "11.03.2020 09:12:04    46\n",
       "11.03.2020 09:12:50    46\n",
       "11.03.2020 09:13:36    46\n",
       "11.03.2020 09:14:16    46\n",
       "Name: Datum, dtype: int64"
      ]
     },
     "execution_count": 311,
     "metadata": {},
     "output_type": "execute_result"
    }
   ],
   "source": [
    "master_df['Datum'].value_counts()"
   ]
  },
  {
   "cell_type": "code",
   "execution_count": null,
   "id": "39e2c3db",
   "metadata": {},
   "outputs": [],
   "source": []
  }
 ],
 "metadata": {
  "kernelspec": {
   "display_name": "Python 3 (ipykernel)",
   "language": "python",
   "name": "python3"
  },
  "language_info": {
   "codemirror_mode": {
    "name": "ipython",
    "version": 3
   },
   "file_extension": ".py",
   "mimetype": "text/x-python",
   "name": "python",
   "nbconvert_exporter": "python",
   "pygments_lexer": "ipython3",
   "version": "3.7.6"
  }
 },
 "nbformat": 4,
 "nbformat_minor": 5
}
