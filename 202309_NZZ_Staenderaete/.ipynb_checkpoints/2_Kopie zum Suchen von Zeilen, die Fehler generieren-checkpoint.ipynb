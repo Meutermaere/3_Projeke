{
 "cells": [
  {
   "cell_type": "code",
   "execution_count": 115,
   "id": "52ad3f8a",
   "metadata": {},
   "outputs": [],
   "source": [
    "import re"
   ]
  },
  {
   "cell_type": "code",
   "execution_count": 116,
   "id": "b92d0155",
   "metadata": {},
   "outputs": [
    {
     "name": "stdout",
     "output_type": "stream",
     "text": [
      "218\n",
      "12. März 2020 157 Ständerat 18.3828\n",
      "18.3389\n",
      "Motion SGK-N.\n",
      "Ärztliche Abgabe von Cannabis\n",
      "als Medikament an Chronischkranke.\n",
      "Tiefere Gesundheitskosten\n",
      "und weniger Bürokratie\n",
      "Motion CSSS-N.\n",
      "Prescription médicale de cannabis\n",
      "aux malades chroniques.\n",
      "Réduction de la bureaucratie\n",
      "et des coûts de la santé\n",
      "Nationalrat/Conseil national 19.09.18\n",
      "Ständerat/Conseil desEtats 12.03.20\n",
      "Rechsteiner Paul (S, SG), für die Kommission: Herr Präsi-\n",
      "dent, ich schlage Ihnen vor, beide Vorstösse zum Medizinal-\n",
      "cannabis, die Motion Markwalder und die Motion der SGK-N,\n",
      "gleichzeitig zu behandeln. Es geht um dasselbe, wenn auch\n",
      "in leicht modiﬁzierter Form. Wir haben sowieso einen Spe-\n",
      "zialfall vorliegen, weshalb ich Sie nicht allzu lange aufhalten\n",
      "muss, denn beide Motionen sind bereits in der Umsetzung\n",
      "begriffen. In diesem Sinne wird unser Entscheid von der Ge-\n",
      "setzgebung, die bereits unterwegs ist, überholt.\n",
      "Es geht bei beiden Vorstössen um das Thema des soge-\n",
      "nannten Medizinalcannabis, während der nichtmedizinische\n",
      "Cannabis hier kein Thema ist. Die Motion 18.3389, welche\n",
      "die SGK des Nationalrates eingereicht hat, geht auf eine par-\n",
      "lamentarische Initiative des früheren Nationalrates Thomas\n",
      "Ammann zurück. Mit der Motion wird verlangt, dass Medizi-\n",
      "nalcannabis durch ärztliche Verordnung an chronisch Kran-\n",
      "ke abgegeben werden kann. Die Motion Markwalder wie-\n",
      "derum verlangt eine entsprechende Anpassung der gesetzli-\n",
      "chen Grundlagen, damit Cannabis künftig zu medizinischen\n",
      "Zwecken angebaut und nachher als medizinischer Cannabis\n",
      "exportiert werden kann.\n",
      "Der Bundesrat hat inzwischen die Anliegen aufgenommen\n",
      "und bereits eine Vernehmlassung mit einer entsprechenden\n",
      "Anpassung des Gesetzes durchgeführt. Das Vernehmlas-\n",
      "sungsverfahren hat am 17. Oktober 2019 des letzten Jahres\n",
      "geendet – mit dem Resultat, dass praktisch alle, die sich in\n",
      "der Vernehmlassung geäussert haben, namentlich die Kan-\n",
      "tone, dem Projekt des Bundesrates zugestimmt haben. Das\n",
      "heisst, wir haben es jetzt mit einem Fall zu tun, in dem die\n",
      "Motionen bereits in Umsetzung begriffen sind; sie werden\n",
      "durch eine Vorlage des Bundesrates umgesetzt. Nach unse-\n",
      "ren Erkundigungen und nach dem, was die Kommission wäh-\n",
      "rend der Beratung dieser beiden Geschäfte hören konnte,\n",
      "soll die entsprechende Vorlage im Frühsommer dieses Jah-\n",
      "res den Räten zugeleitet werden. Das heisst, die Motionen\n",
      "werden sehr schnell umgesetzt, weil die Vernehmlassung be-\n",
      "reits durchgeführt worden ist.\n",
      "Die Kommission empﬁehlt Ihnen einstimmig, die Motion der\n",
      "SGK-N und die Motion Markwalder anzunehmen.\n",
      "Präsident (Stöckli Hans, Präsident): Sie haben je einen\n",
      "schriftlichen Bericht der Kommission erhalten. Die Kommis-\n",
      "sion und der Bundesrat beantragen die Annahme der beiden\n",
      "Motionen.\n",
      "Noser Ruedi (RL, ZH): Keine Angst, ich möchte die Diskussi-\n",
      "on nicht verlängern, ich möchte Herrn Bundesrat Berset aber\n",
      "doch bitten, hier zum Timing Stellung zu nehmen. Denn für\n",
      "die Produzenten, hier in diesem Fall speziell für die Bioland-\n",
      "wirtschaft, ist das Timing sehr, sehr wichtig. Man könnte ja\n",
      "heute schon, ohne Gesetzesänderung, den Anbau für den\n",
      "Export zulassen. Das würde eigentlich gehen. Dazu hätte ich\n",
      "gerne eine Aussage des Bundesrates: Ist das möglich? Kannman ein schnelles Verfahren machen, oder muss man wirk-\n",
      "lich warten, bis dieses Gesetz voll in Kraft ist? Das Window,\n",
      "während dem man überhaupt in dieses Geschäft einsteigen\n",
      "kann, schliesst sich nämlich langsam. Ist der Bundesrat be-\n",
      "reit, hier schnell zu handeln und der Landwirtschaft, insbe-\n",
      "sondere der Biolandwirtschaft, entgegenzukommen?\n",
      "Berset Alain, conseiller fédéral: Vous l'avez vu, le Conseil\n",
      "fédéral propose également l'adoption de ces deux motions.\n",
      "Nous sommes très conscients de l'importance de cette thé-\n",
      "matique. Il s'agit, avec les deux motions, de clariﬁer le cadre\n",
      "et d'ouvrir, aujourd'hui, le champ – si je peux utiliser cette\n",
      "expression – pour pouvoir viser une meilleure utilisation du\n",
      "cannabis à des ﬁns médicales.\n",
      "Je ne vais pas ajouter grand-chose à ce qu'a dit le rappor-\n",
      "teur, la position du Conseil fédéral est connue. J'aimerais par\n",
      "contre dire quelques mots à l'attention de M. le conseiller aux\n",
      "Etats Noser sur le calendrier. Les travaux avancent. Ce que\n",
      "je peux dire, c'est que nous n'avons pas la possibilité au-\n",
      "jourd'hui, sur la base de ce que nous avons, de faire des\n",
      "exceptions. Nous devons simplement travailler avec le pro-\n",
      "cessus normal sur la loi et la révision de l'ordonnance; il faut\n",
      "aussi faire une consultation pour l'ordonnance. Tous ces tra-\n",
      "vaux prennent naturellement un peu de temps. Ils sont plutôt\n",
      "de nature à permettre un développement qui soit stable, bien\n",
      "compris et qui permette une certaine sérénité dans cette évo-\n",
      "lution.\n",
      "Les travaux sur la loi sont donc en train d'avancer; nous al-\n",
      "lons ensuite pouvoir organiser une consultation sur l'ordon-\n",
      "nance; cela signiﬁe que la loi sera mise en oeuvre dès que\n",
      "possible. Nous sommes maintenant en 2020, la consultation\n",
      "sur l'ordonnance n'a pas encore eu lieu. L'entrée en vigueur\n",
      "pourrait se faire en 2021 ou en 2022, il faut voir à quel mo-\n",
      "ment ce sera possible. Je viens de poser la question – j'ai pris\n",
      "note de votre remarque –, nous allons regarder encore une\n",
      "fois le calendrier pour agir au plus vite, mais en respectant\n",
      "bien sûr les obligations légales en matière, notamment, de\n",
      "consultation et en veillant à donner la possibilité à l'ensemble\n",
      "des acteurs de s'exprimer.\n",
      "J'ai pris note de votre remarque, et nous allons regarder com-\n",
      "ment faire pour aller au plus vite – si on peut le dire ainsi –,\n",
      "mais avec la stabilité requise.\n",
      "18.3148, 18.3389\n",
      "Angenommen – Adopté\n",
      "18.3828\n",
      "Motion Bourgeois Jacques.\n",
      "Gesundheitsrisiken wegen Selenmangel.\n",
      "Massnahmen\n",
      "Motion Bourgeois Jacques.\n",
      "Risques pour la santé\n",
      "du manque de sélénium.\n",
      "Mesures à prendre\n",
      "Nationalrat/Conseil national 14.12.18\n",
      "Ständerat/Conseil desEtats 12.03.20\n",
      "Präsident (Stöckli Hans, Präsident): Es liegt ein schriftlicher\n",
      "Bericht der Kommission vor. Die Kommission und der Bun-\n",
      "desrat beantragen, die Motion anzunehmen.\n",
      "Graf Maya (G, BL), für die Kommission: Die Motion Bour-\n",
      "geois 18.3828, \"Gesundheitsrisiken wegen Selenmangel.\n",
      "Massnahmen\", wurde von der Kommission an der Sitzung\n",
      "vom 11. Februar 2020 geprüft. Sie war am 25. September\n",
      "Amtliches Bulletin der Bundesversammlung\n",
      "\n"
     ]
    }
   ],
   "source": [
    "# importing all the required modules\n",
    "import PyPDF2\n",
    "\n",
    "# creating a pdf reader object\n",
    "reader = PyPDF2.PdfReader('Sessionsprotokolle/SR_5102_2003.pdf')\n",
    "\n",
    "# print the number of pages in pdf file\n",
    "print(len(reader.pages))\n",
    "\n",
    "# print the text of the first page\n",
    "print(reader.pages[180].extract_text())"
   ]
  },
  {
   "cell_type": "code",
   "execution_count": 171,
   "id": "2032ef14",
   "metadata": {},
   "outputs": [],
   "source": [
    "seite = reader.pages[212].extract_text()"
   ]
  },
  {
   "cell_type": "code",
   "execution_count": 172,
   "id": "60bc1b7a",
   "metadata": {},
   "outputs": [
    {
     "data": {
      "text/plain": [
       "\"Geschäft / Objet:\\n20.008-2 Aussenwirtschaftspolitik 2019. Bericht\\nBundesbeschluss über die Genehmigung des Handelsabkommens zwischen der Schweiz und dem\\nVereinigten Königreich und des Zusatzabkommens über die Einbeziehung Liechtensteins in das\\nHandelsabkommen\\nPolitique économique extérieure 2019. Rapport\\nArrêté fédéral portant approbation de l’accord commercial entre la Suisse et le Royaume-Uni et de l’accord\\nadditionnel en vue d’étendre au Liechtenstein certaines dispositions de l’accord commercial\\nPolitica economica esterna. Rapporto 2019\\nDecreto federale che approva l’Accordo commerciale tra la Svizzera e il Regno Unito nonché l’Accordo\\naggiuntivo che estende al Liechtenstein alcune disposizioni dell’Accordo commerciale\\nGegenstand / Objet du vote: Gesamtabstimmung\\nAbstimmung vom / Vote du: 11.03.2020 09:12:50\\n \\nBauer Philippe + NE Kuprecht Alex + SZ\\nBaume-Schneider Elisabeth + JU Levrat Christian 0 FR\\nBischof Pirmin 0 SO Maret Marianne + VS\\nBurkart Thierry + AG Mazzone Lisa + GE\\nCarobbio Guscetti Marina + TI Michel Matthias + ZG\\nCaroni Andrea 0 AR Minder Thomas + SH\\nChiesa Marco 0 TI Müller Damian + LU\\nDittli Josef + UR Noser Ruedi + ZH\\nEngler Stefan + GR Rechsteiner Paul 0 SG\\nEttlin Erich 0 OW Reichmuth Othmar + SZ\\nFässler Daniel + AI Rieder Beat + VS\\nFrançais Olivier + VD Salzmann Werner + BE\\nGapany Johanna + FR Schmid Martin + GR\\nGermann Hannes + SH Sommaruga Carlo 0 GE\\nGmür-\\nSchönenbergerAndrea + LU Stark Jakob + TG\\nGraf Maya + BL Stöckli Hans P BE\\nHäberli-Koller Brigitte + TG Thorens Goumaz Adèle + VD\\nHefti Thomas + GL Vara Céline + NE\\nHegglin Peter 0 ZG Wicki Hans + NW\\nHerzog Eva + BS Würth Benedikt + SG\\nJositsch Daniel + ZH Zanetti Roberto + SO\\nJuillard Charles + JU Z'graggen Heidi + UR\\nKnecht Hansjörg + AG Zopfi Mathias + GL\\n \\nLegende Tot.\\n+ Ja / oui / si 37\\n- Nein / non / no 0\\n= Enth. / abst. / ast. 0\\nE Enschuldigt gem. Art. 44a Abs. 6 GRS / excusé sel. art. 44a al. 6 RCE / scusato se. art. 44a cpv. 6 RCS 0\\n0 Hat nicht teilgenommen / n’a pas participé au vote / non ha partecipato al voto 8\\nP Die Präsidentin/der Präsident stimmt nicht / La présidente/le président ne prend pas part au vote / La/il\\npresidente non participa al voto1\\n \\nBedeutung Ja / Signification du oui: Annahme des Bundesbeschlusses\\nBedeutung Nein / Signification du non: Ablehnung 20.008-2 Ref. 3416\\nSTÄNDERAT CONSEIL DES ETATS\\nAbstimmungsprotokoll Procès-verbal de vote\\nSTÄNDERAT, Elektronisches Abstimmungssystem CONSEIL DES ETATS, système de vote électronique\\n11.03.2020 09:13:11 identif. : 51.2 / 11.03.2020 09:12:50 Ref. : Erfassung-Nr. : 3416\""
      ]
     },
     "execution_count": 172,
     "metadata": {},
     "output_type": "execute_result"
    }
   ],
   "source": [
    "seite"
   ]
  },
  {
   "cell_type": "code",
   "execution_count": 173,
   "id": "3b622d5a",
   "metadata": {},
   "outputs": [],
   "source": [
    "#So finde ich heraus, ob es sich um ein Abstimmungsprotokoll handelt (Text beginnt mit \"Geschäft\"):"
   ]
  },
  {
   "cell_type": "code",
   "execution_count": 174,
   "id": "99fd9a4a",
   "metadata": {},
   "outputs": [
    {
     "data": {
      "text/plain": [
       "True"
      ]
     },
     "execution_count": 174,
     "metadata": {},
     "output_type": "execute_result"
    }
   ],
   "source": [
    "seite[:8] == \"Geschäft\""
   ]
  },
  {
   "cell_type": "code",
   "execution_count": 175,
   "id": "b5dc5ea2",
   "metadata": {},
   "outputs": [],
   "source": [
    "# Jetzt versuche ich mit Regex, die Nummer und den Titel anzusteuern:"
   ]
  },
  {
   "cell_type": "code",
   "execution_count": 176,
   "id": "4630e857",
   "metadata": {},
   "outputs": [],
   "source": [
    "# Zuerst splitten wir das Dokument >>> Objekt Sollte jetzt immer Geschäft und Deutschen Titel enthalten"
   ]
  },
  {
   "cell_type": "code",
   "execution_count": 177,
   "id": "afe65384",
   "metadata": {},
   "outputs": [
    {
     "data": {
      "text/plain": [
       "['Geschäft / Objet:',\n",
       " '20.008-2 Aussenwirtschaftspolitik 2019. Bericht',\n",
       " 'Bundesbeschluss über die Genehmigung des Handelsabkommens zwischen der Schweiz und dem',\n",
       " 'Vereinigten Königreich und des Zusatzabkommens über die Einbeziehung Liechtensteins in das',\n",
       " 'Handelsabkommen',\n",
       " 'Politique économique extérieure 2019. Rapport',\n",
       " 'Arrêté fédéral portant approbation de l’accord commercial entre la Suisse et le Royaume-Uni et de l’accord',\n",
       " 'additionnel en vue d’étendre au Liechtenstein certaines dispositions de l’accord commercial',\n",
       " 'Politica economica esterna. Rapporto 2019',\n",
       " 'Decreto federale che approva l’Accordo commerciale tra la Svizzera e il Regno Unito nonché l’Accordo',\n",
       " 'aggiuntivo che estende al Liechtenstein alcune disposizioni dell’Accordo commerciale',\n",
       " 'Gegenstand / Objet du vote: Gesamtabstimmung',\n",
       " 'Abstimmung vom / Vote du: 11.03.2020 09:12:50',\n",
       " ' ',\n",
       " 'Bauer Philippe + NE Kuprecht Alex + SZ',\n",
       " 'Baume-Schneider Elisabeth + JU Levrat Christian 0 FR',\n",
       " 'Bischof Pirmin 0 SO Maret Marianne + VS',\n",
       " 'Burkart Thierry + AG Mazzone Lisa + GE',\n",
       " 'Carobbio Guscetti Marina + TI Michel Matthias + ZG',\n",
       " 'Caroni Andrea 0 AR Minder Thomas + SH',\n",
       " 'Chiesa Marco 0 TI Müller Damian + LU',\n",
       " 'Dittli Josef + UR Noser Ruedi + ZH',\n",
       " 'Engler Stefan + GR Rechsteiner Paul 0 SG',\n",
       " 'Ettlin Erich 0 OW Reichmuth Othmar + SZ',\n",
       " 'Fässler Daniel + AI Rieder Beat + VS',\n",
       " 'Français Olivier + VD Salzmann Werner + BE',\n",
       " 'Gapany Johanna + FR Schmid Martin + GR',\n",
       " 'Germann Hannes + SH Sommaruga Carlo 0 GE',\n",
       " 'Gmür-',\n",
       " 'SchönenbergerAndrea + LU Stark Jakob + TG',\n",
       " 'Graf Maya + BL Stöckli Hans P BE',\n",
       " 'Häberli-Koller Brigitte + TG Thorens Goumaz Adèle + VD',\n",
       " 'Hefti Thomas + GL Vara Céline + NE',\n",
       " 'Hegglin Peter 0 ZG Wicki Hans + NW',\n",
       " 'Herzog Eva + BS Würth Benedikt + SG',\n",
       " 'Jositsch Daniel + ZH Zanetti Roberto + SO',\n",
       " \"Juillard Charles + JU Z'graggen Heidi + UR\",\n",
       " 'Knecht Hansjörg + AG Zopfi Mathias + GL',\n",
       " ' ',\n",
       " 'Legende Tot.',\n",
       " '+ Ja / oui / si 37',\n",
       " '- Nein / non / no 0',\n",
       " '= Enth. / abst. / ast. 0',\n",
       " 'E Enschuldigt gem. Art. 44a Abs. 6 GRS / excusé sel. art. 44a al. 6 RCE / scusato se. art. 44a cpv. 6 RCS 0',\n",
       " '0 Hat nicht teilgenommen / n’a pas participé au vote / non ha partecipato al voto 8',\n",
       " 'P Die Präsidentin/der Präsident stimmt nicht / La présidente/le président ne prend pas part au vote / La/il',\n",
       " 'presidente non participa al voto1',\n",
       " ' ',\n",
       " 'Bedeutung Ja / Signification du oui: Annahme des Bundesbeschlusses',\n",
       " 'Bedeutung Nein / Signification du non: Ablehnung 20.008-2 Ref. 3416',\n",
       " 'STÄNDERAT CONSEIL DES ETATS',\n",
       " 'Abstimmungsprotokoll Procès-verbal de vote',\n",
       " 'STÄNDERAT, Elektronisches Abstimmungssystem CONSEIL DES ETATS, système de vote électronique',\n",
       " '11.03.2020 09:13:11 identif. : 51.2 / 11.03.2020 09:12:50 Ref. : Erfassung-Nr. : 3416']"
      ]
     },
     "execution_count": 177,
     "metadata": {},
     "output_type": "execute_result"
    }
   ],
   "source": [
    "seite.split(\"\\n\")"
   ]
  },
  {
   "cell_type": "code",
   "execution_count": 178,
   "id": "ae1d6511",
   "metadata": {},
   "outputs": [],
   "source": [
    "datenliste = seite.split(\"\\n\")"
   ]
  },
  {
   "cell_type": "code",
   "execution_count": 179,
   "id": "d476cc2e",
   "metadata": {},
   "outputs": [],
   "source": [
    "#So finde ich die Zeile, in der das Geschäft ist (nämlich die folgende):"
   ]
  },
  {
   "cell_type": "code",
   "execution_count": 180,
   "id": "e7ad2906",
   "metadata": {},
   "outputs": [],
   "source": [
    "for zeile in range(len(datenliste)):\n",
    "    if \"Geschäft\" in datenliste[zeile]:\n",
    "        geschäftszeile = datenliste[(zeile+1)]"
   ]
  },
  {
   "cell_type": "code",
   "execution_count": 181,
   "id": "359bf4d0",
   "metadata": {},
   "outputs": [
    {
     "data": {
      "text/plain": [
       "'20.008-2 Aussenwirtschaftspolitik 2019. Bericht'"
      ]
     },
     "execution_count": 181,
     "metadata": {},
     "output_type": "execute_result"
    }
   ],
   "source": [
    "geschäftszeile"
   ]
  },
  {
   "cell_type": "code",
   "execution_count": 182,
   "id": "df3b9b8a",
   "metadata": {},
   "outputs": [],
   "source": [
    "#und jetzt nutzen wir Regex, um die Nummer rauszulesen:"
   ]
  },
  {
   "cell_type": "code",
   "execution_count": 183,
   "id": "edcc504f",
   "metadata": {},
   "outputs": [],
   "source": [
    "regex_gnummer = r\"(\\d\\d\\.\\S+)\"\n",
    "#das bedeutet: zwei Zahlen, gefolgt von einem Punkt, dann beliebig viele (+) Nicht-Leerschläge"
   ]
  },
  {
   "cell_type": "code",
   "execution_count": 184,
   "id": "b8c899de",
   "metadata": {},
   "outputs": [],
   "source": [
    "gnummer = re.findall(regex_gnummer, geschäftszeile)"
   ]
  },
  {
   "cell_type": "code",
   "execution_count": 185,
   "id": "f0db184f",
   "metadata": {},
   "outputs": [
    {
     "data": {
      "text/plain": [
       "['20.008-2']"
      ]
     },
     "execution_count": 185,
     "metadata": {},
     "output_type": "execute_result"
    }
   ],
   "source": [
    "gnummer"
   ]
  },
  {
   "cell_type": "code",
   "execution_count": 186,
   "id": "c3905cf8",
   "metadata": {},
   "outputs": [],
   "source": [
    "#das, was übrig bleibt, wenn man die Nummer wegschneidet, ist folglich das Geschäft"
   ]
  },
  {
   "cell_type": "code",
   "execution_count": 187,
   "id": "493ac894",
   "metadata": {},
   "outputs": [
    {
     "data": {
      "text/plain": [
       "'Aussenwirtschaftspolitik 2019. Bericht'"
      ]
     },
     "execution_count": 187,
     "metadata": {},
     "output_type": "execute_result"
    }
   ],
   "source": [
    "geschäft = geschäftszeile.strip(str(gnummer)+\" \")\n",
    "geschäft"
   ]
  },
  {
   "cell_type": "code",
   "execution_count": 188,
   "id": "17d5d7c4",
   "metadata": {},
   "outputs": [],
   "source": [
    "#Jetzt brauche wir noch das Datum"
   ]
  },
  {
   "cell_type": "code",
   "execution_count": 189,
   "id": "4e29b20a",
   "metadata": {},
   "outputs": [],
   "source": [
    "regex_datum = r\"\\d\\d\\.\\d\\d\\.\\d\\d\\d\\d \\d\\d\\:\\d\\d\\:\\d\\d\"\n",
    "\n",
    "for zeile in range(len(datenliste)):\n",
    "    if \"Abstimmung vom\" in datenliste[zeile]:\n",
    "        datum = re.findall(regex_datum, datenliste[zeile])\n",
    "        "
   ]
  },
  {
   "cell_type": "code",
   "execution_count": 190,
   "id": "f6d52177",
   "metadata": {},
   "outputs": [],
   "source": [
    "#So holen wir bei Bedarf den Gegenstand, um das Geschäft zu spezifizieren: "
   ]
  },
  {
   "cell_type": "code",
   "execution_count": 191,
   "id": "6bf2bb3f",
   "metadata": {},
   "outputs": [],
   "source": [
    "for zeile in range(len(datenliste)):\n",
    "    if \"Gegenstand\" in datenliste[zeile]:\n",
    "        gegenstand = str(datenliste[zeile]).replace(\"Gegenstand / Objet du vote: \",\"\")\n",
    "        "
   ]
  },
  {
   "cell_type": "code",
   "execution_count": 193,
   "id": "007a716d",
   "metadata": {},
   "outputs": [
    {
     "data": {
      "text/plain": [
       "'Gesamtabstimmung'"
      ]
     },
     "execution_count": 193,
     "metadata": {},
     "output_type": "execute_result"
    }
   ],
   "source": [
    "gegenstand"
   ]
  },
  {
   "cell_type": "code",
   "execution_count": 194,
   "id": "13f19ae5",
   "metadata": {},
   "outputs": [],
   "source": [
    "#So holen wir bei Bedarf das Abstimmungsergebnis:"
   ]
  },
  {
   "cell_type": "code",
   "execution_count": 195,
   "id": "02b63817",
   "metadata": {},
   "outputs": [
    {
     "data": {
      "text/plain": [
       "'+'"
      ]
     },
     "execution_count": 195,
     "metadata": {},
     "output_type": "execute_result"
    }
   ],
   "source": [
    "for zeile in range(len(datenliste)):\n",
    "    if \"+ Ja / oui / si \" in datenliste[zeile]:\n",
    "        jastimmen = int(str(datenliste[zeile]).replace(\"+ Ja / oui / si \",\"\"))\n",
    "\n",
    "for zeile in range(len(datenliste)):    \n",
    "    if \"- Nein / non / no \" in datenliste[zeile]:\n",
    "        neinstimmen = int(str(datenliste[zeile]).replace(\"- Nein / non / no \",\"\"))\n",
    "\n",
    "if jastimmen > neinstimmen: \n",
    "    resultat =\"+\"\n",
    "\n",
    "if jastimmen < neinstimmen: \n",
    "    resultat =\"-\"\n",
    "\n",
    "resultat\n"
   ]
  },
  {
   "cell_type": "markdown",
   "id": "50e23b9f",
   "metadata": {},
   "source": [
    "## Loop, der Jede Seite darauf abtastet, ob es eine Abstimmung ist"
   ]
  },
  {
   "cell_type": "code",
   "execution_count": null,
   "id": "a2906113",
   "metadata": {},
   "outputs": [],
   "source": [
    "#Dokumentlänge prüfen:"
   ]
  },
  {
   "cell_type": "code",
   "execution_count": 91,
   "id": "c5def1ea",
   "metadata": {},
   "outputs": [
    {
     "data": {
      "text/plain": [
       "218"
      ]
     },
     "execution_count": 91,
     "metadata": {},
     "output_type": "execute_result"
    }
   ],
   "source": [
    "dokument = PyPDF2.PdfReader('Sessionsprotokolle/SR_5102_2003.pdf')\n",
    "laenge = len(dokument.pages)\n",
    "laenge"
   ]
  },
  {
   "cell_type": "code",
   "execution_count": 96,
   "id": "ef15fdd9",
   "metadata": {},
   "outputs": [
    {
     "name": "stdout",
     "output_type": "stream",
     "text": [
      "12. März 2020 157 Ständerat 18.3828\n",
      "18.3389\n",
      "Motion SGK-N.\n",
      "Ärztliche Abgabe von Cannabis\n",
      "als Medikament an Chronischkranke.\n",
      "Tiefere Gesundheitskosten\n",
      "und weniger Bürokratie\n",
      "Motion CSSS-N.\n",
      "Prescription médicale de cannabis\n",
      "aux malades chroniques.\n",
      "Réduction de la bureaucratie\n",
      "et des coûts de la santé\n",
      "Nationalrat/Conseil national 19.09.18\n",
      "Ständerat/Conseil desEtats 12.03.20\n",
      "Rechsteiner Paul (S, SG), für die Kommission: Herr Präsi-\n",
      "dent, ich schlage Ihnen vor, beide Vorstösse zum Medizinal-\n",
      "cannabis, die Motion Markwalder und die Motion der SGK-N,\n",
      "gleichzeitig zu behandeln. Es geht um dasselbe, wenn auch\n",
      "in leicht modiﬁzierter Form. Wir haben sowieso einen Spe-\n",
      "zialfall vorliegen, weshalb ich Sie nicht allzu lange aufhalten\n",
      "muss, denn beide Motionen sind bereits in der Umsetzung\n",
      "begriffen. In diesem Sinne wird unser Entscheid von der Ge-\n",
      "setzgebung, die bereits unterwegs ist, überholt.\n",
      "Es geht bei beiden Vorstössen um das Thema des soge-\n",
      "nannten Medizinalcannabis, während der nichtmedizinische\n",
      "Cannabis hier kein Thema ist. Die Motion 18.3389, welche\n",
      "die SGK des Nationalrates eingereicht hat, geht auf eine par-\n",
      "lamentarische Initiative des früheren Nationalrates Thomas\n",
      "Ammann zurück. Mit der Motion wird verlangt, dass Medizi-\n",
      "nalcannabis durch ärztliche Verordnung an chronisch Kran-\n",
      "ke abgegeben werden kann. Die Motion Markwalder wie-\n",
      "derum verlangt eine entsprechende Anpassung der gesetzli-\n",
      "chen Grundlagen, damit Cannabis künftig zu medizinischen\n",
      "Zwecken angebaut und nachher als medizinischer Cannabis\n",
      "exportiert werden kann.\n",
      "Der Bundesrat hat inzwischen die Anliegen aufgenommen\n",
      "und bereits eine Vernehmlassung mit einer entsprechenden\n",
      "Anpassung des Gesetzes durchgeführt. Das Vernehmlas-\n",
      "sungsverfahren hat am 17. Oktober 2019 des letzten Jahres\n",
      "geendet – mit dem Resultat, dass praktisch alle, die sich in\n",
      "der Vernehmlassung geäussert haben, namentlich die Kan-\n",
      "tone, dem Projekt des Bundesrates zugestimmt haben. Das\n",
      "heisst, wir haben es jetzt mit einem Fall zu tun, in dem die\n",
      "Motionen bereits in Umsetzung begriffen sind; sie werden\n",
      "durch eine Vorlage des Bundesrates umgesetzt. Nach unse-\n",
      "ren Erkundigungen und nach dem, was die Kommission wäh-\n",
      "rend der Beratung dieser beiden Geschäfte hören konnte,\n",
      "soll die entsprechende Vorlage im Frühsommer dieses Jah-\n",
      "res den Räten zugeleitet werden. Das heisst, die Motionen\n",
      "werden sehr schnell umgesetzt, weil die Vernehmlassung be-\n",
      "reits durchgeführt worden ist.\n",
      "Die Kommission empﬁehlt Ihnen einstimmig, die Motion der\n",
      "SGK-N und die Motion Markwalder anzunehmen.\n",
      "Präsident (Stöckli Hans, Präsident): Sie haben je einen\n",
      "schriftlichen Bericht der Kommission erhalten. Die Kommis-\n",
      "sion und der Bundesrat beantragen die Annahme der beiden\n",
      "Motionen.\n",
      "Noser Ruedi (RL, ZH): Keine Angst, ich möchte die Diskussi-\n",
      "on nicht verlängern, ich möchte Herrn Bundesrat Berset aber\n",
      "doch bitten, hier zum Timing Stellung zu nehmen. Denn für\n",
      "die Produzenten, hier in diesem Fall speziell für die Bioland-\n",
      "wirtschaft, ist das Timing sehr, sehr wichtig. Man könnte ja\n",
      "heute schon, ohne Gesetzesänderung, den Anbau für den\n",
      "Export zulassen. Das würde eigentlich gehen. Dazu hätte ich\n",
      "gerne eine Aussage des Bundesrates: Ist das möglich? Kannman ein schnelles Verfahren machen, oder muss man wirk-\n",
      "lich warten, bis dieses Gesetz voll in Kraft ist? Das Window,\n",
      "während dem man überhaupt in dieses Geschäft einsteigen\n",
      "kann, schliesst sich nämlich langsam. Ist der Bundesrat be-\n",
      "reit, hier schnell zu handeln und der Landwirtschaft, insbe-\n",
      "sondere der Biolandwirtschaft, entgegenzukommen?\n",
      "Berset Alain, conseiller fédéral: Vous l'avez vu, le Conseil\n",
      "fédéral propose également l'adoption de ces deux motions.\n",
      "Nous sommes très conscients de l'importance de cette thé-\n",
      "matique. Il s'agit, avec les deux motions, de clariﬁer le cadre\n",
      "et d'ouvrir, aujourd'hui, le champ – si je peux utiliser cette\n",
      "expression – pour pouvoir viser une meilleure utilisation du\n",
      "cannabis à des ﬁns médicales.\n",
      "Je ne vais pas ajouter grand-chose à ce qu'a dit le rappor-\n",
      "teur, la position du Conseil fédéral est connue. J'aimerais par\n",
      "contre dire quelques mots à l'attention de M. le conseiller aux\n",
      "Etats Noser sur le calendrier. Les travaux avancent. Ce que\n",
      "je peux dire, c'est que nous n'avons pas la possibilité au-\n",
      "jourd'hui, sur la base de ce que nous avons, de faire des\n",
      "exceptions. Nous devons simplement travailler avec le pro-\n",
      "cessus normal sur la loi et la révision de l'ordonnance; il faut\n",
      "aussi faire une consultation pour l'ordonnance. Tous ces tra-\n",
      "vaux prennent naturellement un peu de temps. Ils sont plutôt\n",
      "de nature à permettre un développement qui soit stable, bien\n",
      "compris et qui permette une certaine sérénité dans cette évo-\n",
      "lution.\n",
      "Les travaux sur la loi sont donc en train d'avancer; nous al-\n",
      "lons ensuite pouvoir organiser une consultation sur l'ordon-\n",
      "nance; cela signiﬁe que la loi sera mise en oeuvre dès que\n",
      "possible. Nous sommes maintenant en 2020, la consultation\n",
      "sur l'ordonnance n'a pas encore eu lieu. L'entrée en vigueur\n",
      "pourrait se faire en 2021 ou en 2022, il faut voir à quel mo-\n",
      "ment ce sera possible. Je viens de poser la question – j'ai pris\n",
      "note de votre remarque –, nous allons regarder encore une\n",
      "fois le calendrier pour agir au plus vite, mais en respectant\n",
      "bien sûr les obligations légales en matière, notamment, de\n",
      "consultation et en veillant à donner la possibilité à l'ensemble\n",
      "des acteurs de s'exprimer.\n",
      "J'ai pris note de votre remarque, et nous allons regarder com-\n",
      "ment faire pour aller au plus vite – si on peut le dire ainsi –,\n",
      "mais avec la stabilité requise.\n",
      "18.3148, 18.3389\n",
      "Angenommen – Adopté\n",
      "18.3828\n",
      "Motion Bourgeois Jacques.\n",
      "Gesundheitsrisiken wegen Selenmangel.\n",
      "Massnahmen\n",
      "Motion Bourgeois Jacques.\n",
      "Risques pour la santé\n",
      "du manque de sélénium.\n",
      "Mesures à prendre\n",
      "Nationalrat/Conseil national 14.12.18\n",
      "Ständerat/Conseil desEtats 12.03.20\n",
      "Präsident (Stöckli Hans, Präsident): Es liegt ein schriftlicher\n",
      "Bericht der Kommission vor. Die Kommission und der Bun-\n",
      "desrat beantragen, die Motion anzunehmen.\n",
      "Graf Maya (G, BL), für die Kommission: Die Motion Bour-\n",
      "geois 18.3828, \"Gesundheitsrisiken wegen Selenmangel.\n",
      "Massnahmen\", wurde von der Kommission an der Sitzung\n",
      "vom 11. Februar 2020 geprüft. Sie war am 25. September\n",
      "Amtliches Bulletin der Bundesversammlung\n",
      "\n"
     ]
    }
   ],
   "source": [
    "inhalt = dokument.pages[seite].extract_text()"
   ]
  },
  {
   "cell_type": "code",
   "execution_count": 98,
   "id": "19a7caab",
   "metadata": {},
   "outputs": [],
   "source": [
    "#jetzt machen wir zuerst eine leere Liste, in die alle Seitennummern mit Abstimmungen kommen\n",
    "\n",
    "seitenliste = []\n",
    "\n",
    "#dann tasten wir jede Seite darauf ab, ob sie mit dem Begriff \"Geschäft\" beginnt; wenn ja >>> in die Seitenliste\n",
    "for seite in range(laenge):\n",
    "    inhalt = dokument.pages[seite].extract_text()\n",
    "    if inhalt[:8] == \"Geschäft\":\n",
    "        seitenliste.append(seite)"
   ]
  },
  {
   "cell_type": "code",
   "execution_count": 99,
   "id": "e7f0c131",
   "metadata": {},
   "outputs": [
    {
     "data": {
      "text/plain": [
       "[200, 201, 202, 203, 204, 205, 206, 207, 208, 209, 210, 212, 213, 214]"
      ]
     },
     "execution_count": 99,
     "metadata": {},
     "output_type": "execute_result"
    }
   ],
   "source": [
    "seitenliste"
   ]
  },
  {
   "cell_type": "markdown",
   "id": "142934c0",
   "metadata": {},
   "source": [
    "## Loop, der jede relevante Seite auswertet"
   ]
  },
  {
   "cell_type": "code",
   "execution_count": 114,
   "id": "220597a1",
   "metadata": {},
   "outputs": [
    {
     "name": "stdout",
     "output_type": "stream",
     "text": [
      "18.071\n",
      "Terrorismus und organisierte Kriminalität. Übereinkommen des Europarates\n",
      "09.03.2020\n",
      "18.076\n",
      "Bundesgesetz über das Internationale Privatrecht. 12. Kapitel: Internationale Schiedsgerichtsbarkeit\n",
      "04.03.2020\n",
      "18.092\n",
      "Erwerbsersatzgesetz. Mutterschaftsentschädigung bei längerem Spitalaufenthalt des Neugeborenen\n",
      "02.03.2020\n",
      "19.030\n",
      "Tierseuchengesetz. Änderung\n",
      "02.03.2020\n",
      "19.032-1\n",
      "Polizeiliche Massnahmen zur Bekämpfung von Terrorismus. Bundesgesetz\n",
      "09.03.2020\n",
      "19.033\n",
      "Einführung des automatischen Informationsaustauschs über Finanzkonten mit weiteren Partnerstaaten ab\n",
      "03.03.2020\n",
      "19.047\n",
      "Übereinkommen des Europarats gegen den Handel mit menschlichen Organen. Genehmigung und\n",
      "02.03.2020\n",
      "19.051-1\n",
      "Überbrückungsleistung für ältere Arbeitslose. Bundesgesetz\n",
      "10.03.2020\n",
      "19.471\n",
      "Pa.Iv. Comte. Opfer fürsorgerischer Zwangsmassnahmen. Fristverlängerung\n",
      "04.03.2020\n",
      "19.471\n",
      "Pa.Iv. Comte. Opfer fürsorgerischer Zwangsmassnahmen. Fristverlängerung\n",
      "04.03.2020\n",
      "20.008-1\n",
      "Aussenwirtschaftspolitik 2019. Bericht\n",
      "11.03.2020\n",
      "20.008-2\n",
      "Aussenwirtschaftspolitik 2019. Bericht\n",
      "11.03.2020\n",
      "20.008-3\n",
      "Aussenwirtschaftspolitik 2019. Bericht\n",
      "11.03.2020\n",
      "20.008-4\n",
      "Aussenwirtschaftspolitik 2019. Bericht\n",
      "11.03.2020\n"
     ]
    }
   ],
   "source": [
    "regex_gnummer = r\"(\\d\\d\\.\\S+)\"\n",
    "regex_datum = r\"\\d\\d\\.\\d\\d\\.\\d\\d\\d\\d\"\n",
    "\n",
    "for seite in seitenliste:\n",
    "    inhalt = dokument.pages[seite].extract_text()\n",
    "    datenliste = inhalt.split(\"\\n\")\n",
    "    \n",
    "    for zeile in range(len(datenliste)):\n",
    "        if \"Geschäft\" in datenliste[zeile]:\n",
    "            geschäftszeile = datenliste[(zeile+1)]\n",
    "            \n",
    "            gnummer = (re.findall(regex_gnummer, geschäftszeile))\n",
    "            geschäft = geschäftszeile.strip(str(gnummer)+\" \")\n",
    "            \n",
    "            print(gnummer[0])\n",
    "            print(geschäft)\n",
    "            \n",
    "    for zeile in range(len(datenliste)):\n",
    "        if \"Abstimmung vom\" in datenliste[zeile]:\n",
    "            datum = re.findall(regex_datum, datenliste[zeile])\n",
    "        \n",
    "            print(datum[0])\n",
    "    \n",
    "            \n",
    "    "
   ]
  },
  {
   "cell_type": "code",
   "execution_count": null,
   "id": "e2d4808e",
   "metadata": {},
   "outputs": [],
   "source": []
  }
 ],
 "metadata": {
  "kernelspec": {
   "display_name": "Python 3 (ipykernel)",
   "language": "python",
   "name": "python3"
  },
  "language_info": {
   "codemirror_mode": {
    "name": "ipython",
    "version": 3
   },
   "file_extension": ".py",
   "mimetype": "text/x-python",
   "name": "python",
   "nbconvert_exporter": "python",
   "pygments_lexer": "ipython3",
   "version": "3.7.6"
  }
 },
 "nbformat": 4,
 "nbformat_minor": 5
}
