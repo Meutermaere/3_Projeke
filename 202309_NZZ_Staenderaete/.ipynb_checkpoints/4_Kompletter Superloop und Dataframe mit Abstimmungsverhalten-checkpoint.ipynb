{
 "cells": [
  {
   "cell_type": "code",
   "execution_count": null,
   "id": "de0ad408",
   "metadata": {},
   "outputs": [],
   "source": [
    "import pandas as pd\n",
    "import camelot # um Tabellen im PDFs zu erkennen\n",
    "import PyPDF2 # um Text aus PDFs zu lesen\n",
    "import re"
   ]
  },
  {
   "cell_type": "code",
   "execution_count": null,
   "id": "38bc95bf",
   "metadata": {},
   "outputs": [],
   "source": [
    "file = \"Sessionsprotokolle/SR_5102_2003.pdf\""
   ]
  },
  {
   "cell_type": "code",
   "execution_count": null,
   "id": "a57b682d",
   "metadata": {},
   "outputs": [],
   "source": [
    "dokument = PyPDF2.PdfReader(file)"
   ]
  },
  {
   "cell_type": "code",
   "execution_count": null,
   "id": "dfafd442",
   "metadata": {},
   "outputs": [],
   "source": [
    "regex_gnummer = r\"(\\d\\d\\.\\S+)\"\n",
    "regex_datum = r\"\\d\\d\\.\\d\\d\\.\\d\\d\\d\\d \\d\\d\\:\\d\\d\\:\\d\\d\""
   ]
  },
  {
   "cell_type": "code",
   "execution_count": null,
   "id": "cbee7dbb",
   "metadata": {},
   "outputs": [],
   "source": [
    "seitenliste = []\n",
    "\n",
    "laenge = len(dokument.pages)\n",
    "\n",
    "for seite in range(laenge):\n",
    "    inhalt = dokument.pages[seite].extract_text()\n",
    "    if inhalt[:8] == \"Geschäft\":\n",
    "        nummer = seite\n",
    "        seitenliste.append(nummer)"
   ]
  },
  {
   "cell_type": "code",
   "execution_count": null,
   "id": "53ec18cf",
   "metadata": {},
   "outputs": [],
   "source": [
    "master_df_list = []\n",
    "\n",
    "for seite in seitenliste:\n",
    "    inhalt = dokument.pages[seite].extract_text()\n",
    "    datenliste = inhalt.split(\"\\n\")\n",
    "    \n",
    "    for zeile in range(len(datenliste)):\n",
    "        if \"Abstimmung vom\" in datenliste[zeile]:\n",
    "        \n",
    "            datum = re.findall(regex_datum, datenliste[zeile])[0]\n",
    "            \n",
    "            print(datum)\n",
    "    \n",
    "    for zeile in range(len(datenliste)):\n",
    "        if \"Geschäft\" in datenliste[zeile]:\n",
    "            geschäftszeile = datenliste[(zeile+1)]\n",
    "            \n",
    "            gnummer = (re.findall(regex_gnummer, geschäftszeile))[0]\n",
    "            geschäft = geschäftszeile.strip(str(gnummer)+\" \")\n",
    "            \n",
    "            print(gnummer)\n",
    "            print(geschäft)\n",
    "            print(\" \")\n",
    "    \n",
    "            \n",
    "    tables = camelot.read_pdf(file, flavor='lattice', pages = str(seite))\n",
    "    \n",
    "    try: \n",
    "        for table in range(0,2):\n",
    "            abstimmungs_df = tables[table].df\n",
    "    \n",
    "            zeilen = len(abstimmungs_df.index)\n",
    "\n",
    "            for zeile in range(0,zeilen):    \n",
    "                name = abstimmungs_df.loc[zeile, 1] + \" \" +abstimmungs_df.loc[zeile, 0]\n",
    "                kanton = abstimmungs_df.loc[zeile, 3]\n",
    "                verhalten = abstimmungs_df.loc[zeile, 2]\n",
    "\n",
    "                mini_dict = {\n",
    "                    \"Datum\" : datum,\n",
    "                    \"Nummer\" : gnummer,\n",
    "                    \"Geschäft\" : geschäft,\n",
    "                    \"Politiker\" : name,\n",
    "                    \"Kanton\" : kanton,\n",
    "                    \"Verhalten\" : verhalten}\n",
    "    \n",
    "                master_df_list.append(mini_dict)\n",
    "        \n",
    "    #hier kommt der unten entwickelte Alternativweg rein, bei dem Text ausgelesen wird, weil Tabelle nicht erkannt wird:\n",
    "    except:\n",
    "        # So holen wir die richtigen 24 Elemente aus der Tabelle\n",
    "        tabellenanfang = datenliste.index(' ')+1\n",
    "        tabelle = datenliste[tabellenanfang:(tabellenanfang+24)]\n",
    "        \n",
    "        # So flicken wir die Gmür-Schnönenberger:\n",
    "        tabelle.remove(\"Gmür-\")\n",
    "        tabelle = [w.replace('SchönenbergerAndrea', 'Gmür-Schönenberger Andrea') for w in tabelle]\n",
    "        \n",
    "        # und jetzt trennen wir jede Zeile beim ersten Auftauchen eines Kantons (jenes mit Leerschlag)\n",
    "        tabelle_getrennt = []\n",
    "        kantonsliste = [\"VD\", \"TG\", \"TI\", \"AG\", \"JU\", \"GL\", \"UR\", \"SO\", \"NE\", \"SZ\", \"GR\", \"BE\", \"SG\", \"ZH\", \"LU\", \"SH\", \"ZG\", \"GE\", \"VS\", \"FR\", \"OW\", \"BL\", \"AI\", \"BS\", \"AR\", \"NW\"]\n",
    "\n",
    "        for paar in tabelle:\n",
    "            for kanton in kantonsliste:\n",
    "                trenner = kanton + \" \"\n",
    "                if trenner in paar:\n",
    "                    trennung = paar.split(trenner)\n",
    "            \n",
    "                    # (dann müssen wir den bei wplit verloren gegangenen Kanton, den Trenner, wieder hinzufügen)\n",
    "                    trennung[0] = trennung[0]+kanton\n",
    "            \n",
    "                    tabelle_getrennt.append(trennung[0])\n",
    "                    tabelle_getrennt.append(trennung[1])\n",
    "                    \n",
    "        for eintrag in tabelle_getrennt:\n",
    "            eintrag_neu = eintrag.rsplit(\" \", 2)\n",
    "            \n",
    "            name = eintrag_neu[0]\n",
    "            kanton = eintrag_neu[2]\n",
    "            verhalten = eintrag_neu[1]\n",
    "            \n",
    "            mini_dict = {\n",
    "            \"Datum\" : datum,\n",
    "            \"Nummer\" : gnummer,\n",
    "            \"Geschäft\" : geschäft,\n",
    "            \"Politiker\" : name,\n",
    "            \"Kanton\" : kanton,\n",
    "            \"Verhalten\" : verhalten}\n",
    "    \n",
    "            master_df_list.append(mini_dict)"
   ]
  },
  {
   "cell_type": "code",
   "execution_count": null,
   "id": "2a335ba5",
   "metadata": {},
   "outputs": [],
   "source": [
    "master_df = pd.DataFrame(master_df_list)\n",
    "master_df"
   ]
  },
  {
   "cell_type": "code",
   "execution_count": null,
   "id": "615b8697",
   "metadata": {},
   "outputs": [],
   "source": []
  }
 ],
 "metadata": {
  "kernelspec": {
   "display_name": "Python 3 (ipykernel)",
   "language": "python",
   "name": "python3"
  },
  "language_info": {
   "codemirror_mode": {
    "name": "ipython",
    "version": 3
   },
   "file_extension": ".py",
   "mimetype": "text/x-python",
   "name": "python",
   "nbconvert_exporter": "python",
   "pygments_lexer": "ipython3",
   "version": "3.7.6"
  }
 },
 "nbformat": 4,
 "nbformat_minor": 5
}
