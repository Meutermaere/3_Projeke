{
 "cells": [
  {
   "cell_type": "code",
   "execution_count": null,
   "id": "29696342",
   "metadata": {},
   "outputs": [],
   "source": [
    "# hier baue ich die beden Loops von 1) und 2) zusammen"
   ]
  },
  {
   "cell_type": "code",
   "execution_count": 297,
   "id": "b8d2d46f",
   "metadata": {},
   "outputs": [],
   "source": [
    "import pandas as pd\n",
    "import camelot # um Tabellen im PDFs zu erkennen\n",
    "import PyPDF2 # um Text aus PDFs zu lesen\n",
    "import re"
   ]
  },
  {
   "cell_type": "code",
   "execution_count": 298,
   "id": "c3a50b44",
   "metadata": {},
   "outputs": [],
   "source": [
    "file = \"Sessionsprotokolle/SR_5102_2003.pdf\""
   ]
  },
  {
   "cell_type": "code",
   "execution_count": 299,
   "id": "ed3587f0",
   "metadata": {},
   "outputs": [],
   "source": [
    "dokument = PyPDF2.PdfReader(file)"
   ]
  },
  {
   "cell_type": "code",
   "execution_count": 300,
   "id": "1d270559",
   "metadata": {},
   "outputs": [],
   "source": [
    "regex_gnummer = r\"(\\d\\d\\.\\S+)\"\n",
    "regex_datum = r\"\\d\\d\\.\\d\\d\\.\\d\\d\\d\\d \\d\\d\\:\\d\\d\\:\\d\\d\""
   ]
  },
  {
   "cell_type": "code",
   "execution_count": 301,
   "id": "ade7b441",
   "metadata": {},
   "outputs": [],
   "source": [
    "seitenliste = []\n",
    "\n",
    "laenge = len(dokument.pages)\n",
    "\n",
    "for seite in range(laenge):\n",
    "    inhalt = dokument.pages[seite].extract_text()\n",
    "    if inhalt[:8] == \"Geschäft\":\n",
    "        nummer = seite\n",
    "        seitenliste.append(nummer)"
   ]
  },
  {
   "cell_type": "code",
   "execution_count": 302,
   "id": "99513c58",
   "metadata": {},
   "outputs": [
    {
     "data": {
      "text/plain": [
       "[200, 201, 202, 203, 204, 205, 206, 207, 208, 209, 210, 212, 213, 214]"
      ]
     },
     "execution_count": 302,
     "metadata": {},
     "output_type": "execute_result"
    }
   ],
   "source": [
    "seitenliste"
   ]
  },
  {
   "cell_type": "code",
   "execution_count": 305,
   "id": "045ba351",
   "metadata": {},
   "outputs": [
    {
     "name": "stdout",
     "output_type": "stream",
     "text": [
      "09.03.2020 18:19:01\n",
      "18.071\n",
      "Terrorismus und organisierte Kriminalität. Übereinkommen des Europarates\n",
      " \n"
     ]
    },
    {
     "name": "stderr",
     "output_type": "stream",
     "text": [
      "/Users/bigdata/.virtualenvs/zweitesVE/lib/python3.7/site-packages/camelot/parsers/lattice.py:417: UserWarning: No tables found on page-200\n",
      "  \"No tables found on {}\".format(os.path.basename(self.rootname))\n"
     ]
    },
    {
     "name": "stdout",
     "output_type": "stream",
     "text": [
      "04.03.2020 11:37:37\n",
      "18.076\n",
      "Bundesgesetz über das Internationale Privatrecht. 12. Kapitel: Internationale Schiedsgerichtsbarkeit\n",
      " \n",
      "02.03.2020 17:45:41\n",
      "18.092\n",
      "Erwerbsersatzgesetz. Mutterschaftsentschädigung bei längerem Spitalaufenthalt des Neugeborenen\n",
      " \n",
      "02.03.2020 17:02:00\n",
      "19.030\n",
      "Tierseuchengesetz. Änderung\n",
      " \n",
      "09.03.2020 19:40:30\n",
      "19.032-1\n",
      "Polizeiliche Massnahmen zur Bekämpfung von Terrorismus. Bundesgesetz\n",
      " \n",
      "03.03.2020 09:39:02\n",
      "19.033\n",
      "Einführung des automatischen Informationsaustauschs über Finanzkonten mit weiteren Partnerstaaten ab\n",
      " \n",
      "02.03.2020 17:21:13\n",
      "19.047\n",
      "Übereinkommen des Europarats gegen den Handel mit menschlichen Organen. Genehmigung und\n",
      " \n",
      "10.03.2020 10:18:42\n",
      "19.051-1\n",
      "Überbrückungsleistung für ältere Arbeitslose. Bundesgesetz\n",
      " \n",
      "04.03.2020 08:33:21\n",
      "19.471\n",
      "Pa.Iv. Comte. Opfer fürsorgerischer Zwangsmassnahmen. Fristverlängerung\n",
      " \n",
      "04.03.2020 08:35:27\n",
      "19.471\n",
      "Pa.Iv. Comte. Opfer fürsorgerischer Zwangsmassnahmen. Fristverlängerung\n",
      " \n",
      "11.03.2020 09:12:04\n",
      "20.008-1\n",
      "Aussenwirtschaftspolitik 2019. Bericht\n",
      " \n",
      "11.03.2020 09:12:50\n",
      "20.008-2\n",
      "Aussenwirtschaftspolitik 2019. Bericht\n",
      " \n",
      "11.03.2020 09:13:36\n",
      "20.008-3\n",
      "Aussenwirtschaftspolitik 2019. Bericht\n",
      " \n",
      "11.03.2020 09:14:16\n",
      "20.008-4\n",
      "Aussenwirtschaftspolitik 2019. Bericht\n",
      " \n"
     ]
    }
   ],
   "source": [
    "master_df_list = []\n",
    "\n",
    "for seite in seitenliste:\n",
    "    inhalt = dokument.pages[seite].extract_text()\n",
    "    datenliste = inhalt.split(\"\\n\")\n",
    "    \n",
    "    for zeile in range(len(datenliste)):\n",
    "        if \"Abstimmung vom\" in datenliste[zeile]:\n",
    "        \n",
    "            datum = re.findall(regex_datum, datenliste[zeile])[0]\n",
    "            \n",
    "            print(datum)\n",
    "    \n",
    "    for zeile in range(len(datenliste)):\n",
    "        if \"Geschäft\" in datenliste[zeile]:\n",
    "            geschäftszeile = datenliste[(zeile+1)]\n",
    "            \n",
    "            gnummer = (re.findall(regex_gnummer, geschäftszeile))[0]\n",
    "            geschäft = geschäftszeile.strip(str(gnummer)+\" \")\n",
    "            \n",
    "            print(gnummer)\n",
    "            print(geschäft)\n",
    "            print(\" \")\n",
    "    \n",
    "            \n",
    "    tables = camelot.read_pdf(file, flavor='lattice', pages = str(seite))\n",
    "    \n",
    "    try: \n",
    "        for table in range(0,2):\n",
    "            abstimmungs_df = tables[table].df\n",
    "    \n",
    "            zeilen = len(abstimmungs_df.index)\n",
    "\n",
    "            for zeile in range(0,zeilen):    \n",
    "                name = abstimmungs_df.loc[zeile, 1] + \" \" +abstimmungs_df.loc[zeile, 0]\n",
    "                kanton = abstimmungs_df.loc[zeile, 3]\n",
    "                verhalten = abstimmungs_df.loc[zeile, 2]\n",
    "\n",
    "                mini_dict = {\n",
    "                    \"Datum\" : datum,\n",
    "                    \"Nummer\" : gnummer,\n",
    "                    \"Geschäft\" : geschäft,\n",
    "                    \"Politiker\" : name,\n",
    "                    \"Kanton\" : kanton,\n",
    "                    \"Verhalten\" : verhalten}\n",
    "    \n",
    "                master_df_list.append(mini_dict)\n",
    "        \n",
    "    #hier kommt der unten entwickelte Alternativweg rein, bei dem Text ausgelesen wird, weil Tabelle nicht erkannt wird:\n",
    "    except:\n",
    "        name = \"x\"\n",
    "        kanton = \"x\"\n",
    "        verhalten = \"x\"\n",
    "\n",
    "        mini_dict = {\n",
    "            \"Datum\" : datum,\n",
    "            \"Nummer\" : gnummer,\n",
    "            \"Geschäft\" : geschäft,\n",
    "            \"Politiker\" : name,\n",
    "            \"Kanton\" : kanton,\n",
    "            \"Verhalten\" : verhalten}\n",
    "    \n",
    "        master_df_list.append(mini_dict)"
   ]
  },
  {
   "cell_type": "code",
   "execution_count": 306,
   "id": "1190639f",
   "metadata": {},
   "outputs": [
    {
     "data": {
      "text/html": [
       "<div>\n",
       "<style scoped>\n",
       "    .dataframe tbody tr th:only-of-type {\n",
       "        vertical-align: middle;\n",
       "    }\n",
       "\n",
       "    .dataframe tbody tr th {\n",
       "        vertical-align: top;\n",
       "    }\n",
       "\n",
       "    .dataframe thead th {\n",
       "        text-align: right;\n",
       "    }\n",
       "</style>\n",
       "<table border=\"1\" class=\"dataframe\">\n",
       "  <thead>\n",
       "    <tr style=\"text-align: right;\">\n",
       "      <th></th>\n",
       "      <th>Datum</th>\n",
       "      <th>Nummer</th>\n",
       "      <th>Geschäft</th>\n",
       "      <th>Politiker</th>\n",
       "      <th>Kanton</th>\n",
       "      <th>Verhalten</th>\n",
       "    </tr>\n",
       "  </thead>\n",
       "  <tbody>\n",
       "    <tr>\n",
       "      <th>0</th>\n",
       "      <td>09.03.2020 18:19:01</td>\n",
       "      <td>18.071</td>\n",
       "      <td>Terrorismus und organisierte Kriminalität. Übe...</td>\n",
       "      <td>x</td>\n",
       "      <td>x</td>\n",
       "      <td>x</td>\n",
       "    </tr>\n",
       "    <tr>\n",
       "      <th>1</th>\n",
       "      <td>04.03.2020 11:37:37</td>\n",
       "      <td>18.076</td>\n",
       "      <td>Bundesgesetz über das Internationale Privatrec...</td>\n",
       "      <td>Alex Kuprecht</td>\n",
       "      <td>SZ</td>\n",
       "      <td>+</td>\n",
       "    </tr>\n",
       "    <tr>\n",
       "      <th>2</th>\n",
       "      <td>04.03.2020 11:37:37</td>\n",
       "      <td>18.076</td>\n",
       "      <td>Bundesgesetz über das Internationale Privatrec...</td>\n",
       "      <td>Christian Levrat</td>\n",
       "      <td>FR</td>\n",
       "      <td>+</td>\n",
       "    </tr>\n",
       "    <tr>\n",
       "      <th>3</th>\n",
       "      <td>04.03.2020 11:37:37</td>\n",
       "      <td>18.076</td>\n",
       "      <td>Bundesgesetz über das Internationale Privatrec...</td>\n",
       "      <td>Marianne Maret</td>\n",
       "      <td>VS</td>\n",
       "      <td>+</td>\n",
       "    </tr>\n",
       "    <tr>\n",
       "      <th>4</th>\n",
       "      <td>04.03.2020 11:37:37</td>\n",
       "      <td>18.076</td>\n",
       "      <td>Bundesgesetz über das Internationale Privatrec...</td>\n",
       "      <td>Lisa Mazzone</td>\n",
       "      <td>GE</td>\n",
       "      <td>=</td>\n",
       "    </tr>\n",
       "    <tr>\n",
       "      <th>...</th>\n",
       "      <td>...</td>\n",
       "      <td>...</td>\n",
       "      <td>...</td>\n",
       "      <td>...</td>\n",
       "      <td>...</td>\n",
       "      <td>...</td>\n",
       "    </tr>\n",
       "    <tr>\n",
       "      <th>549</th>\n",
       "      <td>11.03.2020 09:14:16</td>\n",
       "      <td>20.008-4</td>\n",
       "      <td>Aussenwirtschaftspolitik 2019. Bericht</td>\n",
       "      <td>Peter Hegglin</td>\n",
       "      <td>ZG</td>\n",
       "      <td>0</td>\n",
       "    </tr>\n",
       "    <tr>\n",
       "      <th>550</th>\n",
       "      <td>11.03.2020 09:14:16</td>\n",
       "      <td>20.008-4</td>\n",
       "      <td>Aussenwirtschaftspolitik 2019. Bericht</td>\n",
       "      <td>Eva Herzog</td>\n",
       "      <td>BS</td>\n",
       "      <td>+</td>\n",
       "    </tr>\n",
       "    <tr>\n",
       "      <th>551</th>\n",
       "      <td>11.03.2020 09:14:16</td>\n",
       "      <td>20.008-4</td>\n",
       "      <td>Aussenwirtschaftspolitik 2019. Bericht</td>\n",
       "      <td>Daniel Jositsch</td>\n",
       "      <td>ZH</td>\n",
       "      <td>+</td>\n",
       "    </tr>\n",
       "    <tr>\n",
       "      <th>552</th>\n",
       "      <td>11.03.2020 09:14:16</td>\n",
       "      <td>20.008-4</td>\n",
       "      <td>Aussenwirtschaftspolitik 2019. Bericht</td>\n",
       "      <td>Charles Juillard</td>\n",
       "      <td>JU</td>\n",
       "      <td>+</td>\n",
       "    </tr>\n",
       "    <tr>\n",
       "      <th>553</th>\n",
       "      <td>11.03.2020 09:14:16</td>\n",
       "      <td>20.008-4</td>\n",
       "      <td>Aussenwirtschaftspolitik 2019. Bericht</td>\n",
       "      <td>Hansjörg Knecht</td>\n",
       "      <td>AG</td>\n",
       "      <td>+</td>\n",
       "    </tr>\n",
       "  </tbody>\n",
       "</table>\n",
       "<p>554 rows × 6 columns</p>\n",
       "</div>"
      ],
      "text/plain": [
       "                   Datum    Nummer  \\\n",
       "0    09.03.2020 18:19:01    18.071   \n",
       "1    04.03.2020 11:37:37    18.076   \n",
       "2    04.03.2020 11:37:37    18.076   \n",
       "3    04.03.2020 11:37:37    18.076   \n",
       "4    04.03.2020 11:37:37    18.076   \n",
       "..                   ...       ...   \n",
       "549  11.03.2020 09:14:16  20.008-4   \n",
       "550  11.03.2020 09:14:16  20.008-4   \n",
       "551  11.03.2020 09:14:16  20.008-4   \n",
       "552  11.03.2020 09:14:16  20.008-4   \n",
       "553  11.03.2020 09:14:16  20.008-4   \n",
       "\n",
       "                                              Geschäft         Politiker  \\\n",
       "0    Terrorismus und organisierte Kriminalität. Übe...                 x   \n",
       "1    Bundesgesetz über das Internationale Privatrec...     Alex Kuprecht   \n",
       "2    Bundesgesetz über das Internationale Privatrec...  Christian Levrat   \n",
       "3    Bundesgesetz über das Internationale Privatrec...    Marianne Maret   \n",
       "4    Bundesgesetz über das Internationale Privatrec...      Lisa Mazzone   \n",
       "..                                                 ...               ...   \n",
       "549             Aussenwirtschaftspolitik 2019. Bericht     Peter Hegglin   \n",
       "550             Aussenwirtschaftspolitik 2019. Bericht        Eva Herzog   \n",
       "551             Aussenwirtschaftspolitik 2019. Bericht   Daniel Jositsch   \n",
       "552             Aussenwirtschaftspolitik 2019. Bericht  Charles Juillard   \n",
       "553             Aussenwirtschaftspolitik 2019. Bericht   Hansjörg Knecht   \n",
       "\n",
       "    Kanton Verhalten  \n",
       "0        x         x  \n",
       "1       SZ         +  \n",
       "2       FR         +  \n",
       "3       VS         +  \n",
       "4       GE         =  \n",
       "..     ...       ...  \n",
       "549     ZG         0  \n",
       "550     BS         +  \n",
       "551     ZH         +  \n",
       "552     JU         +  \n",
       "553     AG         +  \n",
       "\n",
       "[554 rows x 6 columns]"
      ]
     },
     "execution_count": 306,
     "metadata": {},
     "output_type": "execute_result"
    }
   ],
   "source": [
    "master_df = pd.DataFrame(master_df_list)\n",
    "master_df"
   ]
  },
  {
   "cell_type": "code",
   "execution_count": 120,
   "id": "827c8f16",
   "metadata": {},
   "outputs": [
    {
     "data": {
      "text/html": [
       "<div>\n",
       "<style scoped>\n",
       "    .dataframe tbody tr th:only-of-type {\n",
       "        vertical-align: middle;\n",
       "    }\n",
       "\n",
       "    .dataframe tbody tr th {\n",
       "        vertical-align: top;\n",
       "    }\n",
       "\n",
       "    .dataframe thead th {\n",
       "        text-align: right;\n",
       "    }\n",
       "</style>\n",
       "<table border=\"1\" class=\"dataframe\">\n",
       "  <thead>\n",
       "    <tr style=\"text-align: right;\">\n",
       "      <th></th>\n",
       "      <th>Datum</th>\n",
       "      <th>Nummer</th>\n",
       "      <th>Geschäft</th>\n",
       "      <th>Politiker</th>\n",
       "      <th>Kanton</th>\n",
       "      <th>Verhalten</th>\n",
       "    </tr>\n",
       "  </thead>\n",
       "  <tbody>\n",
       "    <tr>\n",
       "      <th>461</th>\n",
       "      <td>11.03.2020 09:12:50</td>\n",
       "      <td>20.008-2</td>\n",
       "      <td>Aussenwirtschaftspolitik 2019. Bericht</td>\n",
       "      <td>x</td>\n",
       "      <td>x</td>\n",
       "      <td>x</td>\n",
       "    </tr>\n",
       "  </tbody>\n",
       "</table>\n",
       "</div>"
      ],
      "text/plain": [
       "                   Datum    Nummer                                Geschäft  \\\n",
       "461  11.03.2020 09:12:50  20.008-2  Aussenwirtschaftspolitik 2019. Bericht   \n",
       "\n",
       "    Politiker Kanton Verhalten  \n",
       "461         x      x         x  "
      ]
     },
     "execution_count": 120,
     "metadata": {},
     "output_type": "execute_result"
    }
   ],
   "source": [
    "master_df[master_df[\"Datum\"] == \"11.03.2020 09:12:50\"] #.to_excel(\"test.xlsx\")  \n"
   ]
  },
  {
   "cell_type": "code",
   "execution_count": 192,
   "id": "11c76a51",
   "metadata": {},
   "outputs": [
    {
     "data": {
      "text/plain": [
       "04.03.2020 11:37:37    46\n",
       "02.03.2020 17:45:41    46\n",
       "02.03.2020 17:02:00    46\n",
       "09.03.2020 19:40:30    46\n",
       "03.03.2020 09:39:02    46\n",
       "02.03.2020 17:21:13    46\n",
       "10.03.2020 10:18:42    46\n",
       "04.03.2020 08:33:21    46\n",
       "04.03.2020 08:35:27    46\n",
       "11.03.2020 09:12:04    46\n",
       "11.03.2020 09:13:36    46\n",
       "11.03.2020 09:14:16    46\n",
       "09.03.2020 18:19:01     1\n",
       "11.03.2020 09:12:50     1\n",
       "Name: Datum, dtype: int64"
      ]
     },
     "execution_count": 192,
     "metadata": {},
     "output_type": "execute_result"
    }
   ],
   "source": [
    "master_df['Datum'].value_counts()"
   ]
  },
  {
   "cell_type": "code",
   "execution_count": null,
   "id": "027169ea",
   "metadata": {},
   "outputs": [],
   "source": []
  },
  {
   "cell_type": "markdown",
   "id": "600741bf",
   "metadata": {},
   "source": [
    "## !!! Fehlerkontrolle manuell !!!"
   ]
  },
  {
   "cell_type": "markdown",
   "id": "56152030",
   "metadata": {},
   "source": [
    "- Seite 200: Daten von 18.071 fehlen, das erste Geschäft > Tabelle wird nicht erkannt - warum?\n",
    "\n",
    "- Seite 212: Daten von 20.008-2 fehlen; \n",
    "    - es muss was damit zu tun haben, dass davor eine leere Seite im Doc ist\n",
    "    - Erkenntnis: er findet die Tabelle eine Seite früher, auf S. 211! (Warum auch immmer...)"
   ]
  },
  {
   "cell_type": "code",
   "execution_count": 167,
   "id": "7e9d62d0",
   "metadata": {},
   "outputs": [
    {
     "data": {
      "text/plain": [
       "\"Geschäft / Objet:\\n20.008-2 Aussenwirtschaftspolitik 2019. Bericht\\nBundesbeschluss über die Genehmigung des Handelsabkommens zwischen der Schweiz und dem\\nVereinigten Königreich und des Zusatzabkommens über die Einbeziehung Liechtensteins in das\\nHandelsabkommen\\nPolitique économique extérieure 2019. Rapport\\nArrêté fédéral portant approbation de l’accord commercial entre la Suisse et le Royaume-Uni et de l’accord\\nadditionnel en vue d’étendre au Liechtenstein certaines dispositions de l’accord commercial\\nPolitica economica esterna. Rapporto 2019\\nDecreto federale che approva l’Accordo commerciale tra la Svizzera e il Regno Unito nonché l’Accordo\\naggiuntivo che estende al Liechtenstein alcune disposizioni dell’Accordo commerciale\\nGegenstand / Objet du vote: Gesamtabstimmung\\nAbstimmung vom / Vote du: 11.03.2020 09:12:50\\n \\nBauer Philippe + NE Kuprecht Alex + SZ\\nBaume-Schneider Elisabeth + JU Levrat Christian 0 FR\\nBischof Pirmin 0 SO Maret Marianne + VS\\nBurkart Thierry + AG Mazzone Lisa + GE\\nCarobbio Guscetti Marina + TI Michel Matthias + ZG\\nCaroni Andrea 0 AR Minder Thomas + SH\\nChiesa Marco 0 TI Müller Damian + LU\\nDittli Josef + UR Noser Ruedi + ZH\\nEngler Stefan + GR Rechsteiner Paul 0 SG\\nEttlin Erich 0 OW Reichmuth Othmar + SZ\\nFässler Daniel + AI Rieder Beat + VS\\nFrançais Olivier + VD Salzmann Werner + BE\\nGapany Johanna + FR Schmid Martin + GR\\nGermann Hannes + SH Sommaruga Carlo 0 GE\\nGmür-\\nSchönenbergerAndrea + LU Stark Jakob + TG\\nGraf Maya + BL Stöckli Hans P BE\\nHäberli-Koller Brigitte + TG Thorens Goumaz Adèle + VD\\nHefti Thomas + GL Vara Céline + NE\\nHegglin Peter 0 ZG Wicki Hans + NW\\nHerzog Eva + BS Würth Benedikt + SG\\nJositsch Daniel + ZH Zanetti Roberto + SO\\nJuillard Charles + JU Z'graggen Heidi + UR\\nKnecht Hansjörg + AG Zopfi Mathias + GL\\n \\nLegende Tot.\\n+ Ja / oui / si 37\\n- Nein / non / no 0\\n= Enth. / abst. / ast. 0\\nE Enschuldigt gem. Art. 44a Abs. 6 GRS / excusé sel. art. 44a al. 6 RCE / scusato se. art. 44a cpv. 6 RCS 0\\n0 Hat nicht teilgenommen / n’a pas participé au vote / non ha partecipato al voto 8\\nP Die Präsidentin/der Präsident stimmt nicht / La présidente/le président ne prend pas part au vote / La/il\\npresidente non participa al voto1\\n \\nBedeutung Ja / Signification du oui: Annahme des Bundesbeschlusses\\nBedeutung Nein / Signification du non: Ablehnung 20.008-2 Ref. 3416\\nSTÄNDERAT CONSEIL DES ETATS\\nAbstimmungsprotokoll Procès-verbal de vote\\nSTÄNDERAT, Elektronisches Abstimmungssystem CONSEIL DES ETATS, système de vote électronique\\n11.03.2020 09:13:11 identif. : 51.2 / 11.03.2020 09:12:50 Ref. : Erfassung-Nr. : 3416\""
      ]
     },
     "execution_count": 167,
     "metadata": {},
     "output_type": "execute_result"
    }
   ],
   "source": [
    "dokument.pages[212].extract_text()"
   ]
  },
  {
   "cell_type": "code",
   "execution_count": 165,
   "id": "9199c455",
   "metadata": {},
   "outputs": [
    {
     "name": "stderr",
     "output_type": "stream",
     "text": [
      "/Users/bigdata/.virtualenvs/zweitesVE/lib/python3.7/site-packages/camelot/parsers/stream.py:453: UserWarning: No tables found on page-200\n",
      "  warnings.warn(f\"No tables found on {base_filename}\")\n"
     ]
    }
   ],
   "source": [
    "testtabelle = camelot.read_pdf(file, flavor='stream', pages = str(200), )"
   ]
  },
  {
   "cell_type": "markdown",
   "id": "f173166f",
   "metadata": {},
   "source": [
    "# Lösung:"
   ]
  },
  {
   "cell_type": "markdown",
   "id": "54fa43be",
   "metadata": {},
   "source": [
    "- Wir holen für solche Fälle die Daten aus dem Text (.extract_text)\n",
    "- dazu splitten wir den Text in eine Liste (gits schon: die \"datenliste\"\n",
    "- um die richtige Position anzusteuern, suchen wir den Index der Leerzeile. (datenliste.index(' '))\n",
    "- Es sind dann immer die nächste 24 Listenelemente\n",
    "- Wir müssen jedesmal noch die blöde Gmür-Schöneberger reparieren\n",
    "- Dann generieren wir eine Liste mit allen Kantonskürzeln, damit wir jeweil nach diesen die beiden Einträge pro Zeile splitten können\n",
    "- dann splitten wir erneut nach den ersten beiden Leerschlägen links des Kantons und übernehmen die Werte \n",
    "- am Schluss der Liste kommt das hier ' '"
   ]
  },
  {
   "cell_type": "code",
   "execution_count": null,
   "id": "c44ca379",
   "metadata": {},
   "outputs": [],
   "source": [
    "else:"
   ]
  },
  {
   "cell_type": "code",
   "execution_count": 173,
   "id": "4b7187ad",
   "metadata": {},
   "outputs": [],
   "source": [
    "tabellenanfang = datenliste.index(' ')+1"
   ]
  },
  {
   "cell_type": "code",
   "execution_count": 174,
   "id": "f3021ec9",
   "metadata": {},
   "outputs": [
    {
     "data": {
      "text/plain": [
       "10"
      ]
     },
     "execution_count": 174,
     "metadata": {},
     "output_type": "execute_result"
    }
   ],
   "source": [
    "tabellenanfang"
   ]
  },
  {
   "cell_type": "code",
   "execution_count": null,
   "id": "5be55984",
   "metadata": {},
   "outputs": [],
   "source": []
  },
  {
   "cell_type": "code",
   "execution_count": 274,
   "id": "88882d4d",
   "metadata": {},
   "outputs": [],
   "source": [
    "# so holen wir die nächsten 24 Zeilen raus\n",
    "tabelle = datenliste[tabellenanfang:(tabellenanfang+24)]"
   ]
  },
  {
   "cell_type": "code",
   "execution_count": 275,
   "id": "36991770",
   "metadata": {},
   "outputs": [
    {
     "data": {
      "text/plain": [
       "['Bauer Philippe + NE Kuprecht Alex + SZ',\n",
       " 'Baume-Schneider Elisabeth + JU Levrat Christian + FR',\n",
       " 'Bischof Pirmin 0 SO Maret Marianne + VS',\n",
       " 'Burkart Thierry + AG Mazzone Lisa + GE',\n",
       " 'Carobbio Guscetti Marina + TI Michel Matthias + ZG',\n",
       " 'Caroni Andrea 0 AR Minder Thomas + SH',\n",
       " 'Chiesa Marco 0 TI Müller Damian + LU',\n",
       " 'Dittli Josef + UR Noser Ruedi + ZH',\n",
       " 'Engler Stefan + GR Rechsteiner Paul 0 SG',\n",
       " 'Ettlin Erich 0 OW Reichmuth Othmar + SZ',\n",
       " 'Fässler Daniel + AI Rieder Beat + VS',\n",
       " 'Français Olivier + VD Salzmann Werner + BE',\n",
       " 'Gapany Johanna + FR Schmid Martin + GR',\n",
       " 'Germann Hannes + SH Sommaruga Carlo 0 GE',\n",
       " 'Gmür-',\n",
       " 'SchönenbergerAndrea + LU Stark Jakob + TG',\n",
       " 'Graf Maya + BL Stöckli Hans P BE',\n",
       " 'Häberli-Koller Brigitte + TG Thorens Goumaz Adèle + VD',\n",
       " 'Hefti Thomas + GL Vara Céline 0 NE',\n",
       " 'Hegglin Peter + ZG Wicki Hans + NW',\n",
       " 'Herzog Eva + BS Würth Benedikt + SG',\n",
       " 'Jositsch Daniel + ZH Zanetti Roberto + SO',\n",
       " \"Juillard Charles + JU Z'graggen Heidi + UR\",\n",
       " 'Knecht Hansjörg + AG Zopfi Mathias + GL']"
      ]
     },
     "execution_count": 275,
     "metadata": {},
     "output_type": "execute_result"
    }
   ],
   "source": [
    "tabelle"
   ]
  },
  {
   "cell_type": "code",
   "execution_count": 276,
   "id": "b6b84d4d",
   "metadata": {},
   "outputs": [],
   "source": [
    "# So flicken wir die Gmür-Schnönenberger:\n",
    "tabelle.remove(\"Gmür-\")\n",
    "tabelle = [w.replace('SchönenbergerAndrea', 'Gmür-Schönenberger Andrea') for w in tabelle]"
   ]
  },
  {
   "cell_type": "code",
   "execution_count": 277,
   "id": "e757229c",
   "metadata": {},
   "outputs": [
    {
     "data": {
      "text/plain": [
       "['Bauer Philippe + NE Kuprecht Alex + SZ',\n",
       " 'Baume-Schneider Elisabeth + JU Levrat Christian + FR',\n",
       " 'Bischof Pirmin 0 SO Maret Marianne + VS',\n",
       " 'Burkart Thierry + AG Mazzone Lisa + GE',\n",
       " 'Carobbio Guscetti Marina + TI Michel Matthias + ZG',\n",
       " 'Caroni Andrea 0 AR Minder Thomas + SH',\n",
       " 'Chiesa Marco 0 TI Müller Damian + LU',\n",
       " 'Dittli Josef + UR Noser Ruedi + ZH',\n",
       " 'Engler Stefan + GR Rechsteiner Paul 0 SG',\n",
       " 'Ettlin Erich 0 OW Reichmuth Othmar + SZ',\n",
       " 'Fässler Daniel + AI Rieder Beat + VS',\n",
       " 'Français Olivier + VD Salzmann Werner + BE',\n",
       " 'Gapany Johanna + FR Schmid Martin + GR',\n",
       " 'Germann Hannes + SH Sommaruga Carlo 0 GE',\n",
       " 'Gmür-Schönenberger Andrea + LU Stark Jakob + TG',\n",
       " 'Graf Maya + BL Stöckli Hans P BE',\n",
       " 'Häberli-Koller Brigitte + TG Thorens Goumaz Adèle + VD',\n",
       " 'Hefti Thomas + GL Vara Céline 0 NE',\n",
       " 'Hegglin Peter + ZG Wicki Hans + NW',\n",
       " 'Herzog Eva + BS Würth Benedikt + SG',\n",
       " 'Jositsch Daniel + ZH Zanetti Roberto + SO',\n",
       " \"Juillard Charles + JU Z'graggen Heidi + UR\",\n",
       " 'Knecht Hansjörg + AG Zopfi Mathias + GL']"
      ]
     },
     "execution_count": 277,
     "metadata": {},
     "output_type": "execute_result"
    }
   ],
   "source": [
    "tabelle"
   ]
  },
  {
   "cell_type": "code",
   "execution_count": 278,
   "id": "c4393509",
   "metadata": {},
   "outputs": [],
   "source": []
  },
  {
   "cell_type": "code",
   "execution_count": 283,
   "id": "f91128f0",
   "metadata": {},
   "outputs": [
    {
     "data": {
      "text/plain": [
       "['Bauer Philippe + NE',\n",
       " 'Kuprecht Alex + SZ',\n",
       " 'Baume-Schneider Elisabeth + JU',\n",
       " 'Levrat Christian + FR',\n",
       " 'Bischof Pirmin 0 SO',\n",
       " 'Maret Marianne + VS',\n",
       " 'Burkart Thierry + AG',\n",
       " 'Mazzone Lisa + GE',\n",
       " 'Carobbio Guscetti Marina + TI',\n",
       " 'Michel Matthias + ZG',\n",
       " 'Caroni Andrea 0 AR',\n",
       " 'Minder Thomas + SH',\n",
       " 'Chiesa Marco 0 TI',\n",
       " 'Müller Damian + LU',\n",
       " 'Dittli Josef + UR',\n",
       " 'Noser Ruedi + ZH',\n",
       " 'Engler Stefan + GR',\n",
       " 'Rechsteiner Paul 0 SG',\n",
       " 'Ettlin Erich 0 OW',\n",
       " 'Reichmuth Othmar + SZ',\n",
       " 'Fässler Daniel + AI',\n",
       " 'Rieder Beat + VS',\n",
       " 'Français Olivier + VD',\n",
       " 'Salzmann Werner + BE',\n",
       " 'Gapany Johanna + FR',\n",
       " 'Schmid Martin + GR',\n",
       " 'Germann Hannes + SH',\n",
       " 'Sommaruga Carlo 0 GE',\n",
       " 'Gmür-Schönenberger Andrea + LU',\n",
       " 'Stark Jakob + TG',\n",
       " 'Graf Maya + BL',\n",
       " 'Stöckli Hans P BE',\n",
       " 'Häberli-Koller Brigitte + TG',\n",
       " 'Thorens Goumaz Adèle + VD',\n",
       " 'Hefti Thomas + GL',\n",
       " 'Vara Céline 0 NE',\n",
       " 'Hegglin Peter + ZG',\n",
       " 'Wicki Hans + NW',\n",
       " 'Herzog Eva + BS',\n",
       " 'Würth Benedikt + SG',\n",
       " 'Jositsch Daniel + ZH',\n",
       " 'Zanetti Roberto + SO',\n",
       " 'Juillard Charles + JU',\n",
       " \"Z'graggen Heidi + UR\",\n",
       " 'Knecht Hansjörg + AG',\n",
       " 'Zopfi Mathias + GL']"
      ]
     },
     "execution_count": 283,
     "metadata": {},
     "output_type": "execute_result"
    }
   ],
   "source": [
    "# und jetzt trennen wir jede Zeile beim ersten Auftauchen eines Kantons (jenes mit Leerschlag)\n",
    "tabelle_getrennt = []\n",
    "kantonsliste = [\"VD\", \"TG\", \"TI\", \"AG\", \"JU\", \"GL\", \"UR\", \"SO\", \"NE\", \"SZ\", \"GR\", \"BE\", \"SG\", \"ZH\", \"LU\", \"SH\", \"ZG\", \"GE\", \"VS\", \"FR\", \"OW\", \"BL\", \"AI\", \"BS\", \"AR\", \"NW\"]\n",
    "\n",
    "for paar in tabelle:\n",
    "    for kanton in kantonsliste:\n",
    "        trenner = kanton + \" \"\n",
    "        if trenner in paar:\n",
    "            trennung = paar.split(trenner)\n",
    "            \n",
    "            # (dann müssen wir den bei wplit verloren gegangenen Kanton, den Trenner, wieder hinzufügen)\n",
    "            trennung[0] = trennung[0]+kanton\n",
    "            \n",
    "            tabelle_getrennt.append(trennung[0])\n",
    "            tabelle_getrennt.append(trennung[1])\n",
    "            \n",
    "tabelle_getrennt\n",
    "        "
   ]
  },
  {
   "cell_type": "code",
   "execution_count": null,
   "id": "6bda30eb",
   "metadata": {},
   "outputs": [],
   "source": [
    "# diese neue Liste trennen wir jetzt auf, und zwar nach Leerschlägen von hinten, wegen Doppelnamen etc. > mit rsplit!"
   ]
  },
  {
   "cell_type": "code",
   "execution_count": 296,
   "id": "3adda874",
   "metadata": {},
   "outputs": [
    {
     "name": "stdout",
     "output_type": "stream",
     "text": [
      "['Bauer Philippe', '+', 'NE']\n",
      "['Kuprecht Alex', '+', 'SZ']\n",
      "['Baume-Schneider Elisabeth', '+', 'JU']\n",
      "['Levrat Christian', '+', 'FR']\n",
      "['Bischof Pirmin', '0', 'SO']\n",
      "['Maret Marianne', '+', 'VS']\n",
      "['Burkart Thierry', '+', 'AG']\n",
      "['Mazzone Lisa', '+', 'GE']\n",
      "['Carobbio Guscetti Marina', '+', 'TI']\n",
      "['Michel Matthias', '+', 'ZG']\n",
      "['Caroni Andrea', '0', 'AR']\n",
      "['Minder Thomas', '+', 'SH']\n",
      "['Chiesa Marco', '0', 'TI']\n",
      "['Müller Damian', '+', 'LU']\n",
      "['Dittli Josef', '+', 'UR']\n",
      "['Noser Ruedi', '+', 'ZH']\n",
      "['Engler Stefan', '+', 'GR']\n",
      "['Rechsteiner Paul', '0', 'SG']\n",
      "['Ettlin Erich', '0', 'OW']\n",
      "['Reichmuth Othmar', '+', 'SZ']\n",
      "['Fässler Daniel', '+', 'AI']\n",
      "['Rieder Beat', '+', 'VS']\n",
      "['Français Olivier', '+', 'VD']\n",
      "['Salzmann Werner', '+', 'BE']\n",
      "['Gapany Johanna', '+', 'FR']\n",
      "['Schmid Martin', '+', 'GR']\n",
      "['Germann Hannes', '+', 'SH']\n",
      "['Sommaruga Carlo', '0', 'GE']\n",
      "['Gmür-Schönenberger Andrea', '+', 'LU']\n",
      "['Stark Jakob', '+', 'TG']\n",
      "['Graf Maya', '+', 'BL']\n",
      "['Stöckli Hans', 'P', 'BE']\n",
      "['Häberli-Koller Brigitte', '+', 'TG']\n",
      "['Thorens Goumaz Adèle', '+', 'VD']\n",
      "['Hefti Thomas', '+', 'GL']\n",
      "['Vara Céline', '0', 'NE']\n",
      "['Hegglin Peter', '+', 'ZG']\n",
      "['Wicki Hans', '+', 'NW']\n",
      "['Herzog Eva', '+', 'BS']\n",
      "['Würth Benedikt', '+', 'SG']\n",
      "['Jositsch Daniel', '+', 'ZH']\n",
      "['Zanetti Roberto', '+', 'SO']\n",
      "['Juillard Charles', '+', 'JU']\n",
      "[\"Z'graggen Heidi\", '+', 'UR']\n",
      "['Knecht Hansjörg', '+', 'AG']\n",
      "['Zopfi Mathias', '+', 'GL']\n"
     ]
    }
   ],
   "source": [
    "for eintrag in tabelle_getrennt:\n",
    "    eintrag_neu = eintrag.rsplit(\" \", 2)\n",
    "    \n",
    "    "
   ]
  },
  {
   "cell_type": "markdown",
   "id": "6ae9741e",
   "metadata": {},
   "source": [
    "## Jetzt ergänzen wir den Loop um diese Ausnahmeregel:"
   ]
  },
  {
   "cell_type": "code",
   "execution_count": null,
   "id": "3f4986ce",
   "metadata": {},
   "outputs": [],
   "source": [
    "master_df_list = []\n",
    "\n",
    "for seite in seitenliste:\n",
    "    inhalt = dokument.pages[seite].extract_text()\n",
    "    datenliste = inhalt.split(\"\\n\")\n",
    "    \n",
    "    for zeile in range(len(datenliste)):\n",
    "        if \"Abstimmung vom\" in datenliste[zeile]:\n",
    "        \n",
    "            datum = re.findall(regex_datum, datenliste[zeile])[0]\n",
    "            \n",
    "            print(datum)\n",
    "    \n",
    "    for zeile in range(len(datenliste)):\n",
    "        if \"Geschäft\" in datenliste[zeile]:\n",
    "            geschäftszeile = datenliste[(zeile+1)]\n",
    "            \n",
    "            gnummer = (re.findall(regex_gnummer, geschäftszeile))[0]\n",
    "            geschäft = geschäftszeile.strip(str(gnummer)+\" \")\n",
    "            \n",
    "            print(gnummer)\n",
    "            print(geschäft)\n",
    "            print(\" \")\n",
    "    \n",
    "            \n",
    "    tables = camelot.read_pdf(file, flavor='lattice', pages = str(seite))\n",
    "    \n",
    "    try: \n",
    "        for table in range(0,2):\n",
    "            abstimmungs_df = tables[table].df\n",
    "    \n",
    "            zeilen = len(abstimmungs_df.index)\n",
    "\n",
    "            for zeile in range(0,zeilen):    \n",
    "                name = abstimmungs_df.loc[zeile, 1] + \" \" +abstimmungs_df.loc[zeile, 0]\n",
    "                kanton = abstimmungs_df.loc[zeile, 3]\n",
    "                verhalten = abstimmungs_df.loc[zeile, 2]\n",
    "\n",
    "                mini_dict = {\n",
    "                    \"Datum\" : datum,\n",
    "                    \"Nummer\" : gnummer,\n",
    "                    \"Geschäft\" : geschäft,\n",
    "                    \"Politiker\" : name,\n",
    "                    \"Kanton\" : kanton,\n",
    "                    \"Verhalten\" : verhalten}\n",
    "    \n",
    "                master_df_list.append(mini_dict)\n",
    "        \n",
    "    #hier kommt der unten entwickelte Alternativweg rein, bei dem Text ausgelesen wird, weil Tabelle nicht erkannt wird:\n",
    "    except:\n",
    "        # So holen wir die richtigen 24 Elemente aus der Tabelle\n",
    "        tabellenanfang = datenliste.index(' ')+1\n",
    "        tabelle = datenliste[tabellenanfang:(tabellenanfang+24)]\n",
    "        \n",
    "        # So flicken wir die Gmür-Schnönenberger:\n",
    "        tabelle.remove(\"Gmür-\")\n",
    "        tabelle = [w.replace('SchönenbergerAndrea', 'Gmür-Schönenberger Andrea') for w in tabelle]\n",
    "        \n",
    "        # und jetzt trennen wir jede Zeile beim ersten Auftauchen eines Kantons (jenes mit Leerschlag)\n",
    "        tabelle_getrennt = []\n",
    "        kantonsliste = [\"VD\", \"TG\", \"TI\", \"AG\", \"JU\", \"GL\", \"UR\", \"SO\", \"NE\", \"SZ\", \"GR\", \"BE\", \"SG\", \"ZH\", \"LU\", \"SH\", \"ZG\", \"GE\", \"VS\", \"FR\", \"OW\", \"BL\", \"AI\", \"BS\", \"AR\", \"NW\"]\n",
    "\n",
    "        for paar in tabelle:\n",
    "            for kanton in kantonsliste:\n",
    "                trenner = kanton + \" \"\n",
    "                if trenner in paar:\n",
    "                    trennung = paar.split(trenner)\n",
    "            \n",
    "                    # (dann müssen wir den bei wplit verloren gegangenen Kanton, den Trenner, wieder hinzufügen)\n",
    "                    trennung[0] = trennung[0]+kanton\n",
    "            \n",
    "                    tabelle_getrennt.append(trennung[0])\n",
    "                    tabelle_getrennt.append(trennung[1])\n",
    "                    \n",
    "        for eintrag in tabelle_getrennt:\n",
    "            eintrag_neu = eintrag.rsplit(\" \", 2)\n",
    "            \n",
    "            name = eintrag[0]\n",
    "            kanton = eintrag[2]\n",
    "            verhalten = eintrag[1]\n",
    "            \n",
    "            mini_dict = {\n",
    "            \"Datum\" : datum,\n",
    "            \"Nummer\" : gnummer,\n",
    "            \"Geschäft\" : geschäft,\n",
    "            \"Politiker\" : name,\n",
    "            \"Kanton\" : kanton,\n",
    "            \"Verhalten\" : verhalten}\n",
    "    \n",
    "            master_df_list.append(mini_dict)"
   ]
  }
 ],
 "metadata": {
  "kernelspec": {
   "display_name": "Python 3 (ipykernel)",
   "language": "python",
   "name": "python3"
  },
  "language_info": {
   "codemirror_mode": {
    "name": "ipython",
    "version": 3
   },
   "file_extension": ".py",
   "mimetype": "text/x-python",
   "name": "python",
   "nbconvert_exporter": "python",
   "pygments_lexer": "ipython3",
   "version": "3.7.6"
  }
 },
 "nbformat": 4,
 "nbformat_minor": 5
}
