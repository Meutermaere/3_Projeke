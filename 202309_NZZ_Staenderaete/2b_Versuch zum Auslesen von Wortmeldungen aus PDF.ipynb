{
 "cells": [
  {
   "cell_type": "code",
   "execution_count": 1,
   "id": "52ad3f8a",
   "metadata": {},
   "outputs": [],
   "source": [
    "import re"
   ]
  },
  {
   "cell_type": "code",
   "execution_count": 11,
   "id": "b92d0155",
   "metadata": {},
   "outputs": [
    {
     "name": "stdout",
     "output_type": "stream",
     "text": [
      "218\n",
      "Frühjahrssession 2020 XI Ständerat Rednerliste\n",
      "Rednerliste\n",
      "Amherd Viola, Bundesrätin\n",
      "19.4468 Motion Salzmann Werner. Kein Verkauf der\n",
      "Ruag Ammotec. Versorgungssicherheit\n",
      "gewährleisten: 58\n",
      "Bauer Philippe (RL, NE)\n",
      "20.004 GPK-N/S und GPDel. Jahresbericht 2020: 60\n",
      "19.4636 Interpellation Graf Maya. System der\n",
      "Quotenziele des Bundesamtes für\n",
      "Sozialversicherungen. Konﬂikt mit dem\n",
      "Rechtsanspruch und dem\n",
      "Untersuchungsgrundsatz?: 166\n",
      "17.3952 Motion Bühler Manfred. Zweisprachige\n",
      "Signalisation auf Autobahnen ermöglichen: 147\n",
      "16.077 OR. Aktienrecht: 31\n",
      "19.032 Polizeiliche Massnahmen zur Bekämpfung von\n",
      "Terrorismus. Bundesgesetz: 91\n",
      "19.300 Standesinitiative St. Gallen. Keine\n",
      "Verjährungsfristen für Schwerstverbrecher: 123\n",
      "Baume-Schneider Elisabeth (S, JU)\n",
      "19.3112 Motion Munz Martina. Food Waste. Stopp der\n",
      "Lebensmittelverschwendung: 162\n",
      "17.3667 Motion Quadranti Rosmarie. Statistische\n",
      "Erfassung von \"hate crimes\" aufgrund von\n",
      "sexueller Orientierung, Geschlechtsidentität,\n",
      "Geschlechtsausdruck oder\n",
      "Geschlechtsmerkmalen: 108\n",
      "Berset Alain, Bundesrat\n",
      "18.092 Erwerbsersatzgesetz.\n",
      "Mutterschaftsentschädigung bei längerem\n",
      "Spitalaufenthalt des Neugeborenen: 9, 10\n",
      "19.4634 Interpellation Ettlin Erich. Kontrollen und\n",
      "Transparenz im Laborbereich. Was macht das\n",
      "BAG?: 115\n",
      "19.4636 Interpellation Graf Maya. System der\n",
      "Quotenziele des Bundesamtes für\n",
      "Sozialversicherungen. Konﬂikt mit dem\n",
      "Rechtsanspruch und dem\n",
      "Untersuchungsgrundsatz?: 166\n",
      "17.022 IVG. Änderung (Weiterentwicklung der IV): 8\n",
      "18.047 KVG. Zulassung von Leistungserbringern: 93, 94\n",
      "18.3828 Motion Bourgeois Jacques. Gesundheitsrisiken\n",
      "wegen Selenmangel. Massnahmen: 158\n",
      "18.3765 Motion Brand Heinz. Zeitgemässer\n",
      "elektronischer Datenaustausch zwischen\n",
      "Gemeinden und Krankenversicherern: 111\n",
      "18.4209 Motion Hess Lorenz. Wohnsitzfrage,\n",
      "Krankenkassenprämie und stationäre Anteile\n",
      "der Kantone. Weniger Bürokratie, weniger\n",
      "Fehler: 111\n",
      "18.3977 Motion Humbel Ruth. Abbilden der Leistungen\n",
      "der Apotheker zur Qualitätssicherung und\n",
      "Kostendämpfung im\n",
      "Krankenversicherungsgesetz: 112\n",
      "18.3148 Motion Markwalder Christa. Anbau und Export\n",
      "von medizinischem Cannabis: 157\n",
      "19.4404 Motion Müller Damian. Assistenzhunde auch für\n",
      "kranke Kinder und Jugendliche: 113Liste des orateurs\n",
      "Amherd Viola, conseillère fédérale\n",
      "19.4468 Motion Salzmann Werner. Il faut assurer la\n",
      "sécurité de notre approvisionnement. Ruag\n",
      "Ammotec ne doit pas être vendue: 58\n",
      "Bauer Philippe (RL, NE)\n",
      "20.004 CdG-N/E et DélCdG. Rapport annuel 2020: 60\n",
      "16.077 CO. Droit de la société anonyme: 31\n",
      "19.300 Initiative cantonale Saint-Gall. Pas de\n",
      "prescription pour les crimes les plus graves:\n",
      "123\n",
      "19.4636 Interpellation Graf Maya. Système d'objectifs en\n",
      "pourcentage de l'OFAS. Conﬂit avec le droit\n",
      "aux prestations et le principe inquisitoire: 166\n",
      "19.032 Mesures policières de lutte contre le terrorisme.\n",
      "Loi fédérale: 91\n",
      "17.3952 Motion Bühler Manfred. Autoriser la signalisation\n",
      "bilingue sur les autoroutes: 147\n",
      "Baume-Schneider Elisabeth (S, JU)\n",
      "19.3112 Motion Munz Martina. Lutter contre le gaspillage\n",
      "alimentaire: 162\n",
      "17.3667 Motion Quadranti Rosmarie. Recensement\n",
      "statistique des crimes haineux fondés sur\n",
      "l'orientation sexuelle, l'identité de genre,\n",
      "l'expression de genre ou les caractéristiques\n",
      "sexuelles: 108\n",
      "Berset Alain, conseiller fédéral\n",
      "19.047 Convention du Conseil de l'Europe contre le\n",
      "traﬁc d'organes humains. Approbation et mise\n",
      "en oeuvre (modiﬁcation de la loi sur la\n",
      "transplantation et de la loi relative à la\n",
      "recherche sur l'être humain): 6\n",
      "19.4634 Interpellation Ettlin Erich. Contrôles et\n",
      "transparence dans le domaine des\n",
      "laboratoires. Que fait l'OFSP?: 115\n",
      "19.4636 Interpellation Graf Maya. Système d'objectifs en\n",
      "pourcentage de l'OFAS. Conﬂit avec le droit\n",
      "aux prestations et le principe inquisitoire: 166\n",
      "17.022 LAI. Modiﬁcation (Développement continu de\n",
      "l'AI): 8\n",
      "18.047 LAMal. Admission des fournisseurs de\n",
      "prestations: 93, 94\n",
      "18.092 Loi sur les allocations pour perte de gain.\n",
      "Allocation de maternité en cas de séjour\n",
      "prolongé du nouveau-né à l'hôpital: 9, 10\n",
      "19.030 Loi sur les épizooties. Modiﬁcation: 4\n",
      "18.3828 Motion Bourgeois Jacques. Risques pour la\n",
      "santé du manque de sélénium. Mesures à\n",
      "prendre: 158\n",
      "18.3765 Motion Brand Heinz. Echange moderne de\n",
      "données par voie électronique entre les\n",
      "communes et les assureurs-maladie: 111\n",
      "18.3709 Motion CSSS-N. Etablissement des listes\n",
      "cantonales d'hôpitaux et d'EMS. Participation\n",
      "et codécision des assureurs-maladie: 112\n"
     ]
    }
   ],
   "source": [
    "# importing all the required modules\n",
    "import PyPDF2\n",
    "\n",
    "# creating a pdf reader object\n",
    "reader = PyPDF2.PdfReader('Sessionsprotokolle/SR_5102_2003.pdf')\n",
    "\n",
    "# print the number of pages in pdf file\n",
    "print(len(reader.pages))\n",
    "\n",
    "# print the text of the first page\n",
    "print(reader.pages[10].extract_text())"
   ]
  },
  {
   "cell_type": "code",
   "execution_count": 7,
   "id": "2032ef14",
   "metadata": {},
   "outputs": [],
   "source": [
    "seite = reader.pages[99].extract_text()"
   ]
  },
  {
   "cell_type": "code",
   "execution_count": 8,
   "id": "60bc1b7a",
   "metadata": {},
   "outputs": [
    {
     "data": {
      "text/plain": [
       "'18.071 Conseil des Etats 76 9 mars 2020\\nhinweisen. Das Bundesgericht hat dort festgehalten, dass es\\nder Bundesanwaltschaft nicht in ausreichender Art und Wei-\\nse gelungen ist nachzuweisen, dass die ﬁnanzielle Unter-\\nstützung den terroristischen Tamil Tigers zukommt. Es kam\\ndeswegen zu Freisprüchen. Die Bundesanwaltschaft weist\\ndeshalb – wie bereits im Gesetzgebungsprozess – vehe-\\nment darauf hin, dass es die Strafverfolgungsbehörden in\\nder Schweiz überfordert, eine verbrecherische Tätigkeit, zum\\nBeispiel im Ausland, nachzuweisen. Wir haben ja die glei-\\nche Problematik mit den Dschihad-Kämpfern. Die haben ja\\nalle nur Logistik betrieben, in der Küche gearbeitet und sonst\\nverschiedene Dienstleistungen zugunsten der Organisation\\nerbracht, selbstverständlich ohne zu wissen, worum es geht.\\nDeshalb ist es auch richtig, wie es Herr Ständerat Jositsch\\ngesagt hat, hier kein Schlupﬂoch zu hinterlassen, sondern\\nletztlich – auch auf Wunsch der Praktiker – eine Präzisierung\\nvorzunehmen.\\nZusammengefasst: Ich kann mich aufgrund der Diskussionen\\nund aufgrund der Tatsache, dass sich auch andere Akteure\\nzum gleichen Strafmass geäussert haben, namens des Bun-\\ndesrates beim Strafrahmen der Mehrheit anschliessen: zehn\\nJahre für die organisierte Kriminalität und für die terroristi-\\nschen Organisationen. Hingegen möchte ich Sie bitten, die\\nMinderheitsanträge Sommaruga Carlo abzulehnen.\\nJositsch Daniel (S, ZH), für die Kommission: Bei Artikel\\n260sexies ist die Situation mit den Mehrheiten und Minder-\\nheiten etwas übersichtlicher. Es gibt nur zwei Konzepte –\\nja oder nein. Artikel 260sexies soll als neuer Tatbestand im\\nStrafgesetzbuch verankert werden und bezieht sich auf das\\nAnwerben, Ausbilden und Reisen im Hinblick auf eine terrori-\\nstische Straftat.\\nMan kann sich die Frage stellen, inwiefern die verschiede-\\nnen Handlungen, die erfasst werden, nicht bereits unter das\\nschweizerische Recht fallen. Das hat einerseits jeweils damit\\nzu tun, wieweit der Zusammenhang zu einer terroristischen\\nHandlung, zu einer konkreten Handlung bewiesen werden\\nkann, andererseits sind das natürlich auch immer beweis-\\ntechnische Fragen. Insofern macht es Sinn, obwohl es sicher-\\nlich Überschneidungen gibt, im Rahmen von Artikel 260se-\\nxies Klarheit zu schaffen. Auch das entsprechende Europa-\\nratsübereinkommen und namentlich das Zusatzprotokoll se-\\nhen konkret Handlungen im Bereich Ausbildung und Dschi-\\nhad-Reisen vor, die ein erhebliches Gefährdungspotenzial\\naufweisen und die nicht ganz präzise unter das geltende\\nRecht subsumiert werden können.\\nWas soll neu bestraft werden? Es handelt sich wiederum\\num Vorbereitungshandlungen zu den eigentlichen terroristi-\\nschen Aktivitäten. Es geht zunächst um das Anwerben zur\\nBegehung oder zur Teilnahme an einer terroristischen Tat.\\nEs geht um das Motivieren zu Terrorakten, ohne dass eben\\nbereits ein Konnex zu einer konkreten, absehbaren Tat vor-\\nliegen muss. Es genügt, dass die zu motivierende Person\\nKenntnis hat, dass sie quasi motiviert wird; die blosse Gloriﬁ-\\nzierung von terroristischen Handlungen soll allerdings damit\\nnoch nicht erfasst werden. Auch die Aktivitäten in sozialen\\nMedien, die heute natürlich eine grosse Rolle spielen, sollen\\nerfasst werden.\\nDer zweite Straftatbestand ist das Sich-anleiten-Lassen für\\ndie Begehung oder die Teilnahme an einer terroristischen\\nTat. Das ist also gewissermassen die umgekehrte Handlung\\nzum ersten Tatbestand und betrifft denjenigen, der aktiviert\\nwerden soll. Das können Aktivitäten sein wie die Herstellung\\nvon Sprengstoff, die Benützung von Waffen usw. Entschei-\\ndend ist, dass eine Absicht bestehen muss, sich zu terroristi-\\nschen Handlungen ausbilden zu lassen. Das blosse Lernen,\\nwie man eine Waffe benützt, soll damit natürlich nicht erfasst\\nwerden, vielmehr muss klar sein, dass die Absicht besteht,\\ndiese Fähigkeit für terroristische Zwecke zu gebrauchen.\\nDer dritte Tatbestand ist das Reisen ins Ausland mit der Ab-\\nsicht, terroristische Handlungen zu begehen respektive an\\nsolchen teilzunehmen oder sich dazu ausbilden zu lassen.\\nEs geht also um die bekannten Dschihad-Reisen. Der An-\\ntritt der Reise genügt. Es ist also nicht notwendig, dass man\\nam Ziel ankommt, damit man die Leute auch gleich bei der\\nAbreise erfassen kann. Wichtig ist natürlich auch hier der Zu-sammenhang zur terroristischen Handlung. Dieser Zusam-\\nmenhang muss in der Praxis bewiesen werden. Das ist unter\\nUmständen nicht ganz einfach, aber es ist erforderlich, denn\\nes kann nicht jeder, der einmal ausreist, unter dem entspre-\\nchenden Verdacht festgenommen und bestraft werden. Das\\nist klar. Ebenfalls bestraft wird die Finanzierung entsprechen-\\nder Dschihad-Reisen.\\nDie beiden Konzepte, die nun zur Abstimmung kommen, sind\\nfolgende: Einerseits gibt es das Konzept des Bundesrates\\nund der Mehrheit der Sicherheitspolitischen Kommission, die\\nden Entwurf des Bundesrates ohne Änderungen unterstützt.\\nAndererseits möchte eine Minderheit auf diesen Artikel ver-\\nzichten und schlägt vor, ihn nicht neu in das Gesetz einzufüh-\\nren. Der jetzige Antrag der Mehrheit hat in der Kommission\\nmit 11 zu 2 Stimmen obsiegt.\\nZopﬁ Mathias (G, GL): Wie Sie der Fahne entnehmen kön-\\nnen, gehöre ich der kleinen Minderheit der Kommission an,\\nund ich beantrage Ihnen, den Artikel zu streichen.\\nVorab zur Offenlegung: Ich gehöre dem Schweizerischen An-\\nwaltsverband an, und dieser lehnt den vorliegenden Artikel\\nebenso ab wie die NGO-Plattform Menschenrechte Schweiz,\\nein Zusammenschluss von mehr als 80 Schweizer NGO.\\nAber auch das Centre Patronal gehört zu den ablehnenden\\nStimmen – es ist eine meiner Meinung nach doch sehr breit\\ngefächerte Ablehnung.\\nIch glaube, wir sind uns einig, dass niemand terroristische\\nAktivitäten auch nur im Geringsten fördern will und dass wir\\nuns alle wünschen, dass Terroristen angemessen bestraft\\nwerden können. Vielleicht haben wir sogar ein ganz klares\\nBild im Kopf, welche Organisationen wir meinen und wie die-\\nse Terroristen sind, die wir stoppen wollen. Die Realität ist\\naber, wie es im Strafrecht nicht unüblich ist, etwas differen-\\nzierter zu betrachten. Deshalb müssen wir meiner Meinung\\nnach neue Strafbestimmungen kritisch auf ihre Wirkung hin-\\nterfragen. Bei der vorliegenden gibt es aus meiner Sicht ge-\\nwichtige Punkte, die gegen sie sprechen.\\n1. Das geltende Recht, insbesondere Artikel 260ter, aber\\nauch Artikel 260quinquies, erlaubt eine Bestrafung von plan-\\nmässigen und konkreten organisatorischen Vorkehrungen\\nzur Vorbereitung von terroristischen Straftaten. Es gibt rela-\\ntiv neue Bundesgerichtsentscheide, die eine Bestrafung des-\\nsen, was wir uns wahrscheinlich eben vorstellen, zulassen.\\nSowohl die ﬁnanzielle Unterstützung als auch die sogenann-\\nte Dschihad-Reise sind strafbar. In einem konkreten Fall hat\\ndas Bundesgericht festgestellt, dass das Boarding einer Per-\\nson bereits strafrechtlich relevant war. Wir haben also die\\nnotwendigen Strafbestimmungen heute bereits, und wir ha-\\nben sie vorhin mit den Entscheiden zu Artikel 260ter ja noch\\neinmal verschärft.\\n2. Es stellt sich damit die Frage, was denn der Artikel über-\\nhaupt noch mehr bringen kann. Er bringt etwas, was wir mei-\\nner Meinung nach genau nicht wollen. Denn der zusätzliche\\nAnwendungsbereich des Artikels, also zusätzlich zu dem,\\nwas unter den anderen genannten Artikeln heute schon straf-\\nrechtlich geahndet werden kann, ist den üblicherweise straf-\\nbaren Vorbereitungshandlungen zu konkreten Delikten weit\\nvorgelagert. Das heisst, dass der Artikel die Strafbarkeit weit\\nfrüher erkennt.\\nDarin sehe ich zwei grundsätzliche Probleme: Erstens über-\\nschreiten wir die Grenze zum Gesinnungsstrafrecht. Wir be-\\nstrafen damit die Ansichten, die jemand hat. Das führt zu\\nnichts, und insbesondere wenn es um die Ansichten gegen-\\nüber anderen Staaten geht, können wir uns zum Teil viel-\\nleicht nicht mal ein Urteil anmassen. Zweitens gibt es vie-\\nle Hitzköpfe und Spinner, und es wird einige geben, die in\\nirgendeiner Form solche vorgelagerten Tätigkeiten entfalten\\nkönnten. Aber es gibt dann eben auch den Teil, der zur Be-\\nsinnung kommt und nichts in die Tat umsetzt. Wenn wir diese\\nLeute mit dem Strafrecht packen wollen, dann haben wir ein-\\nfach mehr Arbeit für die Gerichte, aber nicht mehr Sicherheit.\\nPacken müssen wir diejenigen, die zu konkreten Vorberei-\\ntungshandlungen schreiten, was, wie erwähnt, heute schon\\nstrafbar ist. Wir tun uns keinen Gefallen, wenn wir keine klare\\nGrenze ziehen, ab wann etwas strafbar ist.\\nBulletin ofﬁciel de l’Assemblée fédérale'"
      ]
     },
     "execution_count": 8,
     "metadata": {},
     "output_type": "execute_result"
    }
   ],
   "source": [
    "seite"
   ]
  },
  {
   "cell_type": "markdown",
   "id": "50e23b9f",
   "metadata": {},
   "source": [
    "## Loop, der Jede Seite darauf abtastet, ob es eine Rednerliste ist"
   ]
  },
  {
   "cell_type": "code",
   "execution_count": null,
   "id": "a2906113",
   "metadata": {},
   "outputs": [],
   "source": [
    "#Dokumentlänge prüfen:"
   ]
  },
  {
   "cell_type": "code",
   "execution_count": 15,
   "id": "c5def1ea",
   "metadata": {},
   "outputs": [
    {
     "data": {
      "text/plain": [
       "218"
      ]
     },
     "execution_count": 15,
     "metadata": {},
     "output_type": "execute_result"
    }
   ],
   "source": [
    "dokument = PyPDF2.PdfReader('Sessionsprotokolle/SR_5102_2003.pdf')\n",
    "laenge = len(dokument.pages)\n",
    "laenge"
   ]
  },
  {
   "cell_type": "code",
   "execution_count": 21,
   "id": "19a7caab",
   "metadata": {},
   "outputs": [],
   "source": [
    "#jetzt machen wir zuerst eine leere Liste, in die alle Seitennummern mit Abstimmungen kommen\n",
    "\n",
    "seitenliste = []\n",
    "\n",
    "#dann tasten wir jede Seite darauf ab, ob sie mit dem Begriff \"Geschäft\" beginnt; wenn ja >>> in die Seitenliste\n",
    "for seite in range(laenge):\n",
    "    inhalt = dokument.pages[seite].extract_text()\n",
    "    if \"Rednerliste\" in inhalt or \"Liste des orateurs\" in inhalt:\n",
    "        seitenliste.append(seite)"
   ]
  },
  {
   "cell_type": "code",
   "execution_count": 22,
   "id": "e7f0c131",
   "metadata": {},
   "outputs": [
    {
     "data": {
      "text/plain": [
       "[1, 10, 11, 12, 13, 14, 15, 16, 17, 18, 19, 20, 21, 22]"
      ]
     },
     "execution_count": 22,
     "metadata": {},
     "output_type": "execute_result"
    }
   ],
   "source": [
    "seitenliste"
   ]
  },
  {
   "cell_type": "markdown",
   "id": "851a23c3",
   "metadata": {},
   "source": [
    "## Wie können wir die Anzahl Wortmeldungen zählen?"
   ]
  },
  {
   "cell_type": "code",
   "execution_count": 29,
   "id": "7925936f",
   "metadata": {},
   "outputs": [],
   "source": [
    "inhalt = dokument.pages[10].extract_text()"
   ]
  },
  {
   "cell_type": "code",
   "execution_count": 31,
   "id": "702df166",
   "metadata": {},
   "outputs": [
    {
     "data": {
      "text/plain": [
       "['Frühjahrssession 2020 XI Ständerat Rednerliste',\n",
       " 'Rednerliste',\n",
       " 'Amherd Viola, Bundesrätin',\n",
       " '19.4468 Motion Salzmann Werner. Kein Verkauf der',\n",
       " 'Ruag Ammotec. Versorgungssicherheit',\n",
       " 'gewährleisten: 58',\n",
       " 'Bauer Philippe (RL, NE)',\n",
       " '20.004 GPK-N/S und GPDel. Jahresbericht 2020: 60',\n",
       " '19.4636 Interpellation Graf Maya. System der',\n",
       " 'Quotenziele des Bundesamtes für',\n",
       " 'Sozialversicherungen. Konﬂikt mit dem',\n",
       " 'Rechtsanspruch und dem',\n",
       " 'Untersuchungsgrundsatz?: 166',\n",
       " '17.3952 Motion Bühler Manfred. Zweisprachige',\n",
       " 'Signalisation auf Autobahnen ermöglichen: 147',\n",
       " '16.077 OR. Aktienrecht: 31',\n",
       " '19.032 Polizeiliche Massnahmen zur Bekämpfung von',\n",
       " 'Terrorismus. Bundesgesetz: 91',\n",
       " '19.300 Standesinitiative St. Gallen. Keine',\n",
       " 'Verjährungsfristen für Schwerstverbrecher: 123',\n",
       " 'Baume-Schneider Elisabeth (S, JU)',\n",
       " '19.3112 Motion Munz Martina. Food Waste. Stopp der',\n",
       " 'Lebensmittelverschwendung: 162',\n",
       " '17.3667 Motion Quadranti Rosmarie. Statistische',\n",
       " 'Erfassung von \"hate crimes\" aufgrund von',\n",
       " 'sexueller Orientierung, Geschlechtsidentität,',\n",
       " 'Geschlechtsausdruck oder',\n",
       " 'Geschlechtsmerkmalen: 108',\n",
       " 'Berset Alain, Bundesrat',\n",
       " '18.092 Erwerbsersatzgesetz.',\n",
       " 'Mutterschaftsentschädigung bei längerem',\n",
       " 'Spitalaufenthalt des Neugeborenen: 9, 10',\n",
       " '19.4634 Interpellation Ettlin Erich. Kontrollen und',\n",
       " 'Transparenz im Laborbereich. Was macht das',\n",
       " 'BAG?: 115',\n",
       " '19.4636 Interpellation Graf Maya. System der',\n",
       " 'Quotenziele des Bundesamtes für',\n",
       " 'Sozialversicherungen. Konﬂikt mit dem',\n",
       " 'Rechtsanspruch und dem',\n",
       " 'Untersuchungsgrundsatz?: 166',\n",
       " '17.022 IVG. Änderung (Weiterentwicklung der IV): 8',\n",
       " '18.047 KVG. Zulassung von Leistungserbringern: 93, 94',\n",
       " '18.3828 Motion Bourgeois Jacques. Gesundheitsrisiken',\n",
       " 'wegen Selenmangel. Massnahmen: 158',\n",
       " '18.3765 Motion Brand Heinz. Zeitgemässer',\n",
       " 'elektronischer Datenaustausch zwischen',\n",
       " 'Gemeinden und Krankenversicherern: 111',\n",
       " '18.4209 Motion Hess Lorenz. Wohnsitzfrage,',\n",
       " 'Krankenkassenprämie und stationäre Anteile',\n",
       " 'der Kantone. Weniger Bürokratie, weniger',\n",
       " 'Fehler: 111',\n",
       " '18.3977 Motion Humbel Ruth. Abbilden der Leistungen',\n",
       " 'der Apotheker zur Qualitätssicherung und',\n",
       " 'Kostendämpfung im',\n",
       " 'Krankenversicherungsgesetz: 112',\n",
       " '18.3148 Motion Markwalder Christa. Anbau und Export',\n",
       " 'von medizinischem Cannabis: 157',\n",
       " '19.4404 Motion Müller Damian. Assistenzhunde auch für',\n",
       " 'kranke Kinder und Jugendliche: 113Liste des orateurs',\n",
       " 'Amherd Viola, conseillère fédérale',\n",
       " '19.4468 Motion Salzmann Werner. Il faut assurer la',\n",
       " 'sécurité de notre approvisionnement. Ruag',\n",
       " 'Ammotec ne doit pas être vendue: 58',\n",
       " 'Bauer Philippe (RL, NE)',\n",
       " '20.004 CdG-N/E et DélCdG. Rapport annuel 2020: 60',\n",
       " '16.077 CO. Droit de la société anonyme: 31',\n",
       " '19.300 Initiative cantonale Saint-Gall. Pas de',\n",
       " 'prescription pour les crimes les plus graves:',\n",
       " '123',\n",
       " \"19.4636 Interpellation Graf Maya. Système d'objectifs en\",\n",
       " \"pourcentage de l'OFAS. Conﬂit avec le droit\",\n",
       " 'aux prestations et le principe inquisitoire: 166',\n",
       " '19.032 Mesures policières de lutte contre le terrorisme.',\n",
       " 'Loi fédérale: 91',\n",
       " '17.3952 Motion Bühler Manfred. Autoriser la signalisation',\n",
       " 'bilingue sur les autoroutes: 147',\n",
       " 'Baume-Schneider Elisabeth (S, JU)',\n",
       " '19.3112 Motion Munz Martina. Lutter contre le gaspillage',\n",
       " 'alimentaire: 162',\n",
       " '17.3667 Motion Quadranti Rosmarie. Recensement',\n",
       " 'statistique des crimes haineux fondés sur',\n",
       " \"l'orientation sexuelle, l'identité de genre,\",\n",
       " \"l'expression de genre ou les caractéristiques\",\n",
       " 'sexuelles: 108',\n",
       " 'Berset Alain, conseiller fédéral',\n",
       " \"19.047 Convention du Conseil de l'Europe contre le\",\n",
       " \"traﬁc d'organes humains. Approbation et mise\",\n",
       " 'en oeuvre (modiﬁcation de la loi sur la',\n",
       " 'transplantation et de la loi relative à la',\n",
       " \"recherche sur l'être humain): 6\",\n",
       " '19.4634 Interpellation Ettlin Erich. Contrôles et',\n",
       " 'transparence dans le domaine des',\n",
       " \"laboratoires. Que fait l'OFSP?: 115\",\n",
       " \"19.4636 Interpellation Graf Maya. Système d'objectifs en\",\n",
       " \"pourcentage de l'OFAS. Conﬂit avec le droit\",\n",
       " 'aux prestations et le principe inquisitoire: 166',\n",
       " '17.022 LAI. Modiﬁcation (Développement continu de',\n",
       " \"l'AI): 8\",\n",
       " '18.047 LAMal. Admission des fournisseurs de',\n",
       " 'prestations: 93, 94',\n",
       " '18.092 Loi sur les allocations pour perte de gain.',\n",
       " 'Allocation de maternité en cas de séjour',\n",
       " \"prolongé du nouveau-né à l'hôpital: 9, 10\",\n",
       " '19.030 Loi sur les épizooties. Modiﬁcation: 4',\n",
       " '18.3828 Motion Bourgeois Jacques. Risques pour la',\n",
       " 'santé du manque de sélénium. Mesures à',\n",
       " 'prendre: 158',\n",
       " '18.3765 Motion Brand Heinz. Echange moderne de',\n",
       " 'données par voie électronique entre les',\n",
       " 'communes et les assureurs-maladie: 111',\n",
       " '18.3709 Motion CSSS-N. Etablissement des listes',\n",
       " \"cantonales d'hôpitaux et d'EMS. Participation\",\n",
       " 'et codécision des assureurs-maladie: 112']"
      ]
     },
     "execution_count": 31,
     "metadata": {},
     "output_type": "execute_result"
    }
   ],
   "source": [
    "inhalt.split(\"\\n\")"
   ]
  },
  {
   "cell_type": "markdown",
   "id": "142934c0",
   "metadata": {},
   "source": [
    "## Loop, der jede relevante Seite auswertet"
   ]
  },
  {
   "cell_type": "code",
   "execution_count": 114,
   "id": "220597a1",
   "metadata": {},
   "outputs": [
    {
     "name": "stdout",
     "output_type": "stream",
     "text": [
      "18.071\n",
      "Terrorismus und organisierte Kriminalität. Übereinkommen des Europarates\n",
      "09.03.2020\n",
      "18.076\n",
      "Bundesgesetz über das Internationale Privatrecht. 12. Kapitel: Internationale Schiedsgerichtsbarkeit\n",
      "04.03.2020\n",
      "18.092\n",
      "Erwerbsersatzgesetz. Mutterschaftsentschädigung bei längerem Spitalaufenthalt des Neugeborenen\n",
      "02.03.2020\n",
      "19.030\n",
      "Tierseuchengesetz. Änderung\n",
      "02.03.2020\n",
      "19.032-1\n",
      "Polizeiliche Massnahmen zur Bekämpfung von Terrorismus. Bundesgesetz\n",
      "09.03.2020\n",
      "19.033\n",
      "Einführung des automatischen Informationsaustauschs über Finanzkonten mit weiteren Partnerstaaten ab\n",
      "03.03.2020\n",
      "19.047\n",
      "Übereinkommen des Europarats gegen den Handel mit menschlichen Organen. Genehmigung und\n",
      "02.03.2020\n",
      "19.051-1\n",
      "Überbrückungsleistung für ältere Arbeitslose. Bundesgesetz\n",
      "10.03.2020\n",
      "19.471\n",
      "Pa.Iv. Comte. Opfer fürsorgerischer Zwangsmassnahmen. Fristverlängerung\n",
      "04.03.2020\n",
      "19.471\n",
      "Pa.Iv. Comte. Opfer fürsorgerischer Zwangsmassnahmen. Fristverlängerung\n",
      "04.03.2020\n",
      "20.008-1\n",
      "Aussenwirtschaftspolitik 2019. Bericht\n",
      "11.03.2020\n",
      "20.008-2\n",
      "Aussenwirtschaftspolitik 2019. Bericht\n",
      "11.03.2020\n",
      "20.008-3\n",
      "Aussenwirtschaftspolitik 2019. Bericht\n",
      "11.03.2020\n",
      "20.008-4\n",
      "Aussenwirtschaftspolitik 2019. Bericht\n",
      "11.03.2020\n"
     ]
    }
   ],
   "source": [
    "regex_gnummer = r\"(\\d\\d\\.\\S+)\"\n",
    "regex_datum = r\"\\d\\d\\.\\d\\d\\.\\d\\d\\d\\d\"\n",
    "\n",
    "for seite in seitenliste:\n",
    "    inhalt = dokument.pages[seite].extract_text()\n",
    "    datenliste = inhalt.split(\"\\n\")\n",
    "    \n",
    "    for zeile in range(len(datenliste)):\n",
    "        if \"Geschäft\" in datenliste[zeile]:\n",
    "            geschäftszeile = datenliste[(zeile+1)]\n",
    "            \n",
    "            gnummer = (re.findall(regex_gnummer, geschäftszeile))\n",
    "            geschäft = geschäftszeile.strip(str(gnummer)+\" \")\n",
    "            \n",
    "            print(gnummer[0])\n",
    "            print(geschäft)\n",
    "            \n",
    "    for zeile in range(len(datenliste)):\n",
    "        if \"Abstimmung vom\" in datenliste[zeile]:\n",
    "            datum = re.findall(regex_datum, datenliste[zeile])\n",
    "        \n",
    "            print(datum[0])\n",
    "    \n",
    "            \n",
    "    "
   ]
  },
  {
   "cell_type": "code",
   "execution_count": null,
   "id": "e2d4808e",
   "metadata": {},
   "outputs": [],
   "source": []
  }
 ],
 "metadata": {
  "kernelspec": {
   "display_name": "Python 3 (ipykernel)",
   "language": "python",
   "name": "python3"
  },
  "language_info": {
   "codemirror_mode": {
    "name": "ipython",
    "version": 3
   },
   "file_extension": ".py",
   "mimetype": "text/x-python",
   "name": "python",
   "nbconvert_exporter": "python",
   "pygments_lexer": "ipython3",
   "version": "3.7.6"
  }
 },
 "nbformat": 4,
 "nbformat_minor": 5
}
