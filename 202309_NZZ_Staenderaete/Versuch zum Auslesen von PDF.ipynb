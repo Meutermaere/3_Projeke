{
 "cells": [
  {
   "cell_type": "code",
   "execution_count": null,
   "id": "52161ed4",
   "metadata": {},
   "outputs": [],
   "source": [
    "import re"
   ]
  },
  {
   "cell_type": "code",
   "execution_count": 7,
   "id": "e6bd403a",
   "metadata": {},
   "outputs": [
    {
     "name": "stdout",
     "output_type": "stream",
     "text": [
      "218\n",
      "12. März 2020 157 Ständerat 18.3828\n",
      "18.3389\n",
      "Motion SGK-N.\n",
      "Ärztliche Abgabe von Cannabis\n",
      "als Medikament an Chronischkranke.\n",
      "Tiefere Gesundheitskosten\n",
      "und weniger Bürokratie\n",
      "Motion CSSS-N.\n",
      "Prescription médicale de cannabis\n",
      "aux malades chroniques.\n",
      "Réduction de la bureaucratie\n",
      "et des coûts de la santé\n",
      "Nationalrat/Conseil national 19.09.18\n",
      "Ständerat/Conseil desEtats 12.03.20\n",
      "Rechsteiner Paul (S, SG), für die Kommission: Herr Präsi-\n",
      "dent, ich schlage Ihnen vor, beide Vorstösse zum Medizinal-\n",
      "cannabis, die Motion Markwalder und die Motion der SGK-N,\n",
      "gleichzeitig zu behandeln. Es geht um dasselbe, wenn auch\n",
      "in leicht modiﬁzierter Form. Wir haben sowieso einen Spe-\n",
      "zialfall vorliegen, weshalb ich Sie nicht allzu lange aufhalten\n",
      "muss, denn beide Motionen sind bereits in der Umsetzung\n",
      "begriffen. In diesem Sinne wird unser Entscheid von der Ge-\n",
      "setzgebung, die bereits unterwegs ist, überholt.\n",
      "Es geht bei beiden Vorstössen um das Thema des soge-\n",
      "nannten Medizinalcannabis, während der nichtmedizinische\n",
      "Cannabis hier kein Thema ist. Die Motion 18.3389, welche\n",
      "die SGK des Nationalrates eingereicht hat, geht auf eine par-\n",
      "lamentarische Initiative des früheren Nationalrates Thomas\n",
      "Ammann zurück. Mit der Motion wird verlangt, dass Medizi-\n",
      "nalcannabis durch ärztliche Verordnung an chronisch Kran-\n",
      "ke abgegeben werden kann. Die Motion Markwalder wie-\n",
      "derum verlangt eine entsprechende Anpassung der gesetzli-\n",
      "chen Grundlagen, damit Cannabis künftig zu medizinischen\n",
      "Zwecken angebaut und nachher als medizinischer Cannabis\n",
      "exportiert werden kann.\n",
      "Der Bundesrat hat inzwischen die Anliegen aufgenommen\n",
      "und bereits eine Vernehmlassung mit einer entsprechenden\n",
      "Anpassung des Gesetzes durchgeführt. Das Vernehmlas-\n",
      "sungsverfahren hat am 17. Oktober 2019 des letzten Jahres\n",
      "geendet – mit dem Resultat, dass praktisch alle, die sich in\n",
      "der Vernehmlassung geäussert haben, namentlich die Kan-\n",
      "tone, dem Projekt des Bundesrates zugestimmt haben. Das\n",
      "heisst, wir haben es jetzt mit einem Fall zu tun, in dem die\n",
      "Motionen bereits in Umsetzung begriffen sind; sie werden\n",
      "durch eine Vorlage des Bundesrates umgesetzt. Nach unse-\n",
      "ren Erkundigungen und nach dem, was die Kommission wäh-\n",
      "rend der Beratung dieser beiden Geschäfte hören konnte,\n",
      "soll die entsprechende Vorlage im Frühsommer dieses Jah-\n",
      "res den Räten zugeleitet werden. Das heisst, die Motionen\n",
      "werden sehr schnell umgesetzt, weil die Vernehmlassung be-\n",
      "reits durchgeführt worden ist.\n",
      "Die Kommission empﬁehlt Ihnen einstimmig, die Motion der\n",
      "SGK-N und die Motion Markwalder anzunehmen.\n",
      "Präsident (Stöckli Hans, Präsident): Sie haben je einen\n",
      "schriftlichen Bericht der Kommission erhalten. Die Kommis-\n",
      "sion und der Bundesrat beantragen die Annahme der beiden\n",
      "Motionen.\n",
      "Noser Ruedi (RL, ZH): Keine Angst, ich möchte die Diskussi-\n",
      "on nicht verlängern, ich möchte Herrn Bundesrat Berset aber\n",
      "doch bitten, hier zum Timing Stellung zu nehmen. Denn für\n",
      "die Produzenten, hier in diesem Fall speziell für die Bioland-\n",
      "wirtschaft, ist das Timing sehr, sehr wichtig. Man könnte ja\n",
      "heute schon, ohne Gesetzesänderung, den Anbau für den\n",
      "Export zulassen. Das würde eigentlich gehen. Dazu hätte ich\n",
      "gerne eine Aussage des Bundesrates: Ist das möglich? Kannman ein schnelles Verfahren machen, oder muss man wirk-\n",
      "lich warten, bis dieses Gesetz voll in Kraft ist? Das Window,\n",
      "während dem man überhaupt in dieses Geschäft einsteigen\n",
      "kann, schliesst sich nämlich langsam. Ist der Bundesrat be-\n",
      "reit, hier schnell zu handeln und der Landwirtschaft, insbe-\n",
      "sondere der Biolandwirtschaft, entgegenzukommen?\n",
      "Berset Alain, conseiller fédéral: Vous l'avez vu, le Conseil\n",
      "fédéral propose également l'adoption de ces deux motions.\n",
      "Nous sommes très conscients de l'importance de cette thé-\n",
      "matique. Il s'agit, avec les deux motions, de clariﬁer le cadre\n",
      "et d'ouvrir, aujourd'hui, le champ – si je peux utiliser cette\n",
      "expression – pour pouvoir viser une meilleure utilisation du\n",
      "cannabis à des ﬁns médicales.\n",
      "Je ne vais pas ajouter grand-chose à ce qu'a dit le rappor-\n",
      "teur, la position du Conseil fédéral est connue. J'aimerais par\n",
      "contre dire quelques mots à l'attention de M. le conseiller aux\n",
      "Etats Noser sur le calendrier. Les travaux avancent. Ce que\n",
      "je peux dire, c'est que nous n'avons pas la possibilité au-\n",
      "jourd'hui, sur la base de ce que nous avons, de faire des\n",
      "exceptions. Nous devons simplement travailler avec le pro-\n",
      "cessus normal sur la loi et la révision de l'ordonnance; il faut\n",
      "aussi faire une consultation pour l'ordonnance. Tous ces tra-\n",
      "vaux prennent naturellement un peu de temps. Ils sont plutôt\n",
      "de nature à permettre un développement qui soit stable, bien\n",
      "compris et qui permette une certaine sérénité dans cette évo-\n",
      "lution.\n",
      "Les travaux sur la loi sont donc en train d'avancer; nous al-\n",
      "lons ensuite pouvoir organiser une consultation sur l'ordon-\n",
      "nance; cela signiﬁe que la loi sera mise en oeuvre dès que\n",
      "possible. Nous sommes maintenant en 2020, la consultation\n",
      "sur l'ordonnance n'a pas encore eu lieu. L'entrée en vigueur\n",
      "pourrait se faire en 2021 ou en 2022, il faut voir à quel mo-\n",
      "ment ce sera possible. Je viens de poser la question – j'ai pris\n",
      "note de votre remarque –, nous allons regarder encore une\n",
      "fois le calendrier pour agir au plus vite, mais en respectant\n",
      "bien sûr les obligations légales en matière, notamment, de\n",
      "consultation et en veillant à donner la possibilité à l'ensemble\n",
      "des acteurs de s'exprimer.\n",
      "J'ai pris note de votre remarque, et nous allons regarder com-\n",
      "ment faire pour aller au plus vite – si on peut le dire ainsi –,\n",
      "mais avec la stabilité requise.\n",
      "18.3148, 18.3389\n",
      "Angenommen – Adopté\n",
      "18.3828\n",
      "Motion Bourgeois Jacques.\n",
      "Gesundheitsrisiken wegen Selenmangel.\n",
      "Massnahmen\n",
      "Motion Bourgeois Jacques.\n",
      "Risques pour la santé\n",
      "du manque de sélénium.\n",
      "Mesures à prendre\n",
      "Nationalrat/Conseil national 14.12.18\n",
      "Ständerat/Conseil desEtats 12.03.20\n",
      "Präsident (Stöckli Hans, Präsident): Es liegt ein schriftlicher\n",
      "Bericht der Kommission vor. Die Kommission und der Bun-\n",
      "desrat beantragen, die Motion anzunehmen.\n",
      "Graf Maya (G, BL), für die Kommission: Die Motion Bour-\n",
      "geois 18.3828, \"Gesundheitsrisiken wegen Selenmangel.\n",
      "Massnahmen\", wurde von der Kommission an der Sitzung\n",
      "vom 11. Februar 2020 geprüft. Sie war am 25. September\n",
      "Amtliches Bulletin der Bundesversammlung\n",
      "\n"
     ]
    }
   ],
   "source": [
    "# importing all the required modules\n",
    "import PyPDF2\n",
    "\n",
    "# creating a pdf reader object\n",
    "reader = PyPDF2.PdfReader('Sessionsprotokolle/SR_5102_2003.pdf')\n",
    "\n",
    "# print the number of pages in pdf file\n",
    "print(len(reader.pages))\n",
    "\n",
    "# print the text of the first page\n",
    "print(reader.pages[180].extract_text())"
   ]
  },
  {
   "cell_type": "code",
   "execution_count": 13,
   "id": "2de4875e",
   "metadata": {},
   "outputs": [],
   "source": [
    "seite = reader.pages[202].extract_text()"
   ]
  },
  {
   "cell_type": "code",
   "execution_count": 14,
   "id": "2a8f0a16",
   "metadata": {},
   "outputs": [
    {
     "data": {
      "text/plain": [
       "\"Geschäft / Objet:\\n18.092 Erwerbsersatzgesetz. Mutterschaftsentschädigung bei längerem Spitalaufenthalt des Neugeborenen\\nLoi sur les allocations pour perte de gain. Allocation de maternité en cas de séjour prolongé du nouveau-né\\nà l’hôpital\\nLegge sulle indennità di perdita di guadagno. Indennità di maternità in caso di soggiorno ospedaliero\\nprolungato del neonato\\nGegenstand / Objet du vote: Gesamtabstimmung\\nAbstimmung vom / Vote du: 02.03.2020 17:45:41\\n \\nBauer Philippe + NE Kuprecht Alex + SZ\\nBaume-Schneider Elisabeth + JU Levrat Christian + FR\\nBischof Pirmin + SO Maret Marianne + VS\\nBurkart Thierry + AG Mazzone Lisa + GE\\nCarobbio Guscetti Marina + TI Michel Matthias + ZG\\nCaroni Andrea + AR Minder Thomas + SH\\nChiesa Marco + TI Müller Damian + LU\\nDittli Josef + UR Noser Ruedi + ZH\\nEngler Stefan + GR Rechsteiner Paul + SG\\nEttlin Erich + OW Reichmuth Othmar + SZ\\nFässler Daniel + AI Rieder Beat + VS\\nFrançais Olivier + VD Salzmann Werner - BE\\nGapany Johanna + FR Schmid Martin + GR\\nGermann Hannes + SH Sommaruga Carlo + GE\\nGmür-\\nSchönenbergerAndrea + LU Stark Jakob = TG\\nGraf Maya + BL Stöckli Hans P BE\\nHäberli-Koller Brigitte + TG Thorens Goumaz Adèle + VD\\nHefti Thomas + GL Vara Céline + NE\\nHegglin Peter + ZG Wicki Hans + NW\\nHerzog Eva + BS Würth Benedikt + SG\\nJositsch Daniel + ZH Zanetti Roberto + SO\\nJuillard Charles + JU Z'graggen Heidi + UR\\nKnecht Hansjörg - AG Zopfi Mathias + GL\\n \\nLegende Tot.\\n+ Ja / oui / si 42\\n- Nein / non / no 2\\n= Enth. / abst. / ast. 1\\nE Enschuldigt gem. Art. 44a Abs. 6 GRS / excusé sel. art. 44a al. 6 RCE / scusato se. art. 44a cpv. 6 RCS 0\\n0 Hat nicht teilgenommen / n’a pas participé au vote / non ha partecipato al voto 0\\nP Die Präsidentin/der Präsident stimmt nicht / La présidente/le président ne prend pas part au vote / La/il\\npresidente non participa al voto1\\n \\nBedeutung Ja / Signification du oui: Annahme des Bundesgesetzes\\nBedeutung Nein / Signification du non: Ablehnung 18.092 Ref. 3362\\nSTÄNDERAT CONSEIL DES ETATS\\nAbstimmungsprotokoll Procès-verbal de vote\\nSTÄNDERAT, Elektronisches Abstimmungssystem CONSEIL DES ETATS, système de vote électronique\\n02.03.2020 17:46:02 identif. : 51.2 / 02.03.2020 17:45:41 Ref. : Erfassung-Nr. : 3362\""
      ]
     },
     "execution_count": 14,
     "metadata": {},
     "output_type": "execute_result"
    }
   ],
   "source": [
    "seite"
   ]
  },
  {
   "cell_type": "code",
   "execution_count": null,
   "id": "f7f694a0",
   "metadata": {},
   "outputs": [],
   "source": [
    "#So finde ich heraus, ob es sich um ein Abstimmungsprotokoll handelt (Text beginnt mit \"Geschäft\"):"
   ]
  },
  {
   "cell_type": "code",
   "execution_count": 21,
   "id": "361c955b",
   "metadata": {},
   "outputs": [
    {
     "data": {
      "text/plain": [
       "True"
      ]
     },
     "execution_count": 21,
     "metadata": {},
     "output_type": "execute_result"
    }
   ],
   "source": [
    "seite[:8] == \"Geschäft\""
   ]
  },
  {
   "cell_type": "code",
   "execution_count": 22,
   "id": "cada8e42",
   "metadata": {},
   "outputs": [],
   "source": [
    "# Jetzt versuche ich mit Regex, die Nummer und den Titel anzusteuern:"
   ]
  },
  {
   "cell_type": "code",
   "execution_count": 35,
   "id": "5bf3a1cd",
   "metadata": {},
   "outputs": [],
   "source": [
    "# Zuerst splitten wir das Dokument >>> Objekt Sollte jetzt immer Geschäft und Deutschen Titel enthalten"
   ]
  },
  {
   "cell_type": "code",
   "execution_count": 37,
   "id": "32527461",
   "metadata": {},
   "outputs": [
    {
     "data": {
      "text/plain": [
       "['Geschäft / Objet:',\n",
       " '18.092 Erwerbsersatzgesetz. Mutterschaftsentschädigung bei längerem Spitalaufenthalt des Neugeborenen',\n",
       " 'Loi sur les allocations pour perte de gain. Allocation de maternité en cas de séjour prolongé du nouveau-né',\n",
       " 'à l’hôpital',\n",
       " 'Legge sulle indennità di perdita di guadagno. Indennità di maternità in caso di soggiorno ospedaliero',\n",
       " 'prolungato del neonato',\n",
       " 'Gegenstand / Objet du vote: Gesamtabstimmung',\n",
       " 'Abstimmung vom / Vote du: 02.03.2020 17:45:41',\n",
       " ' ',\n",
       " 'Bauer Philippe + NE Kuprecht Alex + SZ',\n",
       " 'Baume-Schneider Elisabeth + JU Levrat Christian + FR',\n",
       " 'Bischof Pirmin + SO Maret Marianne + VS',\n",
       " 'Burkart Thierry + AG Mazzone Lisa + GE',\n",
       " 'Carobbio Guscetti Marina + TI Michel Matthias + ZG',\n",
       " 'Caroni Andrea + AR Minder Thomas + SH',\n",
       " 'Chiesa Marco + TI Müller Damian + LU',\n",
       " 'Dittli Josef + UR Noser Ruedi + ZH',\n",
       " 'Engler Stefan + GR Rechsteiner Paul + SG',\n",
       " 'Ettlin Erich + OW Reichmuth Othmar + SZ',\n",
       " 'Fässler Daniel + AI Rieder Beat + VS',\n",
       " 'Français Olivier + VD Salzmann Werner - BE',\n",
       " 'Gapany Johanna + FR Schmid Martin + GR',\n",
       " 'Germann Hannes + SH Sommaruga Carlo + GE',\n",
       " 'Gmür-',\n",
       " 'SchönenbergerAndrea + LU Stark Jakob = TG',\n",
       " 'Graf Maya + BL Stöckli Hans P BE',\n",
       " 'Häberli-Koller Brigitte + TG Thorens Goumaz Adèle + VD',\n",
       " 'Hefti Thomas + GL Vara Céline + NE',\n",
       " 'Hegglin Peter + ZG Wicki Hans + NW',\n",
       " 'Herzog Eva + BS Würth Benedikt + SG',\n",
       " 'Jositsch Daniel + ZH Zanetti Roberto + SO',\n",
       " \"Juillard Charles + JU Z'graggen Heidi + UR\",\n",
       " 'Knecht Hansjörg - AG Zopfi Mathias + GL',\n",
       " ' ',\n",
       " 'Legende Tot.',\n",
       " '+ Ja / oui / si 42',\n",
       " '- Nein / non / no 2',\n",
       " '= Enth. / abst. / ast. 1',\n",
       " 'E Enschuldigt gem. Art. 44a Abs. 6 GRS / excusé sel. art. 44a al. 6 RCE / scusato se. art. 44a cpv. 6 RCS 0',\n",
       " '0 Hat nicht teilgenommen / n’a pas participé au vote / non ha partecipato al voto 0',\n",
       " 'P Die Präsidentin/der Präsident stimmt nicht / La présidente/le président ne prend pas part au vote / La/il',\n",
       " 'presidente non participa al voto1',\n",
       " ' ',\n",
       " 'Bedeutung Ja / Signification du oui: Annahme des Bundesgesetzes',\n",
       " 'Bedeutung Nein / Signification du non: Ablehnung 18.092 Ref. 3362',\n",
       " 'STÄNDERAT CONSEIL DES ETATS',\n",
       " 'Abstimmungsprotokoll Procès-verbal de vote',\n",
       " 'STÄNDERAT, Elektronisches Abstimmungssystem CONSEIL DES ETATS, système de vote électronique',\n",
       " '02.03.2020 17:46:02 identif. : 51.2 / 02.03.2020 17:45:41 Ref. : Erfassung-Nr. : 3362']"
      ]
     },
     "execution_count": 37,
     "metadata": {},
     "output_type": "execute_result"
    }
   ],
   "source": [
    "seite.split(\"\\n\")"
   ]
  },
  {
   "cell_type": "code",
   "execution_count": 39,
   "id": "2eca06cc",
   "metadata": {},
   "outputs": [],
   "source": [
    "datenliste = seite.split(\"\\n\")"
   ]
  },
  {
   "cell_type": "code",
   "execution_count": null,
   "id": "c18212b5",
   "metadata": {},
   "outputs": [],
   "source": [
    "#So finde ich die Zeile, in der das Geschäft ist (nämlich die folgende):"
   ]
  },
  {
   "cell_type": "code",
   "execution_count": 66,
   "id": "6007cd49",
   "metadata": {},
   "outputs": [],
   "source": [
    "for zeile in range(len(datenliste)):\n",
    "    if \"Geschäft\" in datenliste[zeile]:\n",
    "        geschäftszeile = datenliste[(zeile+1)]"
   ]
  },
  {
   "cell_type": "code",
   "execution_count": 67,
   "id": "614f4752",
   "metadata": {},
   "outputs": [
    {
     "data": {
      "text/plain": [
       "'18.092 Erwerbsersatzgesetz. Mutterschaftsentschädigung bei längerem Spitalaufenthalt des Neugeborenen'"
      ]
     },
     "execution_count": 67,
     "metadata": {},
     "output_type": "execute_result"
    }
   ],
   "source": [
    "geschäftszeile"
   ]
  },
  {
   "cell_type": "code",
   "execution_count": 56,
   "id": "ffc67fab",
   "metadata": {},
   "outputs": [],
   "source": [
    "#und jetzt nutzen wir Regex, um die Nummer rauszulesen:"
   ]
  },
  {
   "cell_type": "code",
   "execution_count": 71,
   "id": "9f516b67",
   "metadata": {},
   "outputs": [],
   "source": [
    "regex_gnummer = r\"(\\d\\d\\.\\S+)\"\n",
    "#das bedeutet: zwei Zahlen, gefolgt von einem Punkt, dann beliebig viele (+) Nicht-Leerschläge"
   ]
  },
  {
   "cell_type": "code",
   "execution_count": 74,
   "id": "2eb6437d",
   "metadata": {},
   "outputs": [],
   "source": [
    "gnummer = re.findall(regex_gnummer, geschäftszeile)"
   ]
  },
  {
   "cell_type": "code",
   "execution_count": 79,
   "id": "fea5038f",
   "metadata": {},
   "outputs": [
    {
     "data": {
      "text/plain": [
       "['18.092']"
      ]
     },
     "execution_count": 79,
     "metadata": {},
     "output_type": "execute_result"
    }
   ],
   "source": [
    "gnummer"
   ]
  },
  {
   "cell_type": "code",
   "execution_count": null,
   "id": "1f284a07",
   "metadata": {},
   "outputs": [],
   "source": [
    "#das, was übrig bleibt, wenn man die Nummer wegschneidet, ist folglich das Geschäft"
   ]
  },
  {
   "cell_type": "code",
   "execution_count": 80,
   "id": "798fd0cd",
   "metadata": {},
   "outputs": [
    {
     "data": {
      "text/plain": [
       "'Erwerbsersatzgesetz. Mutterschaftsentschädigung bei längerem Spitalaufenthalt des Neugeborenen'"
      ]
     },
     "execution_count": 80,
     "metadata": {},
     "output_type": "execute_result"
    }
   ],
   "source": [
    "geschäft = geschäftszeile.strip(str(gnummer)+\" \")\n",
    "geschäft"
   ]
  },
  {
   "cell_type": "markdown",
   "id": "d6b58e3b",
   "metadata": {},
   "source": [
    "## Loop, der Jede Seite darauf abtastet, ob es eine Abstimmung ist"
   ]
  },
  {
   "cell_type": "code",
   "execution_count": null,
   "id": "3fe2b51b",
   "metadata": {},
   "outputs": [],
   "source": [
    "#Dokumentlänge prüfen:"
   ]
  },
  {
   "cell_type": "code",
   "execution_count": 91,
   "id": "51e80e1c",
   "metadata": {},
   "outputs": [
    {
     "data": {
      "text/plain": [
       "218"
      ]
     },
     "execution_count": 91,
     "metadata": {},
     "output_type": "execute_result"
    }
   ],
   "source": [
    "dokument = PyPDF2.PdfReader('Sessionsprotokolle/SR_5102_2003.pdf')\n",
    "laenge = len(dokument.pages)\n",
    "laenge"
   ]
  },
  {
   "cell_type": "code",
   "execution_count": 96,
   "id": "4165fb1a",
   "metadata": {},
   "outputs": [
    {
     "name": "stdout",
     "output_type": "stream",
     "text": [
      "12. März 2020 157 Ständerat 18.3828\n",
      "18.3389\n",
      "Motion SGK-N.\n",
      "Ärztliche Abgabe von Cannabis\n",
      "als Medikament an Chronischkranke.\n",
      "Tiefere Gesundheitskosten\n",
      "und weniger Bürokratie\n",
      "Motion CSSS-N.\n",
      "Prescription médicale de cannabis\n",
      "aux malades chroniques.\n",
      "Réduction de la bureaucratie\n",
      "et des coûts de la santé\n",
      "Nationalrat/Conseil national 19.09.18\n",
      "Ständerat/Conseil desEtats 12.03.20\n",
      "Rechsteiner Paul (S, SG), für die Kommission: Herr Präsi-\n",
      "dent, ich schlage Ihnen vor, beide Vorstösse zum Medizinal-\n",
      "cannabis, die Motion Markwalder und die Motion der SGK-N,\n",
      "gleichzeitig zu behandeln. Es geht um dasselbe, wenn auch\n",
      "in leicht modiﬁzierter Form. Wir haben sowieso einen Spe-\n",
      "zialfall vorliegen, weshalb ich Sie nicht allzu lange aufhalten\n",
      "muss, denn beide Motionen sind bereits in der Umsetzung\n",
      "begriffen. In diesem Sinne wird unser Entscheid von der Ge-\n",
      "setzgebung, die bereits unterwegs ist, überholt.\n",
      "Es geht bei beiden Vorstössen um das Thema des soge-\n",
      "nannten Medizinalcannabis, während der nichtmedizinische\n",
      "Cannabis hier kein Thema ist. Die Motion 18.3389, welche\n",
      "die SGK des Nationalrates eingereicht hat, geht auf eine par-\n",
      "lamentarische Initiative des früheren Nationalrates Thomas\n",
      "Ammann zurück. Mit der Motion wird verlangt, dass Medizi-\n",
      "nalcannabis durch ärztliche Verordnung an chronisch Kran-\n",
      "ke abgegeben werden kann. Die Motion Markwalder wie-\n",
      "derum verlangt eine entsprechende Anpassung der gesetzli-\n",
      "chen Grundlagen, damit Cannabis künftig zu medizinischen\n",
      "Zwecken angebaut und nachher als medizinischer Cannabis\n",
      "exportiert werden kann.\n",
      "Der Bundesrat hat inzwischen die Anliegen aufgenommen\n",
      "und bereits eine Vernehmlassung mit einer entsprechenden\n",
      "Anpassung des Gesetzes durchgeführt. Das Vernehmlas-\n",
      "sungsverfahren hat am 17. Oktober 2019 des letzten Jahres\n",
      "geendet – mit dem Resultat, dass praktisch alle, die sich in\n",
      "der Vernehmlassung geäussert haben, namentlich die Kan-\n",
      "tone, dem Projekt des Bundesrates zugestimmt haben. Das\n",
      "heisst, wir haben es jetzt mit einem Fall zu tun, in dem die\n",
      "Motionen bereits in Umsetzung begriffen sind; sie werden\n",
      "durch eine Vorlage des Bundesrates umgesetzt. Nach unse-\n",
      "ren Erkundigungen und nach dem, was die Kommission wäh-\n",
      "rend der Beratung dieser beiden Geschäfte hören konnte,\n",
      "soll die entsprechende Vorlage im Frühsommer dieses Jah-\n",
      "res den Räten zugeleitet werden. Das heisst, die Motionen\n",
      "werden sehr schnell umgesetzt, weil die Vernehmlassung be-\n",
      "reits durchgeführt worden ist.\n",
      "Die Kommission empﬁehlt Ihnen einstimmig, die Motion der\n",
      "SGK-N und die Motion Markwalder anzunehmen.\n",
      "Präsident (Stöckli Hans, Präsident): Sie haben je einen\n",
      "schriftlichen Bericht der Kommission erhalten. Die Kommis-\n",
      "sion und der Bundesrat beantragen die Annahme der beiden\n",
      "Motionen.\n",
      "Noser Ruedi (RL, ZH): Keine Angst, ich möchte die Diskussi-\n",
      "on nicht verlängern, ich möchte Herrn Bundesrat Berset aber\n",
      "doch bitten, hier zum Timing Stellung zu nehmen. Denn für\n",
      "die Produzenten, hier in diesem Fall speziell für die Bioland-\n",
      "wirtschaft, ist das Timing sehr, sehr wichtig. Man könnte ja\n",
      "heute schon, ohne Gesetzesänderung, den Anbau für den\n",
      "Export zulassen. Das würde eigentlich gehen. Dazu hätte ich\n",
      "gerne eine Aussage des Bundesrates: Ist das möglich? Kannman ein schnelles Verfahren machen, oder muss man wirk-\n",
      "lich warten, bis dieses Gesetz voll in Kraft ist? Das Window,\n",
      "während dem man überhaupt in dieses Geschäft einsteigen\n",
      "kann, schliesst sich nämlich langsam. Ist der Bundesrat be-\n",
      "reit, hier schnell zu handeln und der Landwirtschaft, insbe-\n",
      "sondere der Biolandwirtschaft, entgegenzukommen?\n",
      "Berset Alain, conseiller fédéral: Vous l'avez vu, le Conseil\n",
      "fédéral propose également l'adoption de ces deux motions.\n",
      "Nous sommes très conscients de l'importance de cette thé-\n",
      "matique. Il s'agit, avec les deux motions, de clariﬁer le cadre\n",
      "et d'ouvrir, aujourd'hui, le champ – si je peux utiliser cette\n",
      "expression – pour pouvoir viser une meilleure utilisation du\n",
      "cannabis à des ﬁns médicales.\n",
      "Je ne vais pas ajouter grand-chose à ce qu'a dit le rappor-\n",
      "teur, la position du Conseil fédéral est connue. J'aimerais par\n",
      "contre dire quelques mots à l'attention de M. le conseiller aux\n",
      "Etats Noser sur le calendrier. Les travaux avancent. Ce que\n",
      "je peux dire, c'est que nous n'avons pas la possibilité au-\n",
      "jourd'hui, sur la base de ce que nous avons, de faire des\n",
      "exceptions. Nous devons simplement travailler avec le pro-\n",
      "cessus normal sur la loi et la révision de l'ordonnance; il faut\n",
      "aussi faire une consultation pour l'ordonnance. Tous ces tra-\n",
      "vaux prennent naturellement un peu de temps. Ils sont plutôt\n",
      "de nature à permettre un développement qui soit stable, bien\n",
      "compris et qui permette une certaine sérénité dans cette évo-\n",
      "lution.\n",
      "Les travaux sur la loi sont donc en train d'avancer; nous al-\n",
      "lons ensuite pouvoir organiser une consultation sur l'ordon-\n",
      "nance; cela signiﬁe que la loi sera mise en oeuvre dès que\n",
      "possible. Nous sommes maintenant en 2020, la consultation\n",
      "sur l'ordonnance n'a pas encore eu lieu. L'entrée en vigueur\n",
      "pourrait se faire en 2021 ou en 2022, il faut voir à quel mo-\n",
      "ment ce sera possible. Je viens de poser la question – j'ai pris\n",
      "note de votre remarque –, nous allons regarder encore une\n",
      "fois le calendrier pour agir au plus vite, mais en respectant\n",
      "bien sûr les obligations légales en matière, notamment, de\n",
      "consultation et en veillant à donner la possibilité à l'ensemble\n",
      "des acteurs de s'exprimer.\n",
      "J'ai pris note de votre remarque, et nous allons regarder com-\n",
      "ment faire pour aller au plus vite – si on peut le dire ainsi –,\n",
      "mais avec la stabilité requise.\n",
      "18.3148, 18.3389\n",
      "Angenommen – Adopté\n",
      "18.3828\n",
      "Motion Bourgeois Jacques.\n",
      "Gesundheitsrisiken wegen Selenmangel.\n",
      "Massnahmen\n",
      "Motion Bourgeois Jacques.\n",
      "Risques pour la santé\n",
      "du manque de sélénium.\n",
      "Mesures à prendre\n",
      "Nationalrat/Conseil national 14.12.18\n",
      "Ständerat/Conseil desEtats 12.03.20\n",
      "Präsident (Stöckli Hans, Präsident): Es liegt ein schriftlicher\n",
      "Bericht der Kommission vor. Die Kommission und der Bun-\n",
      "desrat beantragen, die Motion anzunehmen.\n",
      "Graf Maya (G, BL), für die Kommission: Die Motion Bour-\n",
      "geois 18.3828, \"Gesundheitsrisiken wegen Selenmangel.\n",
      "Massnahmen\", wurde von der Kommission an der Sitzung\n",
      "vom 11. Februar 2020 geprüft. Sie war am 25. September\n",
      "Amtliches Bulletin der Bundesversammlung\n",
      "\n"
     ]
    }
   ],
   "source": [
    "inhalt = dokument.pages[seite].extract_text()"
   ]
  },
  {
   "cell_type": "code",
   "execution_count": 98,
   "id": "8391bd62",
   "metadata": {},
   "outputs": [],
   "source": [
    "#jetzt machen wir zuerst eine leere Liste, in die alle Seitennummern mit Abstimmungen kommen\n",
    "\n",
    "seitenliste = []\n",
    "\n",
    "#dann tasten wir jede Seite darauf ab, ob sie mit dem Begriff \"Geschäft\" beginnt; wenn ja >>> in die Seitenliste\n",
    "for seite in range(laenge):\n",
    "    inhalt = dokument.pages[seite].extract_text()\n",
    "    if inhalt[:8] == \"Geschäft\":\n",
    "        seitenliste.append(seite)"
   ]
  },
  {
   "cell_type": "code",
   "execution_count": 99,
   "id": "642c8014",
   "metadata": {},
   "outputs": [
    {
     "data": {
      "text/plain": [
       "[200, 201, 202, 203, 204, 205, 206, 207, 208, 209, 210, 212, 213, 214]"
      ]
     },
     "execution_count": 99,
     "metadata": {},
     "output_type": "execute_result"
    }
   ],
   "source": [
    "seitenliste"
   ]
  },
  {
   "cell_type": "markdown",
   "id": "716ccca3",
   "metadata": {},
   "source": [
    "## Loop, der jede relevante Seite auswertet"
   ]
  },
  {
   "cell_type": "code",
   "execution_count": 100,
   "id": "c5f04e38",
   "metadata": {},
   "outputs": [
    {
     "name": "stdout",
     "output_type": "stream",
     "text": [
      "['18.071']\n",
      "Terrorismus und organisierte Kriminalität. Übereinkommen des Europarates\n",
      "['18.076']\n",
      "Bundesgesetz über das Internationale Privatrecht. 12. Kapitel: Internationale Schiedsgerichtsbarkeit\n",
      "['18.092']\n",
      "Erwerbsersatzgesetz. Mutterschaftsentschädigung bei längerem Spitalaufenthalt des Neugeborenen\n",
      "['19.030']\n",
      "Tierseuchengesetz. Änderung\n",
      "['19.032-1']\n",
      "Polizeiliche Massnahmen zur Bekämpfung von Terrorismus. Bundesgesetz\n",
      "['19.033']\n",
      "Einführung des automatischen Informationsaustauschs über Finanzkonten mit weiteren Partnerstaaten ab\n",
      "['19.047']\n",
      "Übereinkommen des Europarats gegen den Handel mit menschlichen Organen. Genehmigung und\n",
      "['19.051-1']\n",
      "Überbrückungsleistung für ältere Arbeitslose. Bundesgesetz\n",
      "['19.471']\n",
      "Pa.Iv. Comte. Opfer fürsorgerischer Zwangsmassnahmen. Fristverlängerung\n",
      "['19.471']\n",
      "Pa.Iv. Comte. Opfer fürsorgerischer Zwangsmassnahmen. Fristverlängerung\n",
      "['20.008-1']\n",
      "Aussenwirtschaftspolitik 2019. Bericht\n",
      "['20.008-2']\n",
      "Aussenwirtschaftspolitik 2019. Bericht\n",
      "['20.008-3']\n",
      "Aussenwirtschaftspolitik 2019. Bericht\n",
      "['20.008-4']\n",
      "Aussenwirtschaftspolitik 2019. Bericht\n"
     ]
    }
   ],
   "source": [
    "regex_gnummer = r\"(\\d\\d\\.\\S+)\"\n",
    "\n",
    "for seite in seitenliste:\n",
    "    inhalt = dokument.pages[seite].extract_text()\n",
    "    datenliste = inhalt.split(\"\\n\")\n",
    "    \n",
    "    for zeile in range(len(datenliste)):\n",
    "        if \"Geschäft\" in datenliste[zeile]:\n",
    "            geschäftszeile = datenliste[(zeile+1)]\n",
    "            \n",
    "            gnummer = re.findall(regex_gnummer, geschäftszeile)\n",
    "            geschäft = geschäftszeile.strip(str(gnummer)+\" \")\n",
    "            \n",
    "            print(gnummer)\n",
    "            print(geschäft)\n",
    "            \n",
    "    "
   ]
  },
  {
   "cell_type": "code",
   "execution_count": null,
   "id": "55a1d036",
   "metadata": {},
   "outputs": [],
   "source": []
  }
 ],
 "metadata": {
  "kernelspec": {
   "display_name": "Python 3 (ipykernel)",
   "language": "python",
   "name": "python3"
  },
  "language_info": {
   "codemirror_mode": {
    "name": "ipython",
    "version": 3
   },
   "file_extension": ".py",
   "mimetype": "text/x-python",
   "name": "python",
   "nbconvert_exporter": "python",
   "pygments_lexer": "ipython3",
   "version": "3.7.6"
  }
 },
 "nbformat": 4,
 "nbformat_minor": 5
}
