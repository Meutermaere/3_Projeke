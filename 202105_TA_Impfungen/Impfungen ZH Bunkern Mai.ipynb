{
 "cells": [
  {
   "cell_type": "code",
   "execution_count": 1,
   "metadata": {},
   "outputs": [],
   "source": [
    "import pandas as pd"
   ]
  },
  {
   "cell_type": "code",
   "execution_count": 2,
   "metadata": {},
   "outputs": [],
   "source": [
    "path1 = \"COVID19VaccDosesDelivered.csv\"\n",
    "path2 = \"COVID19VaccDosesAdministered.csv\""
   ]
  },
  {
   "cell_type": "code",
   "execution_count": 17,
   "metadata": {},
   "outputs": [],
   "source": [
    "df_deliv = pd.read_csv(path1)\n",
    "df_admin = pd.read_csv(path2)"
   ]
  },
  {
   "cell_type": "markdown",
   "metadata": {},
   "source": [
    "## Nur jüngstes Datum"
   ]
  },
  {
   "cell_type": "code",
   "execution_count": 18,
   "metadata": {},
   "outputs": [],
   "source": [
    "df_deliv_Mai = df_deliv[df_deliv[\"date\"] == \"2021-05-02\"]\n",
    "df_admin_Mai = df_admin[df_admin[\"date\"] == \"2021-05-02\"]"
   ]
  },
  {
   "cell_type": "code",
   "execution_count": 19,
   "metadata": {},
   "outputs": [],
   "source": [
    "#grosse Kantone rausfiltern\n",
    "df_deliv_MaiGross = df_deliv_Mai[(df_deliv_Mai[\"pop\"] > 800000) & (df_deliv_Mai[\"pop\"] < 1600000)]\n",
    "df_admin_MaiGross = df_admin_Mai[(df_admin_Mai[\"pop\"] > 800000) & (df_admin_Mai[\"pop\"] < 1600000)]"
   ]
  },
  {
   "cell_type": "code",
   "execution_count": 20,
   "metadata": {},
   "outputs": [
    {
     "data": {
      "text/plain": [
       "Index(['date', 'geoRegion', 'entries', 'pop', 'sumTotal', 'per100Persons',\n",
       "       'per100Persons_mean7d', 'per100PersonsTotal', 'mean7d', 'type',\n",
       "       'version', 'granularity'],\n",
       "      dtype='object')"
      ]
     },
     "execution_count": 20,
     "metadata": {},
     "output_type": "execute_result"
    }
   ],
   "source": [
    "df_admin_Mai.columns"
   ]
  },
  {
   "cell_type": "code",
   "execution_count": 21,
   "metadata": {},
   "outputs": [],
   "source": [
    "# weglöschen der unnötigen Zahlen\n",
    "df_deliv_MaiGross = df_deliv_MaiGross.drop(['type', 'version'], axis = 1)\n",
    "df_admin_MaiGross = df_admin_MaiGross.drop(['pop', 'per100Persons',\n",
    "       'per100Persons_mean7d', 'per100PersonsTotal', 'mean7d', 'type',\n",
    "       'version', 'granularity'], axis = 1)"
   ]
  },
  {
   "cell_type": "code",
   "execution_count": 22,
   "metadata": {},
   "outputs": [
    {
     "data": {
      "text/html": [
       "<div>\n",
       "<style scoped>\n",
       "    .dataframe tbody tr th:only-of-type {\n",
       "        vertical-align: middle;\n",
       "    }\n",
       "\n",
       "    .dataframe tbody tr th {\n",
       "        vertical-align: top;\n",
       "    }\n",
       "\n",
       "    .dataframe thead th {\n",
       "        text-align: right;\n",
       "    }\n",
       "</style>\n",
       "<table border=\"1\" class=\"dataframe\">\n",
       "  <thead>\n",
       "    <tr style=\"text-align: right;\">\n",
       "      <th></th>\n",
       "      <th>geoRegion</th>\n",
       "      <th>date</th>\n",
       "      <th>pop</th>\n",
       "      <th>sumTotal</th>\n",
       "      <th>per100PersonsTotal</th>\n",
       "    </tr>\n",
       "  </thead>\n",
       "  <tbody>\n",
       "    <tr>\n",
       "      <th>0</th>\n",
       "      <td>BE</td>\n",
       "      <td>2021-05-02</td>\n",
       "      <td>1039474</td>\n",
       "      <td>398025</td>\n",
       "      <td>38.29</td>\n",
       "    </tr>\n",
       "    <tr>\n",
       "      <th>1</th>\n",
       "      <td>VD</td>\n",
       "      <td>2021-05-02</td>\n",
       "      <td>805098</td>\n",
       "      <td>277350</td>\n",
       "      <td>34.45</td>\n",
       "    </tr>\n",
       "    <tr>\n",
       "      <th>2</th>\n",
       "      <td>ZH</td>\n",
       "      <td>2021-05-02</td>\n",
       "      <td>1539275</td>\n",
       "      <td>524650</td>\n",
       "      <td>34.08</td>\n",
       "    </tr>\n",
       "  </tbody>\n",
       "</table>\n",
       "</div>"
      ],
      "text/plain": [
       "  geoRegion        date      pop  sumTotal  per100PersonsTotal\n",
       "0        BE  2021-05-02  1039474    398025               38.29\n",
       "1        VD  2021-05-02   805098    277350               34.45\n",
       "2        ZH  2021-05-02  1539275    524650               34.08"
      ]
     },
     "execution_count": 22,
     "metadata": {},
     "output_type": "execute_result"
    }
   ],
   "source": [
    "#index reseten, um die beiden DFs verbinden zu können\n",
    "df_deliv_MaiGross.reset_index(drop = True, inplace = True)\n",
    "df_deliv_MaiGross"
   ]
  },
  {
   "cell_type": "code",
   "execution_count": 35,
   "metadata": {},
   "outputs": [],
   "source": [
    "df_admin_MaiGross.reset_index(drop = True, inplace = True)\n",
    "df_admin_MaiGross.rename(columns={\"sumTotal\": \"verimpft\"}, inplace = True)"
   ]
  },
  {
   "cell_type": "code",
   "execution_count": 36,
   "metadata": {},
   "outputs": [],
   "source": [
    "df_bunker = pd.concat([df_deliv_MaiGross, df_admin_MaiGross[\"verimpft\"]], axis=1, join=\"outer\")"
   ]
  },
  {
   "cell_type": "code",
   "execution_count": 37,
   "metadata": {},
   "outputs": [
    {
     "data": {
      "text/html": [
       "<div>\n",
       "<style scoped>\n",
       "    .dataframe tbody tr th:only-of-type {\n",
       "        vertical-align: middle;\n",
       "    }\n",
       "\n",
       "    .dataframe tbody tr th {\n",
       "        vertical-align: top;\n",
       "    }\n",
       "\n",
       "    .dataframe thead th {\n",
       "        text-align: right;\n",
       "    }\n",
       "</style>\n",
       "<table border=\"1\" class=\"dataframe\">\n",
       "  <thead>\n",
       "    <tr style=\"text-align: right;\">\n",
       "      <th></th>\n",
       "      <th>geoRegion</th>\n",
       "      <th>date</th>\n",
       "      <th>pop</th>\n",
       "      <th>sumTotal</th>\n",
       "      <th>per100PersonsTotal</th>\n",
       "      <th>verimpft</th>\n",
       "    </tr>\n",
       "  </thead>\n",
       "  <tbody>\n",
       "    <tr>\n",
       "      <th>0</th>\n",
       "      <td>BE</td>\n",
       "      <td>2021-05-02</td>\n",
       "      <td>1039474</td>\n",
       "      <td>398025</td>\n",
       "      <td>38.29</td>\n",
       "      <td>349904</td>\n",
       "    </tr>\n",
       "    <tr>\n",
       "      <th>1</th>\n",
       "      <td>VD</td>\n",
       "      <td>2021-05-02</td>\n",
       "      <td>805098</td>\n",
       "      <td>277350</td>\n",
       "      <td>34.45</td>\n",
       "      <td>258635</td>\n",
       "    </tr>\n",
       "    <tr>\n",
       "      <th>2</th>\n",
       "      <td>ZH</td>\n",
       "      <td>2021-05-02</td>\n",
       "      <td>1539275</td>\n",
       "      <td>524650</td>\n",
       "      <td>34.08</td>\n",
       "      <td>402951</td>\n",
       "    </tr>\n",
       "  </tbody>\n",
       "</table>\n",
       "</div>"
      ],
      "text/plain": [
       "  geoRegion        date      pop  sumTotal  per100PersonsTotal  verimpft\n",
       "0        BE  2021-05-02  1039474    398025               38.29    349904\n",
       "1        VD  2021-05-02   805098    277350               34.45    258635\n",
       "2        ZH  2021-05-02  1539275    524650               34.08    402951"
      ]
     },
     "execution_count": 37,
     "metadata": {},
     "output_type": "execute_result"
    }
   ],
   "source": [
    "df_bunker"
   ]
  },
  {
   "cell_type": "code",
   "execution_count": 43,
   "metadata": {},
   "outputs": [],
   "source": [
    "df_bunker[\"gebunkert\"] = df_bunker[\"sumTotal\"] - df_bunker[\"verimpft\"]\n",
    "df_bunker[\"gebunkert_Anteil\"] = 100/df_bunker[\"sumTotal\"]*df_bunker[\"gebunkert\"].round(1)"
   ]
  },
  {
   "cell_type": "code",
   "execution_count": 41,
   "metadata": {},
   "outputs": [
    {
     "data": {
      "text/html": [
       "<div>\n",
       "<style scoped>\n",
       "    .dataframe tbody tr th:only-of-type {\n",
       "        vertical-align: middle;\n",
       "    }\n",
       "\n",
       "    .dataframe tbody tr th {\n",
       "        vertical-align: top;\n",
       "    }\n",
       "\n",
       "    .dataframe thead th {\n",
       "        text-align: right;\n",
       "    }\n",
       "</style>\n",
       "<table border=\"1\" class=\"dataframe\">\n",
       "  <thead>\n",
       "    <tr style=\"text-align: right;\">\n",
       "      <th></th>\n",
       "      <th>geoRegion</th>\n",
       "      <th>date</th>\n",
       "      <th>pop</th>\n",
       "      <th>sumTotal</th>\n",
       "      <th>per100PersonsTotal</th>\n",
       "      <th>verimpft</th>\n",
       "      <th>gebunkert</th>\n",
       "      <th>gebunkert_Anteil</th>\n",
       "    </tr>\n",
       "  </thead>\n",
       "  <tbody>\n",
       "    <tr>\n",
       "      <th>0</th>\n",
       "      <td>BE</td>\n",
       "      <td>2021-05-02</td>\n",
       "      <td>1039474</td>\n",
       "      <td>398025</td>\n",
       "      <td>38.29</td>\n",
       "      <td>349904</td>\n",
       "      <td>48121</td>\n",
       "      <td>12.089944</td>\n",
       "    </tr>\n",
       "    <tr>\n",
       "      <th>1</th>\n",
       "      <td>VD</td>\n",
       "      <td>2021-05-02</td>\n",
       "      <td>805098</td>\n",
       "      <td>277350</td>\n",
       "      <td>34.45</td>\n",
       "      <td>258635</td>\n",
       "      <td>18715</td>\n",
       "      <td>6.747792</td>\n",
       "    </tr>\n",
       "    <tr>\n",
       "      <th>2</th>\n",
       "      <td>ZH</td>\n",
       "      <td>2021-05-02</td>\n",
       "      <td>1539275</td>\n",
       "      <td>524650</td>\n",
       "      <td>34.08</td>\n",
       "      <td>402951</td>\n",
       "      <td>121699</td>\n",
       "      <td>23.196226</td>\n",
       "    </tr>\n",
       "  </tbody>\n",
       "</table>\n",
       "</div>"
      ],
      "text/plain": [
       "  geoRegion        date      pop  sumTotal  per100PersonsTotal  verimpft  \\\n",
       "0        BE  2021-05-02  1039474    398025               38.29    349904   \n",
       "1        VD  2021-05-02   805098    277350               34.45    258635   \n",
       "2        ZH  2021-05-02  1539275    524650               34.08    402951   \n",
       "\n",
       "   gebunkert  gebunkert_Anteil  \n",
       "0      48121         12.089944  \n",
       "1      18715          6.747792  \n",
       "2     121699         23.196226  "
      ]
     },
     "execution_count": 41,
     "metadata": {},
     "output_type": "execute_result"
    }
   ],
   "source": [
    "df_bunker"
   ]
  },
  {
   "cell_type": "code",
   "execution_count": 44,
   "metadata": {},
   "outputs": [],
   "source": [
    "#Exportieren Excel\n",
    "df_bunker.to_excel(\"2_gebunkert_Mai.xlsx\") "
   ]
  },
  {
   "cell_type": "code",
   "execution_count": null,
   "metadata": {},
   "outputs": [],
   "source": []
  }
 ],
 "metadata": {
  "kernelspec": {
   "display_name": "Python 3",
   "language": "python",
   "name": "python3"
  },
  "language_info": {
   "codemirror_mode": {
    "name": "ipython",
    "version": 3
   },
   "file_extension": ".py",
   "mimetype": "text/x-python",
   "name": "python",
   "nbconvert_exporter": "python",
   "pygments_lexer": "ipython3",
   "version": "3.7.6"
  }
 },
 "nbformat": 4,
 "nbformat_minor": 2
}
