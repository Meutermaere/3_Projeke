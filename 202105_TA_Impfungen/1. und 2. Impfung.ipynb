{
 "cells": [
  {
   "cell_type": "code",
   "execution_count": 77,
   "metadata": {},
   "outputs": [],
   "source": [
    "import pandas as pd"
   ]
  },
  {
   "cell_type": "code",
   "execution_count": 78,
   "metadata": {},
   "outputs": [],
   "source": [
    "path1 = \"COVID19VaccDosesAdministered.csv\"\n",
    "path2 = \"COVID19FullyVaccPersons.csv\""
   ]
  },
  {
   "cell_type": "code",
   "execution_count": 79,
   "metadata": {},
   "outputs": [],
   "source": [
    "#deliv = verimpft, admin = komplett geimpfte personen\n",
    "df_deliv = pd.read_csv(path1)\n",
    "df_admin = pd.read_csv(path2)"
   ]
  },
  {
   "cell_type": "markdown",
   "metadata": {},
   "source": [
    "## Nur jüngstes Datum"
   ]
  },
  {
   "cell_type": "code",
   "execution_count": 80,
   "metadata": {},
   "outputs": [],
   "source": [
    "df_deliv_Mai = df_deliv[df_deliv[\"date\"] == \"2021-03-01\"]\n",
    "df_admin_Mai = df_admin[df_admin[\"date\"] == \"2021-03-01\"]"
   ]
  },
  {
   "cell_type": "code",
   "execution_count": 81,
   "metadata": {},
   "outputs": [],
   "source": [
    "#grosse Kantone rausfiltern\n",
    "df_deliv_MaiGross = df_deliv_Mai[(df_deliv_Mai[\"pop\"] > 800000) & (df_deliv_Mai[\"pop\"] < 1600000)]\n",
    "df_admin_MaiGross = df_admin_Mai[(df_admin_Mai[\"pop\"] > 800000) & (df_admin_Mai[\"pop\"] < 1600000)]"
   ]
  },
  {
   "cell_type": "code",
   "execution_count": 82,
   "metadata": {},
   "outputs": [
    {
     "data": {
      "text/plain": [
       "Index(['date', 'geoRegion', 'entries', 'pop', 'sumTotal', 'per100Persons',\n",
       "       'per100Persons_mean7d', 'per100PersonsTotal', 'mean7d', 'type',\n",
       "       'version', 'granularity'],\n",
       "      dtype='object')"
      ]
     },
     "execution_count": 82,
     "metadata": {},
     "output_type": "execute_result"
    }
   ],
   "source": [
    "df_admin_Mai.columns"
   ]
  },
  {
   "cell_type": "code",
   "execution_count": 83,
   "metadata": {},
   "outputs": [],
   "source": [
    "# weglöschen der unnötigen Zahlen\n",
    "df_deliv_MaiGross = df_deliv_MaiGross.drop(['type', 'version', 'granularity'], axis = 1)\n",
    "df_admin_MaiGross = df_admin_MaiGross.drop(['type',\n",
    "       'version', 'granularity'], axis = 1)"
   ]
  },
  {
   "cell_type": "code",
   "execution_count": 84,
   "metadata": {},
   "outputs": [
    {
     "data": {
      "text/html": [
       "<div>\n",
       "<style scoped>\n",
       "    .dataframe tbody tr th:only-of-type {\n",
       "        vertical-align: middle;\n",
       "    }\n",
       "\n",
       "    .dataframe tbody tr th {\n",
       "        vertical-align: top;\n",
       "    }\n",
       "\n",
       "    .dataframe thead th {\n",
       "        text-align: right;\n",
       "    }\n",
       "</style>\n",
       "<table border=\"1\" class=\"dataframe\">\n",
       "  <thead>\n",
       "    <tr style=\"text-align: right;\">\n",
       "      <th></th>\n",
       "      <th>date</th>\n",
       "      <th>geoRegion</th>\n",
       "      <th>entries</th>\n",
       "      <th>pop</th>\n",
       "      <th>SumVerimpft</th>\n",
       "      <th>per100Persons</th>\n",
       "      <th>per100Persons_mean7d</th>\n",
       "      <th>per100PersonsTotal</th>\n",
       "      <th>mean7d</th>\n",
       "    </tr>\n",
       "  </thead>\n",
       "  <tbody>\n",
       "    <tr>\n",
       "      <th>0</th>\n",
       "      <td>2021-03-01</td>\n",
       "      <td>BE</td>\n",
       "      <td>3139.0</td>\n",
       "      <td>1039474</td>\n",
       "      <td>91303</td>\n",
       "      <td>0.30</td>\n",
       "      <td>0.22</td>\n",
       "      <td>8.78</td>\n",
       "      <td>2271.43</td>\n",
       "    </tr>\n",
       "    <tr>\n",
       "      <th>1</th>\n",
       "      <td>2021-03-01</td>\n",
       "      <td>VD</td>\n",
       "      <td>2519.0</td>\n",
       "      <td>805098</td>\n",
       "      <td>82732</td>\n",
       "      <td>0.31</td>\n",
       "      <td>0.21</td>\n",
       "      <td>10.28</td>\n",
       "      <td>1726.29</td>\n",
       "    </tr>\n",
       "    <tr>\n",
       "      <th>2</th>\n",
       "      <td>2021-03-01</td>\n",
       "      <td>ZH</td>\n",
       "      <td>1812.0</td>\n",
       "      <td>1539275</td>\n",
       "      <td>122022</td>\n",
       "      <td>0.12</td>\n",
       "      <td>0.19</td>\n",
       "      <td>7.93</td>\n",
       "      <td>2912.43</td>\n",
       "    </tr>\n",
       "  </tbody>\n",
       "</table>\n",
       "</div>"
      ],
      "text/plain": [
       "         date geoRegion  entries      pop  SumVerimpft  per100Persons  \\\n",
       "0  2021-03-01        BE   3139.0  1039474        91303           0.30   \n",
       "1  2021-03-01        VD   2519.0   805098        82732           0.31   \n",
       "2  2021-03-01        ZH   1812.0  1539275       122022           0.12   \n",
       "\n",
       "   per100Persons_mean7d  per100PersonsTotal   mean7d  \n",
       "0                  0.22                8.78  2271.43  \n",
       "1                  0.21               10.28  1726.29  \n",
       "2                  0.19                7.93  2912.43  "
      ]
     },
     "execution_count": 84,
     "metadata": {},
     "output_type": "execute_result"
    }
   ],
   "source": [
    "#index reseten, um die beiden DFs verbinden zu können\n",
    "df_deliv_MaiGross.reset_index(drop = True, inplace = True)\n",
    "df_deliv_MaiGross.rename(columns={\"sumTotal\": \"SumVerimpft\"}, inplace = True)\n",
    "df_deliv_MaiGross"
   ]
  },
  {
   "cell_type": "code",
   "execution_count": 85,
   "metadata": {},
   "outputs": [
    {
     "data": {
      "text/html": [
       "<div>\n",
       "<style scoped>\n",
       "    .dataframe tbody tr th:only-of-type {\n",
       "        vertical-align: middle;\n",
       "    }\n",
       "\n",
       "    .dataframe tbody tr th {\n",
       "        vertical-align: top;\n",
       "    }\n",
       "\n",
       "    .dataframe thead th {\n",
       "        text-align: right;\n",
       "    }\n",
       "</style>\n",
       "<table border=\"1\" class=\"dataframe\">\n",
       "  <thead>\n",
       "    <tr style=\"text-align: right;\">\n",
       "      <th></th>\n",
       "      <th>date</th>\n",
       "      <th>geoRegion</th>\n",
       "      <th>entries</th>\n",
       "      <th>pop</th>\n",
       "      <th>SumKomplett</th>\n",
       "      <th>per100Persons</th>\n",
       "      <th>per100Persons_mean7d</th>\n",
       "      <th>per100PersonsTotal</th>\n",
       "      <th>mean7d</th>\n",
       "    </tr>\n",
       "  </thead>\n",
       "  <tbody>\n",
       "    <tr>\n",
       "      <th>0</th>\n",
       "      <td>2021-03-01</td>\n",
       "      <td>BE</td>\n",
       "      <td>2348.0</td>\n",
       "      <td>1039474</td>\n",
       "      <td>27066</td>\n",
       "      <td>0.23</td>\n",
       "      <td>0.16</td>\n",
       "      <td>2.60</td>\n",
       "      <td>1615.00</td>\n",
       "    </tr>\n",
       "    <tr>\n",
       "      <th>1</th>\n",
       "      <td>2021-03-01</td>\n",
       "      <td>VD</td>\n",
       "      <td>1099.0</td>\n",
       "      <td>805098</td>\n",
       "      <td>26283</td>\n",
       "      <td>0.14</td>\n",
       "      <td>0.10</td>\n",
       "      <td>3.26</td>\n",
       "      <td>843.00</td>\n",
       "    </tr>\n",
       "    <tr>\n",
       "      <th>2</th>\n",
       "      <td>2021-03-01</td>\n",
       "      <td>ZH</td>\n",
       "      <td>1566.0</td>\n",
       "      <td>1539275</td>\n",
       "      <td>38195</td>\n",
       "      <td>0.10</td>\n",
       "      <td>0.15</td>\n",
       "      <td>2.48</td>\n",
       "      <td>2369.43</td>\n",
       "    </tr>\n",
       "  </tbody>\n",
       "</table>\n",
       "</div>"
      ],
      "text/plain": [
       "         date geoRegion  entries      pop  SumKomplett  per100Persons  \\\n",
       "0  2021-03-01        BE   2348.0  1039474        27066           0.23   \n",
       "1  2021-03-01        VD   1099.0   805098        26283           0.14   \n",
       "2  2021-03-01        ZH   1566.0  1539275        38195           0.10   \n",
       "\n",
       "   per100Persons_mean7d  per100PersonsTotal   mean7d  \n",
       "0                  0.16                2.60  1615.00  \n",
       "1                  0.10                3.26   843.00  \n",
       "2                  0.15                2.48  2369.43  "
      ]
     },
     "execution_count": 85,
     "metadata": {},
     "output_type": "execute_result"
    }
   ],
   "source": [
    "df_admin_MaiGross.reset_index(drop = True, inplace = True)\n",
    "df_admin_MaiGross.rename(columns={\"sumTotal\": \"SumKomplett\"}, inplace = True)\n",
    "df_admin_MaiGross"
   ]
  },
  {
   "cell_type": "code",
   "execution_count": 86,
   "metadata": {},
   "outputs": [],
   "source": [
    "df_erstimpfungen = pd.concat([df_deliv_MaiGross, df_admin_MaiGross[\"SumKomplett\"]], axis=1, join=\"outer\")\n",
    "df_erstimpfungen[\"Erstimpfung\"] = df_erstimpfungen[\"SumVerimpft\"] - (2*df_erstimpfungen[\"SumKomplett\"])\n",
    "df_erstimpfungen[\"2te_inprozent\"] = (100/df_erstimpfungen[\"pop\"] * df_erstimpfungen[\"SumKomplett\"]).round(1)\n",
    "df_erstimpfungen[\"1te_inprozent\"] = (100/df_erstimpfungen[\"pop\"] * df_erstimpfungen[\"Erstimpfung\"]).round(1)"
   ]
  },
  {
   "cell_type": "code",
   "execution_count": 87,
   "metadata": {},
   "outputs": [],
   "source": [
    "df_erstimpfungen = df_erstimpfungen.drop(['entries', 'pop', 'SumVerimpft', 'per100Persons',\n",
    "       'per100Persons_mean7d', 'per100PersonsTotal', 'mean7d', 'SumKomplett',\n",
    "       'Erstimpfung'], axis = 1)"
   ]
  },
  {
   "cell_type": "code",
   "execution_count": 88,
   "metadata": {},
   "outputs": [
    {
     "data": {
      "text/html": [
       "<div>\n",
       "<style scoped>\n",
       "    .dataframe tbody tr th:only-of-type {\n",
       "        vertical-align: middle;\n",
       "    }\n",
       "\n",
       "    .dataframe tbody tr th {\n",
       "        vertical-align: top;\n",
       "    }\n",
       "\n",
       "    .dataframe thead th {\n",
       "        text-align: right;\n",
       "    }\n",
       "</style>\n",
       "<table border=\"1\" class=\"dataframe\">\n",
       "  <thead>\n",
       "    <tr style=\"text-align: right;\">\n",
       "      <th></th>\n",
       "      <th>date</th>\n",
       "      <th>geoRegion</th>\n",
       "      <th>2te_inprozent</th>\n",
       "      <th>1te_inprozent</th>\n",
       "    </tr>\n",
       "  </thead>\n",
       "  <tbody>\n",
       "    <tr>\n",
       "      <th>0</th>\n",
       "      <td>2021-03-01</td>\n",
       "      <td>BE</td>\n",
       "      <td>2.6</td>\n",
       "      <td>3.6</td>\n",
       "    </tr>\n",
       "    <tr>\n",
       "      <th>1</th>\n",
       "      <td>2021-03-01</td>\n",
       "      <td>VD</td>\n",
       "      <td>3.3</td>\n",
       "      <td>3.7</td>\n",
       "    </tr>\n",
       "    <tr>\n",
       "      <th>2</th>\n",
       "      <td>2021-03-01</td>\n",
       "      <td>ZH</td>\n",
       "      <td>2.5</td>\n",
       "      <td>3.0</td>\n",
       "    </tr>\n",
       "  </tbody>\n",
       "</table>\n",
       "</div>"
      ],
      "text/plain": [
       "         date geoRegion  2te_inprozent  1te_inprozent\n",
       "0  2021-03-01        BE            2.6            3.6\n",
       "1  2021-03-01        VD            3.3            3.7\n",
       "2  2021-03-01        ZH            2.5            3.0"
      ]
     },
     "execution_count": 88,
     "metadata": {},
     "output_type": "execute_result"
    }
   ],
   "source": [
    "df_erstimpfungen"
   ]
  },
  {
   "cell_type": "code",
   "execution_count": 89,
   "metadata": {},
   "outputs": [],
   "source": [
    "#Exportieren Excel\n",
    "df_erstimpfungen.to_excel(\"3_1und2_März.xlsx\") "
   ]
  },
  {
   "cell_type": "code",
   "execution_count": null,
   "metadata": {},
   "outputs": [],
   "source": []
  }
 ],
 "metadata": {
  "kernelspec": {
   "display_name": "Python 3",
   "language": "python",
   "name": "python3"
  },
  "language_info": {
   "codemirror_mode": {
    "name": "ipython",
    "version": 3
   },
   "file_extension": ".py",
   "mimetype": "text/x-python",
   "name": "python",
   "nbconvert_exporter": "python",
   "pygments_lexer": "ipython3",
   "version": "3.7.6"
  }
 },
 "nbformat": 4,
 "nbformat_minor": 2
}
