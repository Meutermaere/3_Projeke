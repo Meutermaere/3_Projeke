{
 "cells": [
  {
   "cell_type": "code",
   "execution_count": 1,
   "metadata": {},
   "outputs": [],
   "source": [
    "import pandas as pd"
   ]
  },
  {
   "cell_type": "code",
   "execution_count": 2,
   "metadata": {},
   "outputs": [],
   "source": [
    "path1 = \"COVID19VaccDosesDelivered.csv\"\n",
    "path2 = \"COVID19VaccDosesAdministered.csv\""
   ]
  },
  {
   "cell_type": "code",
   "execution_count": 3,
   "metadata": {},
   "outputs": [],
   "source": [
    "df_deliv = pd.read_csv(path1)\n",
    "df_admin = pd.read_csv(path2)"
   ]
  },
  {
   "cell_type": "markdown",
   "metadata": {},
   "source": [
    "## Nur 1. April"
   ]
  },
  {
   "cell_type": "code",
   "execution_count": 4,
   "metadata": {},
   "outputs": [],
   "source": [
    "df_deliv_Mai = df_deliv[df_deliv[\"date\"] == \"2021-04-01\"]\n",
    "df_admin_Mai = df_admin[df_admin[\"date\"] == \"2021-04-01\"]"
   ]
  },
  {
   "cell_type": "code",
   "execution_count": 5,
   "metadata": {},
   "outputs": [],
   "source": [
    "#grosse Kantone rausfiltern\n",
    "df_deliv_MaiGross = df_deliv_Mai[(df_deliv_Mai[\"pop\"] > 800000) & (df_deliv_Mai[\"pop\"] < 1600000)]\n",
    "df_admin_MaiGross = df_admin_Mai[(df_admin_Mai[\"pop\"] > 800000) & (df_admin_Mai[\"pop\"] < 1600000)]"
   ]
  },
  {
   "cell_type": "code",
   "execution_count": 6,
   "metadata": {},
   "outputs": [
    {
     "data": {
      "text/plain": [
       "Index(['date', 'geoRegion', 'entries', 'pop', 'sumTotal', 'per100Persons',\n",
       "       'per100Persons_mean7d', 'per100PersonsTotal', 'mean7d', 'type',\n",
       "       'version', 'granularity'],\n",
       "      dtype='object')"
      ]
     },
     "execution_count": 6,
     "metadata": {},
     "output_type": "execute_result"
    }
   ],
   "source": [
    "df_admin_Mai.columns"
   ]
  },
  {
   "cell_type": "code",
   "execution_count": 7,
   "metadata": {},
   "outputs": [],
   "source": [
    "# weglöschen der unnötigen Zahlen\n",
    "df_deliv_MaiGross = df_deliv_MaiGross.drop(['type', 'version'], axis = 1)\n",
    "df_admin_MaiGross = df_admin_MaiGross.drop(['pop', 'per100Persons',\n",
    "       'per100Persons_mean7d', 'per100PersonsTotal', 'mean7d', 'type',\n",
    "       'version', 'granularity'], axis = 1)"
   ]
  },
  {
   "cell_type": "code",
   "execution_count": 8,
   "metadata": {},
   "outputs": [
    {
     "data": {
      "text/html": [
       "<div>\n",
       "<style scoped>\n",
       "    .dataframe tbody tr th:only-of-type {\n",
       "        vertical-align: middle;\n",
       "    }\n",
       "\n",
       "    .dataframe tbody tr th {\n",
       "        vertical-align: top;\n",
       "    }\n",
       "\n",
       "    .dataframe thead th {\n",
       "        text-align: right;\n",
       "    }\n",
       "</style>\n",
       "<table border=\"1\" class=\"dataframe\">\n",
       "  <thead>\n",
       "    <tr style=\"text-align: right;\">\n",
       "      <th></th>\n",
       "      <th>geoRegion</th>\n",
       "      <th>date</th>\n",
       "      <th>pop</th>\n",
       "      <th>sumTotal</th>\n",
       "      <th>per100PersonsTotal</th>\n",
       "    </tr>\n",
       "  </thead>\n",
       "  <tbody>\n",
       "    <tr>\n",
       "      <th>0</th>\n",
       "      <td>BE</td>\n",
       "      <td>2021-04-01</td>\n",
       "      <td>1039474</td>\n",
       "      <td>237525</td>\n",
       "      <td>22.85</td>\n",
       "    </tr>\n",
       "    <tr>\n",
       "      <th>1</th>\n",
       "      <td>VD</td>\n",
       "      <td>2021-04-01</td>\n",
       "      <td>805098</td>\n",
       "      <td>174675</td>\n",
       "      <td>21.70</td>\n",
       "    </tr>\n",
       "    <tr>\n",
       "      <th>2</th>\n",
       "      <td>ZH</td>\n",
       "      <td>2021-04-01</td>\n",
       "      <td>1539275</td>\n",
       "      <td>359375</td>\n",
       "      <td>23.35</td>\n",
       "    </tr>\n",
       "  </tbody>\n",
       "</table>\n",
       "</div>"
      ],
      "text/plain": [
       "  geoRegion        date      pop  sumTotal  per100PersonsTotal\n",
       "0        BE  2021-04-01  1039474    237525               22.85\n",
       "1        VD  2021-04-01   805098    174675               21.70\n",
       "2        ZH  2021-04-01  1539275    359375               23.35"
      ]
     },
     "execution_count": 8,
     "metadata": {},
     "output_type": "execute_result"
    }
   ],
   "source": [
    "#index reseten, um die beiden DFs verbinden zu können\n",
    "df_deliv_MaiGross.reset_index(drop = True, inplace = True)\n",
    "df_deliv_MaiGross"
   ]
  },
  {
   "cell_type": "code",
   "execution_count": 9,
   "metadata": {},
   "outputs": [],
   "source": [
    "df_admin_MaiGross.reset_index(drop = True, inplace = True)\n",
    "df_admin_MaiGross.rename(columns={\"sumTotal\": \"verimpft\"}, inplace = True)"
   ]
  },
  {
   "cell_type": "code",
   "execution_count": 10,
   "metadata": {},
   "outputs": [],
   "source": [
    "df_bunker = pd.concat([df_deliv_MaiGross, df_admin_MaiGross[\"verimpft\"]], axis=1, join=\"outer\")"
   ]
  },
  {
   "cell_type": "code",
   "execution_count": 11,
   "metadata": {},
   "outputs": [
    {
     "data": {
      "text/html": [
       "<div>\n",
       "<style scoped>\n",
       "    .dataframe tbody tr th:only-of-type {\n",
       "        vertical-align: middle;\n",
       "    }\n",
       "\n",
       "    .dataframe tbody tr th {\n",
       "        vertical-align: top;\n",
       "    }\n",
       "\n",
       "    .dataframe thead th {\n",
       "        text-align: right;\n",
       "    }\n",
       "</style>\n",
       "<table border=\"1\" class=\"dataframe\">\n",
       "  <thead>\n",
       "    <tr style=\"text-align: right;\">\n",
       "      <th></th>\n",
       "      <th>geoRegion</th>\n",
       "      <th>date</th>\n",
       "      <th>pop</th>\n",
       "      <th>sumTotal</th>\n",
       "      <th>per100PersonsTotal</th>\n",
       "      <th>verimpft</th>\n",
       "    </tr>\n",
       "  </thead>\n",
       "  <tbody>\n",
       "    <tr>\n",
       "      <th>0</th>\n",
       "      <td>BE</td>\n",
       "      <td>2021-04-01</td>\n",
       "      <td>1039474</td>\n",
       "      <td>237525</td>\n",
       "      <td>22.85</td>\n",
       "      <td>184114</td>\n",
       "    </tr>\n",
       "    <tr>\n",
       "      <th>1</th>\n",
       "      <td>VD</td>\n",
       "      <td>2021-04-01</td>\n",
       "      <td>805098</td>\n",
       "      <td>174675</td>\n",
       "      <td>21.70</td>\n",
       "      <td>154703</td>\n",
       "    </tr>\n",
       "    <tr>\n",
       "      <th>2</th>\n",
       "      <td>ZH</td>\n",
       "      <td>2021-04-01</td>\n",
       "      <td>1539275</td>\n",
       "      <td>359375</td>\n",
       "      <td>23.35</td>\n",
       "      <td>215061</td>\n",
       "    </tr>\n",
       "  </tbody>\n",
       "</table>\n",
       "</div>"
      ],
      "text/plain": [
       "  geoRegion        date      pop  sumTotal  per100PersonsTotal  verimpft\n",
       "0        BE  2021-04-01  1039474    237525               22.85    184114\n",
       "1        VD  2021-04-01   805098    174675               21.70    154703\n",
       "2        ZH  2021-04-01  1539275    359375               23.35    215061"
      ]
     },
     "execution_count": 11,
     "metadata": {},
     "output_type": "execute_result"
    }
   ],
   "source": [
    "df_bunker"
   ]
  },
  {
   "cell_type": "code",
   "execution_count": 12,
   "metadata": {},
   "outputs": [],
   "source": [
    "df_bunker[\"gebunkert\"] = df_bunker[\"sumTotal\"] - df_bunker[\"verimpft\"]\n",
    "df_bunker[\"gebunkert_Anteil\"] = 100/df_bunker[\"sumTotal\"]*df_bunker[\"gebunkert\"].round(1)"
   ]
  },
  {
   "cell_type": "code",
   "execution_count": 13,
   "metadata": {},
   "outputs": [
    {
     "data": {
      "text/html": [
       "<div>\n",
       "<style scoped>\n",
       "    .dataframe tbody tr th:only-of-type {\n",
       "        vertical-align: middle;\n",
       "    }\n",
       "\n",
       "    .dataframe tbody tr th {\n",
       "        vertical-align: top;\n",
       "    }\n",
       "\n",
       "    .dataframe thead th {\n",
       "        text-align: right;\n",
       "    }\n",
       "</style>\n",
       "<table border=\"1\" class=\"dataframe\">\n",
       "  <thead>\n",
       "    <tr style=\"text-align: right;\">\n",
       "      <th></th>\n",
       "      <th>geoRegion</th>\n",
       "      <th>date</th>\n",
       "      <th>pop</th>\n",
       "      <th>sumTotal</th>\n",
       "      <th>per100PersonsTotal</th>\n",
       "      <th>verimpft</th>\n",
       "      <th>gebunkert</th>\n",
       "      <th>gebunkert_Anteil</th>\n",
       "    </tr>\n",
       "  </thead>\n",
       "  <tbody>\n",
       "    <tr>\n",
       "      <th>0</th>\n",
       "      <td>BE</td>\n",
       "      <td>2021-04-01</td>\n",
       "      <td>1039474</td>\n",
       "      <td>237525</td>\n",
       "      <td>22.85</td>\n",
       "      <td>184114</td>\n",
       "      <td>53411</td>\n",
       "      <td>22.486475</td>\n",
       "    </tr>\n",
       "    <tr>\n",
       "      <th>1</th>\n",
       "      <td>VD</td>\n",
       "      <td>2021-04-01</td>\n",
       "      <td>805098</td>\n",
       "      <td>174675</td>\n",
       "      <td>21.70</td>\n",
       "      <td>154703</td>\n",
       "      <td>19972</td>\n",
       "      <td>11.433806</td>\n",
       "    </tr>\n",
       "    <tr>\n",
       "      <th>2</th>\n",
       "      <td>ZH</td>\n",
       "      <td>2021-04-01</td>\n",
       "      <td>1539275</td>\n",
       "      <td>359375</td>\n",
       "      <td>23.35</td>\n",
       "      <td>215061</td>\n",
       "      <td>144314</td>\n",
       "      <td>40.156939</td>\n",
       "    </tr>\n",
       "  </tbody>\n",
       "</table>\n",
       "</div>"
      ],
      "text/plain": [
       "  geoRegion        date      pop  sumTotal  per100PersonsTotal  verimpft  \\\n",
       "0        BE  2021-04-01  1039474    237525               22.85    184114   \n",
       "1        VD  2021-04-01   805098    174675               21.70    154703   \n",
       "2        ZH  2021-04-01  1539275    359375               23.35    215061   \n",
       "\n",
       "   gebunkert  gebunkert_Anteil  \n",
       "0      53411         22.486475  \n",
       "1      19972         11.433806  \n",
       "2     144314         40.156939  "
      ]
     },
     "execution_count": 13,
     "metadata": {},
     "output_type": "execute_result"
    }
   ],
   "source": [
    "df_bunker"
   ]
  },
  {
   "cell_type": "code",
   "execution_count": 14,
   "metadata": {},
   "outputs": [],
   "source": [
    "#Exportieren Excel\n",
    "df_bunker.to_excel(\"2_gebunkert_April.xlsx\") "
   ]
  },
  {
   "cell_type": "code",
   "execution_count": null,
   "metadata": {},
   "outputs": [],
   "source": []
  }
 ],
 "metadata": {
  "kernelspec": {
   "display_name": "Python 3",
   "language": "python",
   "name": "python3"
  },
  "language_info": {
   "codemirror_mode": {
    "name": "ipython",
    "version": 3
   },
   "file_extension": ".py",
   "mimetype": "text/x-python",
   "name": "python",
   "nbconvert_exporter": "python",
   "pygments_lexer": "ipython3",
   "version": "3.7.6"
  }
 },
 "nbformat": 4,
 "nbformat_minor": 2
}
