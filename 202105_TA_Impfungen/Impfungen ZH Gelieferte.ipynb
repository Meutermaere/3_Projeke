{
 "cells": [
  {
   "cell_type": "code",
   "execution_count": 3,
   "metadata": {},
   "outputs": [],
   "source": [
    "import pandas as pd"
   ]
  },
  {
   "cell_type": "code",
   "execution_count": 4,
   "metadata": {},
   "outputs": [],
   "source": [
    "path = \"COVID19VaccDosesDelivered.csv\""
   ]
  },
  {
   "cell_type": "code",
   "execution_count": 5,
   "metadata": {},
   "outputs": [],
   "source": [
    "df_impf1 = pd.read_csv(path)"
   ]
  },
  {
   "cell_type": "code",
   "execution_count": 18,
   "metadata": {},
   "outputs": [
    {
     "data": {
      "text/html": [
       "<div>\n",
       "<style scoped>\n",
       "    .dataframe tbody tr th:only-of-type {\n",
       "        vertical-align: middle;\n",
       "    }\n",
       "\n",
       "    .dataframe tbody tr th {\n",
       "        vertical-align: top;\n",
       "    }\n",
       "\n",
       "    .dataframe thead th {\n",
       "        text-align: right;\n",
       "    }\n",
       "</style>\n",
       "<table border=\"1\" class=\"dataframe\">\n",
       "  <thead>\n",
       "    <tr style=\"text-align: right;\">\n",
       "      <th></th>\n",
       "      <th>geoRegion</th>\n",
       "      <th>date</th>\n",
       "      <th>pop</th>\n",
       "      <th>sumTotal</th>\n",
       "      <th>per100PersonsTotal</th>\n",
       "      <th>type</th>\n",
       "      <th>version</th>\n",
       "    </tr>\n",
       "  </thead>\n",
       "  <tbody>\n",
       "    <tr>\n",
       "      <th>2868</th>\n",
       "      <td>ZH</td>\n",
       "      <td>2021-04-30</td>\n",
       "      <td>1539275</td>\n",
       "      <td>504175</td>\n",
       "      <td>32.75</td>\n",
       "      <td>COVID19VaccDosesDelivered</td>\n",
       "      <td>2021-05-02_18-00-00</td>\n",
       "    </tr>\n",
       "    <tr>\n",
       "      <th>2869</th>\n",
       "      <td>ZH</td>\n",
       "      <td>2021-05-01</td>\n",
       "      <td>1539275</td>\n",
       "      <td>504175</td>\n",
       "      <td>32.75</td>\n",
       "      <td>COVID19VaccDosesDelivered</td>\n",
       "      <td>2021-05-02_18-00-00</td>\n",
       "    </tr>\n",
       "    <tr>\n",
       "      <th>2870</th>\n",
       "      <td>ZH</td>\n",
       "      <td>2021-05-02</td>\n",
       "      <td>1539275</td>\n",
       "      <td>524650</td>\n",
       "      <td>34.08</td>\n",
       "      <td>COVID19VaccDosesDelivered</td>\n",
       "      <td>2021-05-02_18-00-00</td>\n",
       "    </tr>\n",
       "  </tbody>\n",
       "</table>\n",
       "</div>"
      ],
      "text/plain": [
       "     geoRegion        date      pop  sumTotal  per100PersonsTotal  \\\n",
       "2868        ZH  2021-04-30  1539275    504175               32.75   \n",
       "2869        ZH  2021-05-01  1539275    504175               32.75   \n",
       "2870        ZH  2021-05-02  1539275    524650               34.08   \n",
       "\n",
       "                           type              version  \n",
       "2868  COVID19VaccDosesDelivered  2021-05-02_18-00-00  \n",
       "2869  COVID19VaccDosesDelivered  2021-05-02_18-00-00  \n",
       "2870  COVID19VaccDosesDelivered  2021-05-02_18-00-00  "
      ]
     },
     "execution_count": 18,
     "metadata": {},
     "output_type": "execute_result"
    }
   ],
   "source": [
    "df_impf1[df_impf1[\"geoRegion\"] == \"ZH\"].tail(3)"
   ]
  },
  {
   "cell_type": "markdown",
   "metadata": {},
   "source": [
    "## Nur jüngstes Datum"
   ]
  },
  {
   "cell_type": "code",
   "execution_count": 20,
   "metadata": {},
   "outputs": [],
   "source": [
    "df_Mai = df_impf1[df_impf1[\"date\"] == \"2021-05-02\"]"
   ]
  },
  {
   "cell_type": "code",
   "execution_count": 21,
   "metadata": {},
   "outputs": [],
   "source": [
    "#grosse Kantone rausfiltern\n",
    "df_MaiGross = df_Mai[(df_Mai[\"pop\"] > 800000) & (df_Mai[\"pop\"] < 1600000)]"
   ]
  },
  {
   "cell_type": "code",
   "execution_count": 22,
   "metadata": {},
   "outputs": [
    {
     "data": {
      "text/plain": [
       "Index(['geoRegion', 'date', 'pop', 'sumTotal', 'per100PersonsTotal', 'type',\n",
       "       'version'],\n",
       "      dtype='object')"
      ]
     },
     "execution_count": 22,
     "metadata": {},
     "output_type": "execute_result"
    }
   ],
   "source": [
    "df_Mai.columns"
   ]
  },
  {
   "cell_type": "code",
   "execution_count": 23,
   "metadata": {},
   "outputs": [
    {
     "data": {
      "text/html": [
       "<div>\n",
       "<style scoped>\n",
       "    .dataframe tbody tr th:only-of-type {\n",
       "        vertical-align: middle;\n",
       "    }\n",
       "\n",
       "    .dataframe tbody tr th {\n",
       "        vertical-align: top;\n",
       "    }\n",
       "\n",
       "    .dataframe thead th {\n",
       "        text-align: right;\n",
       "    }\n",
       "</style>\n",
       "<table border=\"1\" class=\"dataframe\">\n",
       "  <thead>\n",
       "    <tr style=\"text-align: right;\">\n",
       "      <th></th>\n",
       "      <th>geoRegion</th>\n",
       "      <th>date</th>\n",
       "      <th>pop</th>\n",
       "      <th>sumTotal</th>\n",
       "      <th>per100PersonsTotal</th>\n",
       "      <th>type</th>\n",
       "      <th>version</th>\n",
       "    </tr>\n",
       "  </thead>\n",
       "  <tbody>\n",
       "    <tr>\n",
       "      <th>395</th>\n",
       "      <td>BE</td>\n",
       "      <td>2021-05-02</td>\n",
       "      <td>1039474</td>\n",
       "      <td>398025</td>\n",
       "      <td>38.29</td>\n",
       "      <td>COVID19VaccDosesDelivered</td>\n",
       "      <td>2021-05-02_18-00-00</td>\n",
       "    </tr>\n",
       "    <tr>\n",
       "      <th>2573</th>\n",
       "      <td>VD</td>\n",
       "      <td>2021-05-02</td>\n",
       "      <td>805098</td>\n",
       "      <td>277350</td>\n",
       "      <td>34.45</td>\n",
       "      <td>COVID19VaccDosesDelivered</td>\n",
       "      <td>2021-05-02_18-00-00</td>\n",
       "    </tr>\n",
       "    <tr>\n",
       "      <th>2870</th>\n",
       "      <td>ZH</td>\n",
       "      <td>2021-05-02</td>\n",
       "      <td>1539275</td>\n",
       "      <td>524650</td>\n",
       "      <td>34.08</td>\n",
       "      <td>COVID19VaccDosesDelivered</td>\n",
       "      <td>2021-05-02_18-00-00</td>\n",
       "    </tr>\n",
       "  </tbody>\n",
       "</table>\n",
       "</div>"
      ],
      "text/plain": [
       "     geoRegion        date      pop  sumTotal  per100PersonsTotal  \\\n",
       "395         BE  2021-05-02  1039474    398025               38.29   \n",
       "2573        VD  2021-05-02   805098    277350               34.45   \n",
       "2870        ZH  2021-05-02  1539275    524650               34.08   \n",
       "\n",
       "                           type              version  \n",
       "395   COVID19VaccDosesDelivered  2021-05-02_18-00-00  \n",
       "2573  COVID19VaccDosesDelivered  2021-05-02_18-00-00  \n",
       "2870  COVID19VaccDosesDelivered  2021-05-02_18-00-00  "
      ]
     },
     "execution_count": 23,
     "metadata": {},
     "output_type": "execute_result"
    }
   ],
   "source": [
    "df_MaiGross"
   ]
  },
  {
   "cell_type": "code",
   "execution_count": 24,
   "metadata": {},
   "outputs": [],
   "source": [
    "#Exportieren Excel\n",
    "df_MaiGross.to_excel(\"1_geliefert_April.xlsx\") "
   ]
  },
  {
   "cell_type": "code",
   "execution_count": null,
   "metadata": {},
   "outputs": [],
   "source": []
  }
 ],
 "metadata": {
  "kernelspec": {
   "display_name": "Python 3",
   "language": "python",
   "name": "python3"
  },
  "language_info": {
   "codemirror_mode": {
    "name": "ipython",
    "version": 3
   },
   "file_extension": ".py",
   "mimetype": "text/x-python",
   "name": "python",
   "nbconvert_exporter": "python",
   "pygments_lexer": "ipython3",
   "version": "3.7.6"
  }
 },
 "nbformat": 4,
 "nbformat_minor": 2
}
